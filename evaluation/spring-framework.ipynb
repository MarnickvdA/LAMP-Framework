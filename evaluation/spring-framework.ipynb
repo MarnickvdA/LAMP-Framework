{
 "cells": [
  {
   "cell_type": "code",
   "execution_count": 345,
   "metadata": {
    "collapsed": true
   },
   "outputs": [],
   "source": [
    "import pandas as pd\n",
    "import numpy as np\n",
    "\n",
    "%matplotlib inline\n",
    "import matplotlib.pyplot as plt"
   ]
  },
  {
   "cell_type": "markdown",
   "source": [
    "# Evaluation of the LAMP framework\n",
    "To start, transform and evaluate the spring-framework\n",
    "```\n",
    "# Clone and checkout\n",
    "cd input && git clone https://github.com/spring-projects/spring-framework.git && git checkout fa1ef1dc && cd ..\n",
    "\n",
    "# In the TUI:\n",
    "transform -in input/spring-framework/spring-core/src/main/java -out out/spring\n",
    "evaluate -in out/spring -out evaluation/data/lamp-spring\n",
    "```"
   ],
   "metadata": {
    "collapsed": false
   }
  },
  {
   "cell_type": "markdown",
   "source": [],
   "metadata": {
    "collapsed": false
   }
  },
  {
   "cell_type": "markdown",
   "source": [
    "# Designite Metrics"
   ],
   "metadata": {
    "collapsed": false
   }
  },
  {
   "cell_type": "code",
   "execution_count": 346,
   "outputs": [],
   "source": [
    "df_types = pd.read_csv('data/designite-spring/TypeMetrics.csv', usecols=[\"Package Name\", \"Type Name\", \"NOF\", \"NOM\", \"NOPF\", \"NOPM\", \"LOC\", \"WMC\", \"NC\", \"DIT\", \"LCOM\", \"FANIN\", \"FANOUT\"])\n",
    "df_types.insert(0, \"DeclarableId\", df_types[['Package Name', 'Type Name']].agg('.'.join, axis=1))\n",
    "df_types.drop([\"Package Name\", \"Type Name\"], axis=\"columns\", inplace=True)\n",
    "\n",
    "df_methods = pd.read_csv('data/designite-spring/MethodMetrics.csv', usecols=[\"Package Name\", \"Type Name\", \"Method Name\", \"LOC\", \"CC\", \"PC\"])\n",
    "df_methods.insert(0, \"DeclarableId\", df_methods[['Package Name', 'Type Name']].agg('.'.join, axis=1))\n",
    "df_methods[\"DeclarableId\"] = df_methods[['DeclarableId', 'Method Name']].agg('://'.join, axis=1)\n",
    "df_methods.drop([\"Package Name\", \"Type Name\", \"Method Name\"], axis=\"columns\", inplace=True)"
   ],
   "metadata": {
    "collapsed": false
   }
  },
  {
   "cell_type": "code",
   "execution_count": 347,
   "outputs": [
    {
     "name": "stdout",
     "output_type": "stream",
     "text": [
      "                                          DeclarableId  NOF  NOPF  NOM  NOPM  \\\n",
      "0                 org.springframework.asm.CurrentFrame    0     0    2     0   \n",
      "1       org.springframework.asm.RecordComponentVisitor    2     0    7     5   \n",
      "2                 org.springframework.asm.MethodWriter   59     0   50    31   \n",
      "3                        org.springframework.asm.Label   28     1   12     3   \n",
      "4                         org.springframework.asm.Type   27    21   36    31   \n",
      "..                                                 ...  ...   ...  ...   ...   \n",
      "869    org.springframework.aot.generate.GeneratedClass    6     0   12     5   \n",
      "870    org.springframework.aot.generate.GeneratedFiles    0     0   13     0   \n",
      "871  org.springframework.aot.generate.GeneratedFile...    0     0    0     0   \n",
      "872        org.springframework.aot.generate.MethodName    3     1   10     3   \n",
      "873                org.springframework.aot.AotDetector    1     1    1     1   \n",
      "\n",
      "     LOC  WMC  NC  DIT      LCOM  FANIN  FANOUT  \n",
      "0     18    2   0    1 -1.000000      1       4  \n",
      "1     84   12   1    0  0.000000      3       4  \n",
      "2      0  299   0    1  0.060000      3      17  \n",
      "3    334   36   0    0  0.416667     21       6  \n",
      "4      0  154   0    0  0.083333     57       1  \n",
      "..   ...  ...  ..  ...       ...    ...     ...  \n",
      "869   95   13   0    0  0.000000      1       3  \n",
      "870  131   16   2    0 -1.000000      3       4  \n",
      "871   13    0   0    0 -1.000000      0       0  \n",
      "872   83   15   0    0  0.200000      2       2  \n",
      "873   18    1   0    0  0.000000      0       2  \n",
      "\n",
      "[874 rows x 12 columns]\n"
     ]
    }
   ],
   "source": [
    "print(df_types)"
   ],
   "metadata": {
    "collapsed": false
   }
  },
  {
   "cell_type": "code",
   "execution_count": 348,
   "outputs": [
    {
     "name": "stdout",
     "output_type": "stream",
     "text": [
      "                                           DeclarableId  LOC  CC  PC\n",
      "0     org.springframework.asm.CurrentFrame://Current...    3   1   1\n",
      "1        org.springframework.asm.CurrentFrame://execute    6   1   4\n",
      "2     org.springframework.asm.RecordComponentVisitor...    3   1   1\n",
      "3     org.springframework.asm.RecordComponentVisitor...    7   2   2\n",
      "4     org.springframework.asm.RecordComponentVisitor...    3   1   0\n",
      "...                                                 ...  ...  ..  ..\n",
      "5571  org.springframework.aot.generate.MethodName://...    9   3   1\n",
      "5572  org.springframework.aot.generate.MethodName://...    3   1   0\n",
      "5573  org.springframework.aot.generate.MethodName://...    3   1   1\n",
      "5574  org.springframework.aot.generate.MethodName://...   11   2   1\n",
      "5575  org.springframework.aot.AotDetector://useGener...    3   1   0\n",
      "\n",
      "[5576 rows x 4 columns]\n"
     ]
    }
   ],
   "source": [
    "print(df_methods)"
   ],
   "metadata": {
    "collapsed": false
   }
  },
  {
   "cell_type": "markdown",
   "source": [
    "# SonarQube metrics"
   ],
   "metadata": {
    "collapsed": false
   }
  },
  {
   "cell_type": "code",
   "execution_count": 349,
   "outputs": [],
   "source": [
    "# df_sonar = pd.read_csv('data/sonarqube-spring/CognitiveComplexity.csv', usecols=[\"DeclarableId\",\"S_COCO\", \"S_LOC\"])\n",
    "# df_sonar['DeclarableId'] = df_sonar['DeclarableId'].astype(str)\n",
    "# pd.to_numeric(df_sonar['S_COCO'])\n",
    "# pd.to_numeric(df_sonar['S_LOC'])\n",
    "# print(df_sonar)"
   ],
   "metadata": {
    "collapsed": false
   }
  },
  {
   "cell_type": "markdown",
   "source": [
    "# LAMP Metrics"
   ],
   "metadata": {
    "collapsed": false
   }
  },
  {
   "cell_type": "code",
   "execution_count": 350,
   "outputs": [],
   "source": [
    "df_modules = pd.read_csv('data/lamp-spring/modules.csv', usecols=[\"DeclarableId\",\"MLOC\",\"WMC\",\"CWMC\",\"DIT\",\"NOC\",\"CBO\",\"RFC\",\"LCOM\",\"NOU\",\"LC\"])\n",
    "df_units = pd.read_csv('data/lamp-spring/units.csv', usecols=[\"DeclarableId\",\"ULOC\",\"CC\",\"COCO\",\"PC\",\"LLOC\"])"
   ],
   "metadata": {
    "collapsed": false
   }
  },
  {
   "cell_type": "code",
   "execution_count": 351,
   "outputs": [
    {
     "name": "stdout",
     "output_type": "stream",
     "text": [
      "                                          DeclarableId  MLOC  WMC  CWMC  DIT  \\\n",
      "0    org.springframework.cglib.core.MethodInfoTrans...    15    5     3    0   \n",
      "1     org.springframework.cglib.core.internal.Function     3    1     0    0   \n",
      "2    org.springframework.aot.generate.GeneratedClasses    76   12     1    0   \n",
      "3    org.springframework.cglib.reflect.ConstructorD...    80    2     0    0   \n",
      "4    org.springframework.cglib.transform.impl.Undec...    12    2     0    1   \n",
      "..                                                 ...   ...  ...   ...  ...   \n",
      "628           org.springframework.core.env.Environment     6    4     0    1   \n",
      "629  org.springframework.core.type.classreading.Sim...    54   17     3    0   \n",
      "630  org.springframework.cglib.transform.Annotation...    36    9     2    1   \n",
      "631  org.springframework.core.annotation.MergedAnno...     6    2     0    0   \n",
      "632  org.springframework.core.metrics.DefaultApplic...    34    1     0    0   \n",
      "\n",
      "     NOC  CBO  RFC  LCOM  NOU  LC  \n",
      "0      0    8    4     2    2   0  \n",
      "1      0    2    1     1    1   0  \n",
      "2      0   47   23     1   11   2  \n",
      "3      0   45    4     1    2   0  \n",
      "4      0    7    4     1    2   1  \n",
      "..   ...  ...  ...   ...  ...  ..  \n",
      "628    1    0    3     3    4   0  \n",
      "629    0   24   12     1   13   0  \n",
      "630    0   25    7     1    7   0  \n",
      "631    0    0    2     2    2   0  \n",
      "632    0    4    1     1    1   0  \n",
      "\n",
      "[633 rows x 11 columns]\n"
     ]
    }
   ],
   "source": [
    "df_modules.sort_values(by=[\"DeclarableId\"])\n",
    "print(df_modules)"
   ],
   "metadata": {
    "collapsed": false
   }
  },
  {
   "cell_type": "code",
   "execution_count": 352,
   "outputs": [
    {
     "name": "stdout",
     "output_type": "stream",
     "text": [
      "                                           DeclarableId  ULOC  CC  COCO  PC  \\\n",
      "0     org.springframework.cglib.core.MethodInfoTrans...     3   1     0   0   \n",
      "1     org.springframework.cglib.core.MethodInfoTrans...     9   4     3   1   \n",
      "2     org.springframework.cglib.core.internal.Functi...     1   1     0   1   \n",
      "3     org.springframework.aot.generate.GeneratedClas...     3   1     0   1   \n",
      "4     org.springframework.aot.generate.GeneratedClas...     7   1     0   3   \n",
      "...                                                 ...   ...  ..   ...  ..   \n",
      "5460  org.springframework.cglib.transform.Annotation...     3   1     0   1   \n",
      "5461  org.springframework.cglib.transform.Annotation...     4   1     0   0   \n",
      "5462  org.springframework.core.annotation.MergedAnno...     3   1     0   1   \n",
      "5463  org.springframework.core.annotation.MergedAnno...     1   1     0   2   \n",
      "5464  org.springframework.core.metrics.DefaultApplic...     3   1     0   1   \n",
      "\n",
      "      LLOC  \n",
      "0        0  \n",
      "1        0  \n",
      "2        0  \n",
      "3        0  \n",
      "4        0  \n",
      "...    ...  \n",
      "5460     0  \n",
      "5461     0  \n",
      "5462     0  \n",
      "5463     0  \n",
      "5464     0  \n",
      "\n",
      "[5465 rows x 6 columns]\n"
     ]
    }
   ],
   "source": [
    "print(df_units)"
   ],
   "metadata": {
    "collapsed": false
   }
  },
  {
   "cell_type": "markdown",
   "source": [
    "## Distribution analysis"
   ],
   "metadata": {
    "collapsed": false
   }
  },
  {
   "cell_type": "code",
   "execution_count": 353,
   "outputs": [
    {
     "name": "stdout",
     "output_type": "stream",
     "text": [
      "              MLOC         WMC        CWMC         DIT         NOC  \\\n",
      "count   633.000000  633.000000  633.000000  633.000000  633.000000   \n",
      "mean     79.382306   20.303318   13.192733    0.353870    0.208531   \n",
      "std     164.508019   50.158038   37.252060    0.776161    0.784011   \n",
      "min       0.000000    0.000000    0.000000    0.000000    0.000000   \n",
      "25%      12.000000    3.000000    0.000000    0.000000    0.000000   \n",
      "50%      34.000000    8.000000    3.000000    0.000000    0.000000   \n",
      "75%      79.000000   19.000000   10.000000    0.000000    0.000000   \n",
      "max    2478.000000  897.000000  503.000000    4.000000    8.000000   \n",
      "\n",
      "              CBO         RFC        LCOM         NOU          LC  \n",
      "count  633.000000  633.000000  633.000000  633.000000  633.000000  \n",
      "mean    43.131122   15.341232    1.838863    8.633491    0.475513  \n",
      "std     89.017031   20.282900    2.425981   11.367493    1.772625  \n",
      "min      0.000000    0.000000    0.000000    0.000000    0.000000  \n",
      "25%      4.000000    3.000000    1.000000    2.000000    0.000000  \n",
      "50%     15.000000    9.000000    1.000000    5.000000    0.000000  \n",
      "75%     39.000000   19.000000    2.000000   10.000000    0.000000  \n",
      "max    875.000000  167.000000   46.000000  108.000000   23.000000  \n"
     ]
    }
   ],
   "source": [
    "print(df_modules.describe())"
   ],
   "metadata": {
    "collapsed": false
   }
  },
  {
   "cell_type": "markdown",
   "source": [
    "Within the codebase, inheritance and lambdas are rarely used.\n",
    "\n",
    "Let's deepdive into lambdas that are used."
   ],
   "metadata": {
    "collapsed": false
   }
  },
  {
   "cell_type": "code",
   "execution_count": 354,
   "outputs": [
    {
     "name": "stdout",
     "output_type": "stream",
     "text": [
      "301\n",
      "                                          DeclarableId  LC\n",
      "2    org.springframework.aot.generate.GeneratedClasses   2\n",
      "4    org.springframework.cglib.transform.impl.Undec...   1\n",
      "9    org.springframework.core.io.buffer.DataBufferU...  21\n",
      "11   org.springframework.aot.hint.support.SpringFac...   1\n",
      "15   org.springframework.core.metrics.jfr.FlightRec...   1\n",
      "..                                                 ...  ..\n",
      "610  org.springframework.core.codec.ResourceRegionE...   3\n",
      "622    org.springframework.aot.generate.GeneratedFiles   3\n",
      "623  org.springframework.cglib.reflect.MulticastDel...   1\n",
      "624           org.springframework.cglib.proxy.Enhancer   2\n",
      "625  org.springframework.core.annotation.MergedAnno...   2\n",
      "\n",
      "[109 rows x 2 columns]\n"
     ]
    }
   ],
   "source": [
    "df_lambda = df_modules.loc[df_modules[\"LC\"] > 0][['DeclarableId', 'LC']]\n",
    "print(df_lambda['LC'].sum())\n",
    "print(df_lambda)"
   ],
   "metadata": {
    "collapsed": false
   }
  },
  {
   "cell_type": "markdown",
   "source": [
    "Lambdas are used in 5 places of the code base. These lambda statements were very short. Only describing a call to another method."
   ],
   "metadata": {
    "collapsed": false
   }
  },
  {
   "cell_type": "code",
   "execution_count": 355,
   "outputs": [
    {
     "name": "stdout",
     "output_type": "stream",
     "text": [
      "              ULOC           CC         COCO           PC         LLOC\n",
      "count  5465.000000  5465.000000  5465.000000  5465.000000  5465.000000\n",
      "mean      7.152608     2.351693     1.528088     1.287649     0.111985\n",
      "std      16.462248     8.092552     4.558469     1.193551     1.110270\n",
      "min       1.000000     1.000000     0.000000     0.000000     0.000000\n",
      "25%       3.000000     1.000000     0.000000     0.000000     0.000000\n",
      "50%       4.000000     1.000000     0.000000     1.000000     0.000000\n",
      "75%       8.000000     2.000000     1.000000     2.000000     0.000000\n",
      "max     927.000000   533.000000   155.000000    10.000000    31.000000\n"
     ]
    }
   ],
   "source": [
    "print(df_units.describe())"
   ],
   "metadata": {
    "collapsed": false
   }
  },
  {
   "cell_type": "markdown",
   "source": [
    "# Analysing module differences"
   ],
   "metadata": {
    "collapsed": false
   }
  },
  {
   "cell_type": "code",
   "execution_count": 356,
   "outputs": [
    {
     "name": "stdout",
     "output_type": "stream",
     "text": [
      "6              org.springframework.asm.SymbolTable.Entry\n",
      "26                 org.springframework.asm.Attribute.Set\n",
      "36     org.springframework.core.MethodParameter.Kotli...\n",
      "56     org.springframework.core.OrderComparator.Order...\n",
      "58     org.springframework.core.ReactiveAdapterRegist...\n",
      "                             ...                        \n",
      "846    org.springframework.aot.nativex.BasicJsonWrite...\n",
      "859    org.springframework.aot.generate.MethodReferen...\n",
      "864    org.springframework.aot.generate.AccessControl...\n",
      "871    org.springframework.aot.generate.GeneratedFile...\n",
      "213    org.springframework.core.io.support.PropertySo...\n",
      "Name: DeclarableId, Length: 243, dtype: object\n"
     ]
    }
   ],
   "source": [
    "module_diff = pd.concat([df_types[\"DeclarableId\"], df_modules[\"DeclarableId\"]]).drop_duplicates(keep=False)\n",
    "print(module_diff)"
   ],
   "metadata": {
    "collapsed": false
   }
  },
  {
   "cell_type": "markdown",
   "source": [
    "243 Modules aren't support by the LAMP framework due to inner modules not being supported."
   ],
   "metadata": {
    "collapsed": false
   }
  },
  {
   "cell_type": "code",
   "execution_count": 357,
   "outputs": [
    {
     "name": "stdout",
     "output_type": "stream",
     "text": [
      "0       org.springframework.asm.CurrentFrame://Current...\n",
      "9       org.springframework.asm.MethodWriter://MethodW...\n",
      "59                  org.springframework.asm.Label://Label\n",
      "71                    org.springframework.asm.Type://Type\n",
      "208                 org.springframework.asm.Frame://Frame\n",
      "                              ...                        \n",
      "5310    org.springframework.cglib.core.VisibilityPredi...\n",
      "5328    org.springframework.cglib.reflect.MulticastDel...\n",
      "5335    org.springframework.cglib.proxy.Enhancer://Enh...\n",
      "5442    org.springframework.core.type.classreading.Sim...\n",
      "5456    org.springframework.cglib.transform.Annotation...\n",
      "Name: DeclarableId, Length: 578, dtype: object\n"
     ]
    }
   ],
   "source": [
    "unit_diff = pd.concat([df_methods[\"DeclarableId\"], df_units[\"DeclarableId\"].apply(lambda s: s.split(\"$\")[0])]).drop_duplicates(keep=False)\n",
    "print(unit_diff)"
   ],
   "metadata": {
    "collapsed": false
   }
  },
  {
   "cell_type": "markdown",
   "source": [
    "578 Units aren't recognized by the LAMP framework at a first glance. When looking at each method precisely, we see that constructors and initializers aren't being matched by name due to their naming conventions within the LAMP framework."
   ],
   "metadata": {
    "collapsed": false
   }
  },
  {
   "cell_type": "code",
   "execution_count": 358,
   "outputs": [
    {
     "name": "stdout",
     "output_type": "stream",
     "text": [
      "614     org.springframework.core.CollectionFactory://g...\n",
      "1010    org.springframework.core.codec.ResourceDecoder...\n",
      "1701    org.springframework.core.annotation.MergedAnno...\n",
      "1702    org.springframework.core.annotation.MergedAnno...\n",
      "1703    org.springframework.core.annotation.MergedAnno...\n",
      "                              ...                        \n",
      "1965    org.springframework.core.KotlinDetector://Kotl...\n",
      "2042    org.springframework.core.annotation.Introspect...\n",
      "2044    org.springframework.core.annotation.Introspect...\n",
      "2728    org.springframework.util.MimeTypeUtils://MimeT...\n",
      "3450    org.springframework.cglib.core.TinyBitSet://Ti...\n",
      "Name: DeclarableId, Length: 68, dtype: object\n"
     ]
    }
   ],
   "source": [
    "unit_diff_with_constructors = pd.concat([df_methods[\"DeclarableId\"], df_units[\"DeclarableId\"].apply(lambda s:\n",
    "                                                                                                        s.split(\"$\")[0].removesuffix(\".constructor\").removesuffix(\".initializer\")\n",
    "                                                                                                    )]).drop_duplicates(keep=False)\n",
    "print(unit_diff_with_constructors)"
   ],
   "metadata": {
    "collapsed": false
   }
  },
  {
   "cell_type": "markdown",
   "source": [
    "After removing the .constructor and .initializer from the declarable id, we see that these units are now matched to their corresponding method ids from designite.\n",
    "This leaves us with the analysis of the remaining 68 units that aren't getting matched. These are units:\n",
    "\n",
    "- Enum declarations by the LAMP framework, these aren't evaluated by Designite.\n",
    "- Anonymous class declarations: these aren't evaluated by the LAMP framework\n",
    "- Inner Module Units: these aren't evaluated by the LAMP framework."
   ],
   "metadata": {
    "collapsed": false
   }
  },
  {
   "cell_type": "markdown",
   "source": [
    "# Metric performance"
   ],
   "metadata": {
    "collapsed": false
   }
  },
  {
   "cell_type": "code",
   "execution_count": 359,
   "outputs": [],
   "source": [
    "types = df_types\n",
    "methods = df_methods\n",
    "\n",
    "mods = df_modules\n",
    "units = df_units\n",
    "\n",
    "types.rename(columns=lambda x: \"D_\" + x, inplace=True)\n",
    "types.rename({\"D_DeclarableId\": \"DeclarableId\"}, axis=1, inplace=True)\n",
    "\n",
    "methods.rename(columns=lambda x: \"D_\" + x, inplace=True)\n",
    "methods.rename({\"D_DeclarableId\": \"DeclarableId\"}, axis=1, inplace=True)\n",
    "\n",
    "mods.rename(columns=lambda x: \"L_\" + x, inplace=True)\n",
    "mods.rename({\"L_DeclarableId\": \"DeclarableId\"}, axis=1, inplace=True)\n",
    "\n",
    "units.rename(columns=lambda x: \"L_\" + x, inplace=True)\n",
    "units.rename({\"L_DeclarableId\": \"DeclarableId\"}, axis=1, inplace=True)\n",
    "units[\"DeclarableId\"] = units[\"DeclarableId\"].apply(lambda s: s.split(\"$\")[0].removesuffix(\".constructor\").removesuffix(\".initializer\"))"
   ],
   "metadata": {
    "collapsed": false
   }
  },
  {
   "cell_type": "code",
   "execution_count": 360,
   "outputs": [
    {
     "name": "stdout",
     "output_type": "stream",
     "text": [
      "                                          DeclarableId  D_NOF  D_NOPF  D_NOM  \\\n",
      "0                 org.springframework.asm.CurrentFrame      0       0      2   \n",
      "1       org.springframework.asm.RecordComponentVisitor      2       0      7   \n",
      "2                 org.springframework.asm.MethodWriter     59       0     50   \n",
      "3                        org.springframework.asm.Label     28       1     12   \n",
      "4                         org.springframework.asm.Type     27      21     36   \n",
      "..                                                 ...    ...     ...    ...   \n",
      "627  org.springframework.aot.generate.InMemoryGener...      1       0      4   \n",
      "628    org.springframework.aot.generate.GeneratedClass      6       0     12   \n",
      "629    org.springframework.aot.generate.GeneratedFiles      0       0     13   \n",
      "630        org.springframework.aot.generate.MethodName      3       1     10   \n",
      "631                org.springframework.aot.AotDetector      1       1      1   \n",
      "\n",
      "     D_NOPM  D_LOC  D_WMC  D_NC  D_DIT    D_LCOM  ...  L_MLOC  L_WMC  L_CWMC  \\\n",
      "0         0     18      2     0      1 -1.000000  ...      12      2       0   \n",
      "1         5     84     12     1      0  0.000000  ...      47     18       6   \n",
      "2        31      0    299     0      1  0.060000  ...    1616    401     503   \n",
      "3         3    334     36     0      0  0.416667  ...     188     47      50   \n",
      "4        31      0    154     0      0  0.083333  ...     463    173     101   \n",
      "..      ...    ...    ...   ...    ...       ...  ...     ...    ...     ...   \n",
      "627       4     51      5     0      1  0.000000  ...      29      6       2   \n",
      "628       5     95     13     0      0  0.000000  ...      68     15       3   \n",
      "629       0    131     16     2      0 -1.000000  ...      57     16       5   \n",
      "630       3     83     15     0      0  0.200000  ...      61     20      13   \n",
      "631       1     18      1     0      0  0.000000  ...       6      2       1   \n",
      "\n",
      "     L_DIT  L_NOC  L_CBO  L_RFC  L_LCOM  L_NOU  L_LC  \n",
      "0        1      0      2      4       2      2     0  \n",
      "1        0      1     14      5       1      7     0  \n",
      "2        1      0    875    107       3     50     0  \n",
      "3        0      0    115     19       2     12     0  \n",
      "4        0      0    273     37       3     36     0  \n",
      "..     ...    ...    ...    ...     ...    ...   ...  \n",
      "627      0      0     24     18       1      4     2  \n",
      "628      0      0     51     29       1     12     4  \n",
      "629      0      0     23     15       2     13     3  \n",
      "630      0      0     34     25       1     10     0  \n",
      "631      0      0      2      3       1      1     0  \n",
      "\n",
      "[632 rows x 22 columns]\n"
     ]
    }
   ],
   "source": [
    "m_mods = pd.merge(types, mods, on=\"DeclarableId\")\n",
    "# m_mods = pd.merge(m_mods, df_sonar, on=\"DeclarableId\")\n",
    "print(m_mods)"
   ],
   "metadata": {
    "collapsed": false
   }
  },
  {
   "cell_type": "code",
   "execution_count": 361,
   "outputs": [
    {
     "name": "stdout",
     "output_type": "stream",
     "text": [
      "                                           DeclarableId  D_LOC  D_CC  D_PC  \\\n",
      "0     org.springframework.asm.CurrentFrame://Current...      3     1     1   \n",
      "1        org.springframework.asm.CurrentFrame://execute      6     1     4   \n",
      "2     org.springframework.asm.RecordComponentVisitor...      3     1     1   \n",
      "3     org.springframework.asm.RecordComponentVisitor...      3     1     1   \n",
      "4     org.springframework.asm.RecordComponentVisitor...      7     2     2   \n",
      "...                                                 ...    ...   ...   ...   \n",
      "8595  org.springframework.aot.generate.MethodName://...      9     3     1   \n",
      "8596  org.springframework.aot.generate.MethodName://...      3     1     0   \n",
      "8597  org.springframework.aot.generate.MethodName://...      3     1     1   \n",
      "8598  org.springframework.aot.generate.MethodName://...     11     2     1   \n",
      "8599  org.springframework.aot.AotDetector://useGener...      3     1     0   \n",
      "\n",
      "      L_ULOC  L_CC  L_COCO  L_PC  L_LLOC  \n",
      "0          3     1       0     1       0  \n",
      "1          7     1       0     4       0  \n",
      "2          3     1       0     1       0  \n",
      "3         14     8       2     2       0  \n",
      "4          3     1       0     1       0  \n",
      "...      ...   ...     ...   ...     ...  \n",
      "8595       9     4       3     1       0  \n",
      "8596       3     2       1     0       0  \n",
      "8597       4     1       0     1       0  \n",
      "8598      11     5       6     1       0  \n",
      "8599       3     2       1     0       0  \n",
      "\n",
      "[8600 rows x 9 columns]\n"
     ]
    }
   ],
   "source": [
    "m_units = pd.merge(methods, units, on=[\"DeclarableId\"])\n",
    "print(m_units)"
   ],
   "metadata": {
    "collapsed": false
   }
  },
  {
   "cell_type": "code",
   "execution_count": 362,
   "outputs": [
    {
     "data": {
      "text/plain": "<Figure size 1000x1500 with 8 Axes>",
      "image/png": "[encoded data removed]"
     },
     "metadata": {},
     "output_type": "display_data"
    }
   ],
   "source": [
    "figure, axis = plt.subplots(4, 2, figsize=(10, 15))"
   ],
   "metadata": {
    "collapsed": false
   }
  },
  {
   "cell_type": "markdown",
   "source": [
    "## Module Lines Of Code"
   ],
   "metadata": {
    "collapsed": false
   }
  },
  {
   "cell_type": "code",
   "execution_count": 363,
   "outputs": [
    {
     "name": "stdout",
     "output_type": "stream",
     "text": [
      "                                          DeclarableId  D_LOC  L_MLOC\n",
      "0                 org.springframework.asm.CurrentFrame     18      12\n",
      "1       org.springframework.asm.RecordComponentVisitor     84      47\n",
      "2                 org.springframework.asm.MethodWriter      0    1616\n",
      "3                        org.springframework.asm.Label    334     188\n",
      "4                         org.springframework.asm.Type      0     463\n",
      "..                                                 ...    ...     ...\n",
      "627  org.springframework.aot.generate.InMemoryGener...     51      29\n",
      "628    org.springframework.aot.generate.GeneratedClass     95      68\n",
      "629    org.springframework.aot.generate.GeneratedFiles    131      57\n",
      "630        org.springframework.aot.generate.MethodName     83      61\n",
      "631                org.springframework.aot.AotDetector     18       6\n",
      "\n",
      "[632 rows x 3 columns]\n"
     ]
    }
   ],
   "source": [
    "mloc = m_mods[['DeclarableId', 'D_LOC', 'L_MLOC']]\n",
    "print(mloc)"
   ],
   "metadata": {
    "collapsed": false
   }
  },
  {
   "cell_type": "code",
   "execution_count": 364,
   "outputs": [
    {
     "data": {
      "text/plain": "<matplotlib.legend.Legend at 0x129093640>"
     },
     "execution_count": 364,
     "metadata": {},
     "output_type": "execute_result"
    }
   ],
   "source": [
    "x1 = mloc['D_LOC']\n",
    "# x2 = mloc['S_LOC']\n",
    "x3 = mloc['L_MLOC']\n",
    "\n",
    "subplot = axis[0, 0]\n",
    "\n",
    "# Plot\n",
    "subplot.hist([x1, x3], bins=np.linspace(0, 1000, 30), density=True, color=['#3C5DA1', '#469B55'], label=['Designite', 'LAMP'])\n",
    "subplot.set(title= \"MLOC Distribution\", xlabel= 'Module Lines of Code', ylabel='Density')\n",
    "subplot.legend()\n",
    "# subplot.savefig('images/spring-MLOC.png')"
   ],
   "metadata": {
    "collapsed": false
   }
  },
  {
   "cell_type": "markdown",
   "source": [
    "## Module Number Of Units"
   ],
   "metadata": {
    "collapsed": false
   }
  },
  {
   "cell_type": "code",
   "execution_count": 365,
   "outputs": [
    {
     "name": "stdout",
     "output_type": "stream",
     "text": [
      "                                          DeclarableId  D_NOM  L_NOU\n",
      "0                 org.springframework.asm.CurrentFrame      2      2\n",
      "1       org.springframework.asm.RecordComponentVisitor      7      7\n",
      "2                 org.springframework.asm.MethodWriter     50     50\n",
      "3                        org.springframework.asm.Label     12     12\n",
      "4                         org.springframework.asm.Type     36     36\n",
      "..                                                 ...    ...    ...\n",
      "627  org.springframework.aot.generate.InMemoryGener...      4      4\n",
      "628    org.springframework.aot.generate.GeneratedClass     12     12\n",
      "629    org.springframework.aot.generate.GeneratedFiles     13     13\n",
      "630        org.springframework.aot.generate.MethodName     10     10\n",
      "631                org.springframework.aot.AotDetector      1      1\n",
      "\n",
      "[632 rows x 3 columns]\n"
     ]
    }
   ],
   "source": [
    "nou = m_mods[['DeclarableId', 'D_NOM', 'L_NOU']]\n",
    "print(nou)"
   ],
   "metadata": {
    "collapsed": false
   }
  },
  {
   "cell_type": "code",
   "execution_count": 366,
   "outputs": [
    {
     "data": {
      "text/plain": "<matplotlib.legend.Legend at 0x128850d00>"
     },
     "execution_count": 366,
     "metadata": {},
     "output_type": "execute_result"
    }
   ],
   "source": [
    "x1 = m_mods['D_NOM']\n",
    "x2 = m_mods['L_NOU']\n",
    "\n",
    "subplot = axis[0, 1]\n",
    "\n",
    "# Plot\n",
    "subplot.hist([x1, x2], bins=np.linspace(0, 50, 30), density=True, color=['#3C5DA1', '#469B55'], label=['Designite', 'LAMP'])\n",
    "subplot.set(title= \"NOU Distribution\", xlabel= 'Number of Units', ylabel='Density')\n",
    "subplot.legend()\n",
    "# plt.savefig('images/spring-NOU.png')\n",
    "# plt.show()"
   ],
   "metadata": {
    "collapsed": false
   }
  },
  {
   "cell_type": "markdown",
   "source": [
    "## Module Weighted Method per Class (WMC)"
   ],
   "metadata": {
    "collapsed": false
   }
  },
  {
   "cell_type": "code",
   "execution_count": 367,
   "outputs": [
    {
     "name": "stdout",
     "output_type": "stream",
     "text": [
      "                                          DeclarableId  D_WMC  L_WMC\n",
      "0                 org.springframework.asm.CurrentFrame      2      2\n",
      "1       org.springframework.asm.RecordComponentVisitor     12     18\n",
      "2                 org.springframework.asm.MethodWriter    299    401\n",
      "3                        org.springframework.asm.Label     36     47\n",
      "4                         org.springframework.asm.Type    154    173\n",
      "..                                                 ...    ...    ...\n",
      "627  org.springframework.aot.generate.InMemoryGener...      5      6\n",
      "628    org.springframework.aot.generate.GeneratedClass     13     15\n",
      "629    org.springframework.aot.generate.GeneratedFiles     16     16\n",
      "630        org.springframework.aot.generate.MethodName     15     20\n",
      "631                org.springframework.aot.AotDetector      1      2\n",
      "\n",
      "[632 rows x 3 columns]\n"
     ]
    }
   ],
   "source": [
    "wmc = m_mods[['DeclarableId', 'D_WMC', 'L_WMC']]\n",
    "print(wmc)"
   ],
   "metadata": {
    "collapsed": false
   }
  },
  {
   "cell_type": "code",
   "execution_count": 368,
   "outputs": [
    {
     "data": {
      "text/plain": "<matplotlib.legend.Legend at 0x1291fd580>"
     },
     "execution_count": 368,
     "metadata": {},
     "output_type": "execute_result"
    }
   ],
   "source": [
    "x1 = m_mods['D_WMC']\n",
    "x2 = m_mods['L_WMC']\n",
    "\n",
    "subplot = axis[1, 0]\n",
    "\n",
    "# Plot\n",
    "subplot.hist([x1, x2], bins=np.linspace(0, 100, 30), density=True,color=['#3C5DA1', '#469B55'],  label=['Designite', 'LAMP'])\n",
    "subplot.set(title= \"WMC Distribution\", xlabel= 'Weighted Methods per Class', ylabel='Density')\n",
    "subplot.legend()\n",
    "# plt.savefig('images/spring-WMC.png')\n",
    "# plt.show()"
   ],
   "metadata": {
    "collapsed": false
   }
  },
  {
   "cell_type": "markdown",
   "source": [
    "## Module - Cognitively Weighted Method per Class (CWMC)"
   ],
   "metadata": {
    "collapsed": false
   }
  },
  {
   "cell_type": "code",
   "execution_count": 369,
   "outputs": [],
   "source": [
    "# cwmc = m_mods[['DeclarableId', 'S_COCO', 'L_CWMC']].copy()\n",
    "# print(cwmc)"
   ],
   "metadata": {
    "collapsed": false
   }
  },
  {
   "cell_type": "code",
   "execution_count": 370,
   "outputs": [],
   "source": [
    "# cwmc[\"Diff\"] = cwmc[\"S_COCO\"] - cwmc[\"L_CWMC\"]\n",
    "# print(cwmc.loc[cwmc[\"Diff\"] > 5])"
   ],
   "metadata": {
    "collapsed": false
   }
  },
  {
   "cell_type": "code",
   "execution_count": 371,
   "outputs": [],
   "source": [
    "# x1 = m_mods['S_COCO']\n",
    "# x2 = m_mods['L_CWMC']\n",
    "#\n",
    "# # Plot\n",
    "# plt.hist([x1, x2], bins=np.linspace(0, 100, 30), density=True, color=['#B53941', '#469B55'], label=['SonarQube', 'LAMP'])\n",
    "# plt.gca().set(title= \"CWMC Distribution\", xlabel= 'Cognitively Weighted Methods per Class', ylabel='Density')\n",
    "# plt.legend()\n",
    "# plt.savefig('images/spring-CWMC.png')\n",
    "# plt.show()"
   ],
   "metadata": {
    "collapsed": false
   }
  },
  {
   "cell_type": "markdown",
   "source": [
    "## Module Depth of Inheritance (DIT)"
   ],
   "metadata": {
    "collapsed": false
   }
  },
  {
   "cell_type": "code",
   "execution_count": 372,
   "outputs": [
    {
     "name": "stdout",
     "output_type": "stream",
     "text": [
      "                                          DeclarableId  D_DIT  L_DIT\n",
      "0                 org.springframework.asm.CurrentFrame      1      1\n",
      "1       org.springframework.asm.RecordComponentVisitor      0      0\n",
      "2                 org.springframework.asm.MethodWriter      1      1\n",
      "3                        org.springframework.asm.Label      0      0\n",
      "4                         org.springframework.asm.Type      0      0\n",
      "..                                                 ...    ...    ...\n",
      "627  org.springframework.aot.generate.InMemoryGener...      1      0\n",
      "628    org.springframework.aot.generate.GeneratedClass      0      0\n",
      "629    org.springframework.aot.generate.GeneratedFiles      0      0\n",
      "630        org.springframework.aot.generate.MethodName      0      0\n",
      "631                org.springframework.aot.AotDetector      0      0\n",
      "\n",
      "[632 rows x 3 columns]\n"
     ]
    }
   ],
   "source": [
    "dit = m_mods[['DeclarableId', 'D_DIT', 'L_DIT']]\n",
    "print(dit)"
   ],
   "metadata": {
    "collapsed": false
   }
  },
  {
   "cell_type": "code",
   "execution_count": 373,
   "outputs": [
    {
     "name": "stdout",
     "output_type": "stream",
     "text": [
      "                                          DeclarableId  D_DIT  L_DIT  Diff\n",
      "42   org.springframework.core.DefaultParameterNameD...      2      1     1\n",
      "54   org.springframework.core.LocalVariableTablePar...      1      0     1\n",
      "59        org.springframework.core.SimpleAliasRegistry      1      0     1\n",
      "70   org.springframework.core.KotlinReflectionParam...      1      0     1\n",
      "72   org.springframework.core.AttributeAccessorSupport      1      0     1\n",
      "..                                                 ...    ...    ...   ...\n",
      "616  org.springframework.aot.generate.FileSystemGen...      1      0     1\n",
      "618  org.springframework.aot.generate.GeneratedType...      2      1     1\n",
      "621  org.springframework.aot.generate.AppendableCon...      1      0     1\n",
      "626  org.springframework.aot.generate.DefaultGenera...      1      0     1\n",
      "627  org.springframework.aot.generate.InMemoryGener...      1      0     1\n",
      "\n",
      "[200 rows x 4 columns]\n"
     ]
    },
    {
     "name": "stderr",
     "output_type": "stream",
     "text": [
      "/var/folders/yg/_h7_f_ps1g53dn06sw9cr3gr0000gn/T/ipykernel_13950/1400901144.py:1: SettingWithCopyWarning: \n",
      "A value is trying to be set on a copy of a slice from a DataFrame.\n",
      "Try using .loc[row_indexer,col_indexer] = value instead\n",
      "\n",
      "See the caveats in the documentation: https://pandas.pydata.org/pandas-docs/stable/user_guide/indexing.html#returning-a-view-versus-a-copy\n",
      "  dit[\"Diff\"] = dit[\"D_DIT\"] - dit[\"L_DIT\"]\n"
     ]
    }
   ],
   "source": [
    "dit[\"Diff\"] = dit[\"D_DIT\"] - dit[\"L_DIT\"]\n",
    "print(dit.loc[dit[\"Diff\"] > 0])"
   ],
   "metadata": {
    "collapsed": false
   }
  },
  {
   "cell_type": "code",
   "execution_count": 374,
   "outputs": [
    {
     "data": {
      "text/plain": "<matplotlib.legend.Legend at 0x129093970>"
     },
     "execution_count": 374,
     "metadata": {},
     "output_type": "execute_result"
    }
   ],
   "source": [
    "x1 = m_mods['D_DIT']\n",
    "x2 = m_mods['L_DIT']\n",
    "\n",
    "subplot = axis[1, 1]\n",
    "\n",
    "# Plot\n",
    "subplot.hist([x1, x2], bins=np.linspace(0, 6, 10), density=True,color=['#3C5DA1', '#469B55'],  label=['Designite', 'LAMP'])\n",
    "subplot.set(title= \"DIT Distribution\", xlabel= 'Depth of Inheritance Tree', ylabel='Density')\n",
    "subplot.legend()\n",
    "# plt.savefig('images/spring-DIT.png')\n",
    "# plt.show()"
   ],
   "metadata": {
    "collapsed": false
   }
  },
  {
   "cell_type": "markdown",
   "source": [
    "## Module - Number of Children"
   ],
   "metadata": {
    "collapsed": false
   }
  },
  {
   "cell_type": "code",
   "execution_count": 375,
   "outputs": [
    {
     "name": "stdout",
     "output_type": "stream",
     "text": [
      "                                          DeclarableId  D_NC  L_NOC\n",
      "0                 org.springframework.asm.CurrentFrame     0      0\n",
      "1       org.springframework.asm.RecordComponentVisitor     1      1\n",
      "2                 org.springframework.asm.MethodWriter     0      0\n",
      "3                        org.springframework.asm.Label     0      0\n",
      "4                         org.springframework.asm.Type     0      0\n",
      "..                                                 ...   ...    ...\n",
      "627  org.springframework.aot.generate.InMemoryGener...     0      0\n",
      "628    org.springframework.aot.generate.GeneratedClass     0      0\n",
      "629    org.springframework.aot.generate.GeneratedFiles     2      0\n",
      "630        org.springframework.aot.generate.MethodName     0      0\n",
      "631                org.springframework.aot.AotDetector     0      0\n",
      "\n",
      "[632 rows x 3 columns]\n"
     ]
    }
   ],
   "source": [
    "noc = m_mods[['DeclarableId', 'D_NC', 'L_NOC']]\n",
    "print(noc)"
   ],
   "metadata": {
    "collapsed": false
   }
  },
  {
   "cell_type": "code",
   "execution_count": 376,
   "outputs": [
    {
     "data": {
      "text/plain": "<matplotlib.legend.Legend at 0x1290417c0>"
     },
     "execution_count": 376,
     "metadata": {},
     "output_type": "execute_result"
    }
   ],
   "source": [
    "x1 = m_mods['D_NC']\n",
    "x2 = m_mods['L_NOC']\n",
    "\n",
    "subplot = axis[2, 0]\n",
    "\n",
    "# Plot\n",
    "subplot.hist([x1, x2], bins=np.linspace(0, 10, 10), density=True,color=['#3C5DA1', '#469B55'],  label=['Designite', 'LAMP'])\n",
    "subplot.set(title= \"NOC Distribution\", xlabel= 'Number of Children', ylabel='Density')\n",
    "subplot.legend()\n",
    "# plt.savefig('images/spring-NOC.png')\n",
    "# plt.show()"
   ],
   "metadata": {
    "collapsed": false
   }
  },
  {
   "cell_type": "markdown",
   "source": [
    "## Module - Lack of Cohesion in Methods (LCOM)"
   ],
   "metadata": {
    "collapsed": false
   }
  },
  {
   "cell_type": "code",
   "execution_count": 377,
   "outputs": [
    {
     "name": "stdout",
     "output_type": "stream",
     "text": [
      "                                          DeclarableId    D_LCOM  L_LCOM\n",
      "0                 org.springframework.asm.CurrentFrame -1.000000       2\n",
      "1       org.springframework.asm.RecordComponentVisitor  0.000000       1\n",
      "2                 org.springframework.asm.MethodWriter  0.060000       3\n",
      "3                        org.springframework.asm.Label  0.416667       2\n",
      "4                         org.springframework.asm.Type  0.083333       3\n",
      "..                                                 ...       ...     ...\n",
      "627  org.springframework.aot.generate.InMemoryGener...  0.000000       1\n",
      "628    org.springframework.aot.generate.GeneratedClass  0.000000       1\n",
      "629    org.springframework.aot.generate.GeneratedFiles -1.000000       2\n",
      "630        org.springframework.aot.generate.MethodName  0.200000       1\n",
      "631                org.springframework.aot.AotDetector  0.000000       1\n",
      "\n",
      "[632 rows x 3 columns]\n"
     ]
    }
   ],
   "source": [
    "lcom = m_mods[['DeclarableId', 'D_LCOM', 'L_LCOM']]\n",
    "print(lcom)"
   ],
   "metadata": {
    "collapsed": false
   }
  },
  {
   "cell_type": "markdown",
   "source": [
    "## Unit - Lines of Code"
   ],
   "metadata": {
    "collapsed": false
   }
  },
  {
   "cell_type": "code",
   "execution_count": 378,
   "outputs": [
    {
     "name": "stdout",
     "output_type": "stream",
     "text": [
      "                                           DeclarableId  D_LOC  L_ULOC\n",
      "0     org.springframework.asm.CurrentFrame://Current...      3       3\n",
      "1        org.springframework.asm.CurrentFrame://execute      6       7\n",
      "2     org.springframework.asm.RecordComponentVisitor...      3       3\n",
      "3     org.springframework.asm.RecordComponentVisitor...      3      14\n",
      "4     org.springframework.asm.RecordComponentVisitor...      7       3\n",
      "...                                                 ...    ...     ...\n",
      "8595  org.springframework.aot.generate.MethodName://...      9       9\n",
      "8596  org.springframework.aot.generate.MethodName://...      3       3\n",
      "8597  org.springframework.aot.generate.MethodName://...      3       4\n",
      "8598  org.springframework.aot.generate.MethodName://...     11      11\n",
      "8599  org.springframework.aot.AotDetector://useGener...      3       3\n",
      "\n",
      "[8600 rows x 3 columns]\n"
     ]
    }
   ],
   "source": [
    "uloc = m_units[['DeclarableId', 'D_LOC', 'L_ULOC']]\n",
    "print(uloc)"
   ],
   "metadata": {
    "collapsed": false
   }
  },
  {
   "cell_type": "markdown",
   "source": [
    "## Unit - Cyclomatic Complexity"
   ],
   "metadata": {
    "collapsed": false
   }
  },
  {
   "cell_type": "code",
   "execution_count": 379,
   "outputs": [
    {
     "name": "stdout",
     "output_type": "stream",
     "text": [
      "                                           DeclarableId  D_CC  L_CC\n",
      "0     org.springframework.asm.CurrentFrame://Current...     1     1\n",
      "1        org.springframework.asm.CurrentFrame://execute     1     1\n",
      "2     org.springframework.asm.RecordComponentVisitor...     1     1\n",
      "3     org.springframework.asm.RecordComponentVisitor...     1     8\n",
      "4     org.springframework.asm.RecordComponentVisitor...     2     1\n",
      "...                                                 ...   ...   ...\n",
      "8595  org.springframework.aot.generate.MethodName://...     3     4\n",
      "8596  org.springframework.aot.generate.MethodName://...     1     2\n",
      "8597  org.springframework.aot.generate.MethodName://...     1     1\n",
      "8598  org.springframework.aot.generate.MethodName://...     2     5\n",
      "8599  org.springframework.aot.AotDetector://useGener...     1     2\n",
      "\n",
      "[8600 rows x 3 columns]\n"
     ]
    }
   ],
   "source": [
    "cc = m_units[['DeclarableId', 'D_CC', 'L_CC']]\n",
    "print(cc)"
   ],
   "metadata": {
    "collapsed": false
   }
  },
  {
   "cell_type": "code",
   "execution_count": 380,
   "outputs": [
    {
     "data": {
      "text/plain": "<matplotlib.legend.Legend at 0x129e8b7c0>"
     },
     "execution_count": 380,
     "metadata": {},
     "output_type": "execute_result"
    }
   ],
   "source": [
    "x1 = m_units['D_CC']\n",
    "x2 = m_units['L_CC']\n",
    "\n",
    "subplot = axis[2, 1]\n",
    "\n",
    "# Plot\n",
    "subplot.hist([x1, x2], bins=np.linspace(0, 10, 10), density=True,color=['#3C5DA1', '#469B55'],  label=['Designite', 'LAMP'])\n",
    "subplot.set(title= \"CC Distribution\", xlabel= 'Cyclomatic Complexity', ylabel='Density')\n",
    "subplot.legend()\n",
    "# plt.savefig('images/spring-CC.png')\n",
    "# plt.show()"
   ],
   "metadata": {
    "collapsed": false
   }
  },
  {
   "cell_type": "markdown",
   "source": [
    "## Unit - Parameter Count"
   ],
   "metadata": {
    "collapsed": false
   }
  },
  {
   "cell_type": "code",
   "execution_count": 381,
   "outputs": [
    {
     "name": "stdout",
     "output_type": "stream",
     "text": [
      "                                           DeclarableId  D_PC  L_PC\n",
      "0     org.springframework.asm.CurrentFrame://Current...     1     1\n",
      "1        org.springframework.asm.CurrentFrame://execute     4     4\n",
      "2     org.springframework.asm.RecordComponentVisitor...     1     1\n",
      "3     org.springframework.asm.RecordComponentVisitor...     1     2\n",
      "4     org.springframework.asm.RecordComponentVisitor...     2     1\n",
      "...                                                 ...   ...   ...\n",
      "8595  org.springframework.aot.generate.MethodName://...     1     1\n",
      "8596  org.springframework.aot.generate.MethodName://...     0     0\n",
      "8597  org.springframework.aot.generate.MethodName://...     1     1\n",
      "8598  org.springframework.aot.generate.MethodName://...     1     1\n",
      "8599  org.springframework.aot.AotDetector://useGener...     0     0\n",
      "\n",
      "[8600 rows x 3 columns]\n"
     ]
    }
   ],
   "source": [
    "pc = m_units[['DeclarableId', 'D_PC', 'L_PC']]\n",
    "print(pc)"
   ],
   "metadata": {
    "collapsed": false
   }
  },
  {
   "cell_type": "code",
   "execution_count": 382,
   "outputs": [
    {
     "data": {
      "text/plain": "<matplotlib.legend.Legend at 0x129e8b2e0>"
     },
     "execution_count": 382,
     "metadata": {},
     "output_type": "execute_result"
    }
   ],
   "source": [
    "x1 = m_units['D_PC']\n",
    "x2 = m_units['L_PC']\n",
    "\n",
    "subplot = axis[3, 0]\n",
    "\n",
    "# Plot\n",
    "subplot.hist([x1, x2], bins=np.linspace(0, 10, 10), density=True,color=['#3C5DA1', '#469B55'],  label=['Designite', 'LAMP'])\n",
    "subplot.set(title= \"PC Distribution\", xlabel= 'Parameter Count', ylabel='Density')\n",
    "subplot.legend()\n",
    "# plt.savefig('images/spring-PC.png')\n",
    "# plt.show()"
   ],
   "metadata": {
    "collapsed": false
   }
  },
  {
   "cell_type": "code",
   "execution_count": 383,
   "outputs": [],
   "source": [
    "figure.delaxes(axis[3, 1])"
   ],
   "metadata": {
    "collapsed": false
   }
  },
  {
   "cell_type": "code",
   "execution_count": 384,
   "outputs": [
    {
     "data": {
      "text/plain": "<Figure size 1000x1500 with 7 Axes>",
      "image/png": "[encoded data removed]"
     },
     "execution_count": 384,
     "metadata": {},
     "output_type": "execute_result"
    }
   ],
   "source": [
    "figure.tight_layout()\n",
    "figure.savefig('images/spring-metrics.png')\n",
    "figure"
   ],
   "metadata": {
    "collapsed": false
   }
  },
  {
   "cell_type": "code",
   "execution_count": 384,
   "outputs": [],
   "source": [],
   "metadata": {
    "collapsed": false
   }
  }
 ],
 "metadata": {
  "kernelspec": {
   "display_name": "Python 3",
   "language": "python",
   "name": "python3"
  },
  "language_info": {
   "codemirror_mode": {
    "name": "ipython",
    "version": 2
   },
   "file_extension": ".py",
   "mimetype": "text/x-python",
   "name": "python",
   "nbconvert_exporter": "python",
   "pygments_lexer": "ipython2",
   "version": "2.7.6"
  }
 },
 "nbformat": 4,
 "nbformat_minor": 0
}
