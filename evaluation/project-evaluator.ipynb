{
 "cells": [
  {
   "cell_type": "code",
   "execution_count": null,
   "metadata": {
    "collapsed": true
   },
   "outputs": [],
   "source": [
    "import pandas as pd\n",
    "import numpy as np\n",
    "import matplotlib.pyplot as plt"
   ]
  },
  {
   "cell_type": "code",
   "execution_count": null,
   "outputs": [],
   "source": [
    "# Insert name of project\n",
    "project = \"antlr\""
   ],
   "metadata": {
    "collapsed": false
   }
  },
  {
   "cell_type": "markdown",
   "source": [],
   "metadata": {
    "collapsed": false
   }
  },
  {
   "cell_type": "markdown",
   "source": [
    "# Designite Metrics"
   ],
   "metadata": {
    "collapsed": false
   }
  },
  {
   "cell_type": "code",
   "execution_count": null,
   "outputs": [],
   "source": [
    "df_types = pd.read_csv(f'data/designite-{project}/TypeMetrics.csv', usecols=[\"Package Name\", \"Type Name\", \"NOF\", \"NOM\", \"NOPF\", \"NOPM\", \"LOC\", \"WMC\", \"NC\", \"DIT\", \"LCOM\", \"FANIN\", \"FANOUT\"])\n",
    "df_types.insert(0, \"DeclarableId\", df_types[['Package Name', 'Type Name']].agg('.'.join, axis=1))\n",
    "df_types.drop([\"Package Name\", \"Type Name\"], axis=\"columns\", inplace=True)\n",
    "\n",
    "df_methods = pd.read_csv(f'data/designite-{project}/MethodMetrics.csv', usecols=[\"Package Name\", \"Type Name\", \"Method Name\", \"LOC\", \"CC\", \"PC\"])\n",
    "df_methods.insert(0, \"DeclarableId\", df_methods[['Package Name', 'Type Name']].agg('.'.join, axis=1))\n",
    "df_methods[\"DeclarableId\"] = df_methods[['DeclarableId', 'Method Name']].agg('://'.join, axis=1)\n",
    "df_methods.drop([\"Package Name\", \"Type Name\", \"Method Name\"], axis=\"columns\", inplace=True)"
   ],
   "metadata": {
    "collapsed": false
   }
  },
  {
   "cell_type": "code",
   "execution_count": null,
   "outputs": [],
   "source": [
    "print(df_types)"
   ],
   "metadata": {
    "collapsed": false
   }
  },
  {
   "cell_type": "code",
   "execution_count": null,
   "outputs": [],
   "source": [
    "print(df_methods)"
   ],
   "metadata": {
    "collapsed": false
   }
  },
  {
   "cell_type": "markdown",
   "source": [
    "# SonarQube metrics"
   ],
   "metadata": {
    "collapsed": false
   }
  },
  {
   "cell_type": "code",
   "execution_count": null,
   "outputs": [],
   "source": [
    "df_sonar = pd.read_csv(f'data/sonarqube-{project}/CognitiveComplexity.csv', usecols=[\"DeclarableId\",\"S_COCO\", \"S_LOC\"])\n",
    "df_sonar['DeclarableId'] = df_sonar['DeclarableId'].astype(str)\n",
    "pd.to_numeric(df_sonar['S_COCO'])\n",
    "pd.to_numeric(df_sonar['S_LOC'])\n",
    "print(df_sonar)"
   ],
   "metadata": {
    "collapsed": false
   }
  },
  {
   "cell_type": "markdown",
   "source": [
    "# LAMP Metrics"
   ],
   "metadata": {
    "collapsed": false
   }
  },
  {
   "cell_type": "code",
   "execution_count": null,
   "outputs": [],
   "source": [
    "df_modules = pd.read_csv(f'data/lamp-{project}/modules.csv', usecols=[\"DeclarableId\",\"MLOC\",\"WMC\",\"CWMC\",\"DIT\",\"NOC\",\"CBO\",\"RFC\",\"LCOM\",\"NOU\",\"LC\"])\n",
    "df_units = pd.read_csv(f'data/lamp-{project}/units.csv', usecols=[\"DeclarableId\",\"ULOC\",\"CC\",\"COCO\",\"PC\",\"LLOC\"])"
   ],
   "metadata": {
    "collapsed": false
   }
  },
  {
   "cell_type": "code",
   "execution_count": null,
   "outputs": [],
   "source": [
    "df_modules.sort_values(by=[\"DeclarableId\"])\n",
    "print(df_modules)"
   ],
   "metadata": {
    "collapsed": false
   }
  },
  {
   "cell_type": "code",
   "execution_count": null,
   "outputs": [],
   "source": [
    "print(df_units)"
   ],
   "metadata": {
    "collapsed": false
   }
  },
  {
   "cell_type": "markdown",
   "source": [
    "## Distribution analysis"
   ],
   "metadata": {
    "collapsed": false
   }
  },
  {
   "cell_type": "code",
   "execution_count": null,
   "outputs": [],
   "source": [
    "print(df_modules.describe())"
   ],
   "metadata": {
    "collapsed": false
   }
  },
  {
   "cell_type": "markdown",
   "source": [
    "Within the codebase, inheritance and lambdas are rarely used.\n",
    "\n",
    "Let's deepdive into lambdas that are used."
   ],
   "metadata": {
    "collapsed": false
   }
  },
  {
   "cell_type": "code",
   "execution_count": null,
   "outputs": [],
   "source": [
    "df_lambda = df_modules.loc[df_modules[\"LC\"] > 0][['DeclarableId', 'LC']]\n",
    "print(df_lambda)"
   ],
   "metadata": {
    "collapsed": false
   }
  },
  {
   "cell_type": "markdown",
   "source": [
    "Lambdas are used in 5 places of the code base. These lambda statements were very short. Only describing a call to another method."
   ],
   "metadata": {
    "collapsed": false
   }
  },
  {
   "cell_type": "code",
   "execution_count": null,
   "outputs": [],
   "source": [
    "print(df_units.describe())"
   ],
   "metadata": {
    "collapsed": false
   }
  },
  {
   "cell_type": "markdown",
   "source": [
    "# Analysing module differences"
   ],
   "metadata": {
    "collapsed": false
   }
  },
  {
   "cell_type": "code",
   "execution_count": null,
   "outputs": [],
   "source": [
    "module_diff = pd.concat([df_types[\"DeclarableId\"], df_modules[\"DeclarableId\"]]).drop_duplicates(keep=False)\n",
    "print(module_diff)"
   ],
   "metadata": {
    "collapsed": false
   }
  },
  {
   "cell_type": "markdown",
   "source": [
    "33 Modules aren't support by the LAMP framework due to inner modules not being supported."
   ],
   "metadata": {
    "collapsed": false
   }
  },
  {
   "cell_type": "code",
   "execution_count": null,
   "outputs": [],
   "source": [
    "unit_diff = pd.concat([df_methods[\"DeclarableId\"], df_units[\"DeclarableId\"].apply(lambda s: s.split(\"$\")[0])]).drop_duplicates(keep=False)\n",
    "print(unit_diff)"
   ],
   "metadata": {
    "collapsed": false
   }
  },
  {
   "cell_type": "markdown",
   "source": [
    "261 Units aren't recognized by the LAMP framework at a first glance. When looking at each method precisely, we see that constructors and initializers aren't being matched by name due to their naming conventions within the LAMP framework."
   ],
   "metadata": {
    "collapsed": false
   }
  },
  {
   "cell_type": "code",
   "execution_count": null,
   "outputs": [],
   "source": [
    "unit_diff_with_constructors = pd.concat([df_methods[\"DeclarableId\"], df_units[\"DeclarableId\"].apply(lambda s:\n",
    "                                                                                                        s.split(\"$\")[0].removesuffix(\".constructor\").removesuffix(\".initializer\")\n",
    "                                                                                                    )]).drop_duplicates(keep=False)\n",
    "print(unit_diff_with_constructors)"
   ],
   "metadata": {
    "collapsed": false
   }
  },
  {
   "cell_type": "markdown",
   "source": [
    "After removing the .constructor and .initializer from the declarable id, we see that these units are now matched to their corresponding method ids from designite.\n",
    "This leaves us with the analysis of the remaining 18 units that aren't getting matched. These are units:\n",
    "\n",
    "- Enum declarations by the LAMP framework, these aren't evaluated by Designite.\n",
    "- Anonymous class declarations: these aren't evaluated by the LAMP framework\n",
    "- Inner Module Units: these aren't evaluated by the LAMP framework."
   ],
   "metadata": {
    "collapsed": false
   }
  },
  {
   "cell_type": "markdown",
   "source": [
    "# Metric performance"
   ],
   "metadata": {
    "collapsed": false
   }
  },
  {
   "cell_type": "code",
   "execution_count": null,
   "outputs": [],
   "source": [
    "types = df_types\n",
    "methods = df_methods\n",
    "\n",
    "mods = df_modules\n",
    "units = df_units\n",
    "\n",
    "types.rename(columns=lambda x: \"D_\" + x, inplace=True)\n",
    "types.rename({\"D_DeclarableId\": \"DeclarableId\"}, axis=1, inplace=True)\n",
    "\n",
    "methods.rename(columns=lambda x: \"D_\" + x, inplace=True)\n",
    "methods.rename({\"D_DeclarableId\": \"DeclarableId\"}, axis=1, inplace=True)\n",
    "\n",
    "mods.rename(columns=lambda x: \"L_\" + x, inplace=True)\n",
    "mods.rename({\"L_DeclarableId\": \"DeclarableId\"}, axis=1, inplace=True)\n",
    "\n",
    "units.rename(columns=lambda x: \"L_\" + x, inplace=True)\n",
    "units.rename({\"L_DeclarableId\": \"DeclarableId\"}, axis=1, inplace=True)\n",
    "units[\"DeclarableId\"] = units[\"DeclarableId\"].apply(lambda s: s.split(\"$\")[0].removesuffix(\".constructor\").removesuffix(\".initializer\"))"
   ],
   "metadata": {
    "collapsed": false
   }
  },
  {
   "cell_type": "code",
   "execution_count": null,
   "outputs": [],
   "source": [
    "m_mods = pd.merge(types, mods, on=\"DeclarableId\")\n",
    "m_mods = pd.merge(m_mods, df_sonar, on=\"DeclarableId\")\n",
    "print(m_mods)"
   ],
   "metadata": {
    "collapsed": false
   }
  },
  {
   "cell_type": "code",
   "execution_count": null,
   "outputs": [],
   "source": [
    "m_units = pd.merge(methods, units, on=[\"DeclarableId\"])\n",
    "print(m_units)"
   ],
   "metadata": {
    "collapsed": false
   }
  },
  {
   "cell_type": "code",
   "execution_count": null,
   "outputs": [],
   "source": [
    "figure, axis = plt.subplots(4, 2, figsize=(10, 15))"
   ],
   "metadata": {
    "collapsed": false
   }
  },
  {
   "cell_type": "markdown",
   "source": [
    "## Module Lines Of Code"
   ],
   "metadata": {
    "collapsed": false
   }
  },
  {
   "cell_type": "code",
   "execution_count": null,
   "outputs": [],
   "source": [
    "mloc = m_mods[['DeclarableId', 'D_LOC', 'L_MLOC']]\n",
    "print(mloc)"
   ],
   "metadata": {
    "collapsed": false
   }
  },
  {
   "cell_type": "code",
   "execution_count": null,
   "outputs": [],
   "source": [
    "x1 = mloc['D_LOC']\n",
    "# x2 = mloc['S_LOC']\n",
    "x3 = mloc['L_MLOC']\n",
    "\n",
    "plt = axis[0, 0]\n",
    "\n",
    "# Plot\n",
    "# plt.hist([x1, x2, x3], bins=np.linspace(0, 1000, 30), density=True, color=['#3C5DA1', '#B53941', '#469B55'], label=['Designite', 'SonarQube', 'LAMP'])\n",
    "plt.hist([x1, x3], bins=np.linspace(0, 1000, 30), density=True, color=['#3C5DA1', '#469B55'], label=['Designite', 'LAMP'])\n",
    "plt.set(title= \"MLOC Distribution\", xlabel= 'Module Lines of Code', ylabel='Density')\n",
    "plt.legend()\n",
    "# plt.savefig('images/lottie-MLOC.png')\n",
    "# plt.show()"
   ],
   "metadata": {
    "collapsed": false
   }
  },
  {
   "cell_type": "markdown",
   "source": [
    "## Module Number Of Units"
   ],
   "metadata": {
    "collapsed": false
   }
  },
  {
   "cell_type": "code",
   "execution_count": null,
   "outputs": [],
   "source": [
    "nou = m_mods[['DeclarableId', 'D_NOM', 'L_NOU']]\n",
    "print(nou)"
   ],
   "metadata": {
    "collapsed": false
   }
  },
  {
   "cell_type": "code",
   "execution_count": null,
   "outputs": [],
   "source": [
    "x1 = m_mods['D_NOM']\n",
    "x2 = m_mods['L_NOU']\n",
    "\n",
    "plt = axis[0, 1]\n",
    "\n",
    "# Plot\n",
    "plt.hist([x1, x2], bins=np.linspace(0, 50, 30), density=True, label=['Designite', 'LAMP'])\n",
    "plt.set(title= \"NOU Distribution\", xlabel= 'Number of Units', ylabel='Density')\n",
    "plt.legend()\n",
    "# plt.savefig('images/lottie-NOU.png')\n",
    "# plt.show()"
   ],
   "metadata": {
    "collapsed": false
   }
  },
  {
   "cell_type": "markdown",
   "source": [
    "## Module Weighted Method per Class (WMC)"
   ],
   "metadata": {
    "collapsed": false
   }
  },
  {
   "cell_type": "code",
   "execution_count": null,
   "outputs": [],
   "source": [
    "wmc = m_mods[['DeclarableId', 'D_WMC', 'L_WMC']]\n",
    "print(wmc)"
   ],
   "metadata": {
    "collapsed": false
   }
  },
  {
   "cell_type": "code",
   "execution_count": null,
   "outputs": [],
   "source": [
    "x1 = m_mods['D_WMC']\n",
    "x2 = m_mods['L_WMC']\n",
    "\n",
    "\n",
    "plt = axis[1, 0]\n",
    "\n",
    "# Plot\n",
    "plt.hist([x1, x2], bins=np.linspace(0, 100, 30), density=True, label=['Designite', 'LAMP'])\n",
    "plt.set(title= \"WMC Distribution\", xlabel= 'Weighted Methods per Class', ylabel='Density')\n",
    "plt.legend()\n",
    "# plt.savefig('images/lottie-WMC.png')\n",
    "# plt.show()"
   ],
   "metadata": {
    "collapsed": false
   }
  },
  {
   "cell_type": "markdown",
   "source": [
    "## Module - Cognitively Weighted Method per Class (CWMC)"
   ],
   "metadata": {
    "collapsed": false
   }
  },
  {
   "cell_type": "code",
   "execution_count": null,
   "outputs": [],
   "source": [
    "cwmc = m_mods[['DeclarableId', 'S_COCO', 'L_CWMC']].copy()\n",
    "print(cwmc)"
   ],
   "metadata": {
    "collapsed": false
   }
  },
  {
   "cell_type": "code",
   "execution_count": null,
   "outputs": [],
   "source": [
    "cwmc[\"Diff\"] = cwmc[\"S_COCO\"] - cwmc[\"L_CWMC\"]\n",
    "print(cwmc.loc[cwmc[\"Diff\"] > 5])"
   ],
   "metadata": {
    "collapsed": false
   }
  },
  {
   "cell_type": "code",
   "execution_count": null,
   "outputs": [],
   "source": [
    "x1 = m_mods['S_COCO']\n",
    "x2 = m_mods['L_CWMC']\n",
    "\n",
    "plt = axis[1, 1]\n",
    "\n",
    "# Plot\n",
    "plt.hist([x1, x2], bins=np.linspace(0, 100, 30), density=True, color=['#B53941', '#469B55'], label=['SonarQube', 'LAMP'])\n",
    "plt.set(title= \"CWMC Distribution\", xlabel= 'Cognitively Weighted Methods per Class', ylabel='Density')\n",
    "plt.legend()\n",
    "# plt.savefig('images/lottie-CWMC.png')\n",
    "# plt.show()"
   ],
   "metadata": {
    "collapsed": false
   }
  },
  {
   "cell_type": "markdown",
   "source": [
    "## Module Depth of Inheritance (DIT)"
   ],
   "metadata": {
    "collapsed": false
   }
  },
  {
   "cell_type": "code",
   "execution_count": null,
   "outputs": [],
   "source": [
    "dit = m_mods[['DeclarableId', 'D_DIT', 'L_DIT']]\n",
    "print(dit)"
   ],
   "metadata": {
    "collapsed": false
   }
  },
  {
   "cell_type": "code",
   "execution_count": null,
   "outputs": [],
   "source": [
    "dit[\"Diff\"] = dit[\"D_DIT\"] - dit[\"L_DIT\"]\n",
    "print(dit.loc[dit[\"Diff\"] > 0])"
   ],
   "metadata": {
    "collapsed": false
   }
  },
  {
   "cell_type": "code",
   "execution_count": null,
   "outputs": [],
   "source": [
    "x1 = m_mods['D_DIT']\n",
    "x2 = m_mods['L_DIT']\n",
    "\n",
    "plt = axis[2, 0]\n",
    "\n",
    "# Plot\n",
    "plt.hist([x1, x2], bins=np.linspace(0, 6, 10), density=True, label=['Designite', 'LAMP'])\n",
    "plt.set(title= \"DIT Distribution\", xlabel= 'Depth of Inheritance Tree', ylabel='Density')\n",
    "plt.legend()\n",
    "# plt.savefig('images/lottie-DIT.png')\n",
    "# plt.show()"
   ],
   "metadata": {
    "collapsed": false
   }
  },
  {
   "cell_type": "markdown",
   "source": [
    "## Module - Number of Children"
   ],
   "metadata": {
    "collapsed": false
   }
  },
  {
   "cell_type": "code",
   "execution_count": null,
   "outputs": [],
   "source": [
    "noc = m_mods[['DeclarableId', 'D_NC', 'L_NOC']]\n",
    "print(noc)"
   ],
   "metadata": {
    "collapsed": false
   }
  },
  {
   "cell_type": "code",
   "execution_count": null,
   "outputs": [],
   "source": [
    "x1 = m_mods['D_NC']\n",
    "x2 = m_mods['L_NOC']\n",
    "\n",
    "plt = axis[2, 1]\n",
    "\n",
    "# Plot\n",
    "plt.hist([x1, x2], bins=np.linspace(0, 10, 10), density=True, label=['Designite', 'LAMP'])\n",
    "plt.set(title= \"NOC Distribution\", xlabel= 'Number of Children', ylabel='Density')\n",
    "plt.legend()\n",
    "# plt.savefig('images/lottie-NOC.png')\n",
    "# plt.show()"
   ],
   "metadata": {
    "collapsed": false
   }
  },
  {
   "cell_type": "markdown",
   "source": [
    "## Module - Lack of Cohesion in Methods (LCOM)"
   ],
   "metadata": {
    "collapsed": false
   }
  },
  {
   "cell_type": "code",
   "execution_count": null,
   "outputs": [],
   "source": [
    "lcom = m_mods[['DeclarableId', 'D_LCOM', 'L_LCOM']]\n",
    "print(lcom)"
   ],
   "metadata": {
    "collapsed": false
   }
  },
  {
   "cell_type": "markdown",
   "source": [
    "## Unit - Lines of Code"
   ],
   "metadata": {
    "collapsed": false
   }
  },
  {
   "cell_type": "code",
   "execution_count": null,
   "outputs": [],
   "source": [
    "uloc = m_units[['DeclarableId', 'D_LOC', 'L_ULOC']]\n",
    "print(uloc)"
   ],
   "metadata": {
    "collapsed": false
   }
  },
  {
   "cell_type": "markdown",
   "source": [
    "## Unit - Cyclomatic Complexity"
   ],
   "metadata": {
    "collapsed": false
   }
  },
  {
   "cell_type": "code",
   "execution_count": null,
   "outputs": [],
   "source": [
    "cc = m_units[['DeclarableId', 'D_CC', 'L_CC']]\n",
    "print(cc)"
   ],
   "metadata": {
    "collapsed": false
   }
  },
  {
   "cell_type": "code",
   "execution_count": null,
   "outputs": [],
   "source": [
    "x1 = m_units['D_CC']\n",
    "x2 = m_units['L_CC']\n",
    "\n",
    "plt = axis[3, 0]\n",
    "\n",
    "# Plot\n",
    "plt.hist([x1, x2], bins=np.linspace(0, 10, 10), density=True, label=['Designite', 'LAMP'])\n",
    "plt.set(title= \"CC Distribution\", xlabel= 'Cyclomatic Complexity', ylabel='Density')\n",
    "plt.legend()\n",
    "# plt.savefig('images/lottie-CC.png')\n",
    "# plt.show()"
   ],
   "metadata": {
    "collapsed": false
   }
  },
  {
   "cell_type": "markdown",
   "source": [
    "## Unit - Parameter Count"
   ],
   "metadata": {
    "collapsed": false
   }
  },
  {
   "cell_type": "code",
   "execution_count": null,
   "outputs": [],
   "source": [
    "pc = m_units[['DeclarableId', 'D_PC', 'L_PC']]\n",
    "print(pc)"
   ],
   "metadata": {
    "collapsed": false
   }
  },
  {
   "cell_type": "code",
   "execution_count": null,
   "outputs": [],
   "source": [
    "x1 = m_units['D_PC']\n",
    "x2 = m_units['L_PC']\n",
    "\n",
    "plt = axis[3, 1]\n",
    "\n",
    "# Plot\n",
    "plt.hist([x1, x2], bins=np.linspace(0, 10, 10), density=True, label=['Designite', 'LAMP'])\n",
    "plt.set(title= \"PC Distribution\", xlabel= 'Parameter Count', ylabel='Density')\n",
    "plt.legend()\n",
    "# plt.savefig('images/lottie-PC.png')\n",
    "# plt.show()"
   ],
   "metadata": {
    "collapsed": false
   }
  },
  {
   "cell_type": "code",
   "execution_count": null,
   "outputs": [],
   "source": [
    "m = m_mods.copy()\n",
    "u = m_units.copy()\n",
    "m[\"DELTA_MLOC\"] = (m[\"D_LOC\"] - m[\"L_MLOC\"]).abs()\n",
    "m[\"DELTA_WMC\"] = (m[\"D_WMC\"] - m[\"L_WMC\"]).abs()\n",
    "m[\"DELTA_CWMC\"] = (m[\"S_COCO\"] - m[\"L_CWMC\"]).abs()\n",
    "m[\"DELTA_DIT\"] = (m[\"D_DIT\"] - m[\"L_DIT\"]).abs()\n",
    "m[\"DELTA_NOC\"] = (m[\"D_NC\"] - m[\"L_NOC\"]).abs()\n",
    "m[\"DELTA_NOU\"] = (m[\"D_NOM\"] - m[\"L_NOU\"]).abs()\n",
    "\n",
    "u[\"DELTA_CC\"] = (u[\"D_CC\"] - u[\"L_CC\"]).abs()\n",
    "u[\"DELTA_PC\"] = (u[\"D_PC\"] - u[\"L_PC\"]).abs()"
   ],
   "metadata": {
    "collapsed": false
   }
  },
  {
   "cell_type": "code",
   "execution_count": null,
   "outputs": [],
   "source": [
    "m"
   ],
   "metadata": {
    "collapsed": false
   }
  },
  {
   "cell_type": "code",
   "execution_count": null,
   "outputs": [],
   "source": [
    "u"
   ],
   "metadata": {
    "collapsed": false
   }
  },
  {
   "cell_type": "code",
   "execution_count": null,
   "outputs": [],
   "source": [
    "def stats(column):\n",
    "    print(f\"mean = {column.mean()}\")\n",
    "    print(f\"median = {column.median()}\")\n",
    "    print(f\"90% = {column.quantile(0.9)}\")\n",
    "    print(f\"95% = {column.quantile(0.95)}\")\n",
    "    print(f\"99% = {column.quantile(0.99)}\")"
   ],
   "metadata": {
    "collapsed": false
   }
  },
  {
   "cell_type": "code",
   "execution_count": null,
   "outputs": [],
   "source": [
    "import matplotlib.pyplot as plt\n",
    "\n",
    "figure, axis = plt.subplots(4, 2, figsize=(10, 15))\n",
    "plt.locator_params(axis=\"both\", integer=True, tight=True)\n",
    "\n",
    "def plot(subplot, df, metric: str):\n",
    "    y, x, _ = subplot.hist(df[f\"DELTA_{metric}\"], bins=50, label=[metric])\n",
    "    subplot.set(title= fr\"$\\Delta$ {metric} Distribution\", xlabel= fr\"$\\Delta$ {metric}\", ylabel='Count')\n",
    "    subplot.legend()\n",
    "\n",
    "    quant_95 = df[f\"DELTA_{metric}\"].quantile(0.95)\n",
    "    subplot.axvline(quant_95, alpha=0.8, ymax = 0.4, linestyle = \":\")\n",
    "    subplot.text(quant_95-0.20, y.max() * 0.425, \"95th\", size = 10, alpha = 0.85)\n",
    "\n",
    "plot(axis[0, 0], m, \"MLOC\")\n",
    "plot(axis[0, 1], m, \"WMC\")\n",
    "plot(axis[1, 0], m, \"CWMC\")\n",
    "plot(axis[1, 1], m, \"DIT\")\n",
    "plot(axis[2, 0], m, \"NOC\")\n",
    "plot(axis[2, 1], m, \"NOU\")\n",
    "plot(axis[3, 0], u, \"CC\")\n",
    "plot(axis[3, 1], u, \"PC\")\n",
    "\n",
    "figure.tight_layout()\n",
    "figure.savefig(f'images/{project}-distributions.png')"
   ],
   "metadata": {
    "collapsed": false
   }
  },
  {
   "cell_type": "code",
   "execution_count": null,
   "outputs": [],
   "source": [
    "def get_outliers(df, metric: str):\n",
    "    outliers = df[df[f\"DELTA_{metric}\"] >= df[f\"DELTA_{metric}\"].quantile(0.95)]\n",
    "    return outliers"
   ],
   "metadata": {
    "collapsed": false
   }
  },
  {
   "cell_type": "code",
   "execution_count": null,
   "outputs": [],
   "source": [
    "get_outliers(m, \"MLOC\").loc[:, [\"DeclarableId\", \"D_LOC\", \"L_MLOC\", \"DELTA_MLOC\"]].sort_values(by=\"DELTA_MLOC\", ascending=False)"
   ],
   "metadata": {
    "collapsed": false
   }
  },
  {
   "cell_type": "code",
   "execution_count": null,
   "outputs": [],
   "source": [
    "get_outliers(m, \"WMC\").loc[:, [\"DeclarableId\", \"D_WMC\", \"L_WMC\", \"DELTA_WMC\"]].sort_values(by=\"DeclarableId\", ascending=False)"
   ],
   "metadata": {
    "collapsed": false
   }
  },
  {
   "cell_type": "code",
   "execution_count": null,
   "outputs": [],
   "source": [
    "get_outliers(u, \"CC\").loc[:, [\"DeclarableId\", \"D_CC\", \"L_CC\", \"DELTA_CC\"]].sort_values(by=\"DeclarableId\", ascending=False)"
   ],
   "metadata": {
    "collapsed": false
   }
  },
  {
   "cell_type": "code",
   "execution_count": null,
   "outputs": [],
   "source": [
    "m[m[\"DELTA_CWMC\"] > 0].loc[:, [\"DeclarableId\", \"S_COCO\", \"L_CWMC\", \"DELTA_CWMC\"]].sort_values(by=\"DeclarableId\")"
   ],
   "metadata": {
    "collapsed": false
   }
  },
  {
   "cell_type": "code",
   "execution_count": null,
   "outputs": [],
   "source": [
    "u[u[\"L_COCO\"] > 0].loc[:, [\"DeclarableId\",\"L_COCO\"]].sort_values(by=\"DeclarableId\")"
   ],
   "metadata": {
    "collapsed": false
   }
  },
  {
   "cell_type": "code",
   "execution_count": null,
   "outputs": [],
   "source": [
    "get_outliers(m, \"DIT\").loc[:, [\"DeclarableId\", \"D_DIT\", \"L_DIT\", \"DELTA_DIT\"]].sort_values(by=\"DELTA_DIT\", ascending=False)"
   ],
   "metadata": {
    "collapsed": false
   }
  },
  {
   "cell_type": "code",
   "execution_count": null,
   "outputs": [],
   "source": [
    "get_outliers(m, \"NOC\").loc[:, [\"DeclarableId\", \"D_NC\", \"L_NOC\", \"DELTA_NOC\"]].sort_values(by=\"DELTA_NOC\", ascending=False)"
   ],
   "metadata": {
    "collapsed": false
   }
  },
  {
   "cell_type": "code",
   "execution_count": null,
   "outputs": [],
   "source": [
    "m.loc[:, [\"DeclarableId\", \"L_NOC\"]].sort_values(by=\"L_NOC\", ascending=False)"
   ],
   "metadata": {
    "collapsed": false
   }
  },
  {
   "cell_type": "code",
   "execution_count": null,
   "outputs": [],
   "source": [
    "get_outliers(m, \"NOU\").loc[:, [\"DeclarableId\", \"D_NOM\", \"L_NOU\", \"DELTA_NOU\"]].sort_values(by=\"DELTA_NOU\", ascending=False)"
   ],
   "metadata": {
    "collapsed": false
   }
  },
  {
   "cell_type": "markdown",
   "source": [],
   "metadata": {
    "collapsed": false
   }
  },
  {
   "cell_type": "code",
   "execution_count": null,
   "outputs": [],
   "source": [
    "u.loc[:, [\"DeclarableId\", \"D_PC\", \"L_PC\", \"DELTA_PC\"]].sort_values(by=[\"DELTA_PC\"], ascending=False).replace(to_replace=0, value=np.nan).dropna().drop_duplicates(subset=\"DeclarableId\", keep=False)"
   ],
   "metadata": {
    "collapsed": false
   }
  },
  {
   "cell_type": "code",
   "execution_count": null,
   "outputs": [],
   "source": [],
   "metadata": {
    "collapsed": false
   }
  }
 ],
 "metadata": {
  "kernelspec": {
   "display_name": "Python 3",
   "language": "python",
   "name": "python3"
  },
  "language_info": {
   "codemirror_mode": {
    "name": "ipython",
    "version": 2
   },
   "file_extension": ".py",
   "mimetype": "text/x-python",
   "name": "python",
   "nbconvert_exporter": "python",
   "pygments_lexer": "ipython2",
   "version": "2.7.6"
  }
 },
 "nbformat": 4,
 "nbformat_minor": 0
}
