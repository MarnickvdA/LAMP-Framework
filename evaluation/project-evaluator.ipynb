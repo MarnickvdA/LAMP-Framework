{
 "cells": [
  {
   "cell_type": "code",
   "execution_count": 3776,
   "metadata": {
    "collapsed": true
   },
   "outputs": [],
   "source": [
    "import pandas as pd\n",
    "import numpy as np\n",
    "import matplotlib.pyplot as plt"
   ]
  },
  {
   "cell_type": "code",
   "execution_count": 3777,
   "outputs": [],
   "source": [
    "# Insert name of project\n",
    "project = \"antlr\""
   ],
   "metadata": {
    "collapsed": false
   }
  },
  {
   "cell_type": "markdown",
   "source": [],
   "metadata": {
    "collapsed": false
   }
  },
  {
   "cell_type": "markdown",
   "source": [
    "# Designite Metrics"
   ],
   "metadata": {
    "collapsed": false
   }
  },
  {
   "cell_type": "code",
   "execution_count": 3778,
   "outputs": [],
   "source": [
    "df_types = pd.read_csv(f'data/designite-{project}/TypeMetrics.csv', usecols=[\"Package Name\", \"Type Name\", \"NOF\", \"NOM\", \"NOPF\", \"NOPM\", \"LOC\", \"WMC\", \"NC\", \"DIT\", \"LCOM\", \"FANIN\", \"FANOUT\"])\n",
    "df_types.insert(0, \"DeclarableId\", df_types[['Package Name', 'Type Name']].agg('.'.join, axis=1))\n",
    "df_types.drop([\"Package Name\", \"Type Name\"], axis=\"columns\", inplace=True)\n",
    "\n",
    "df_methods = pd.read_csv(f'data/designite-{project}/MethodMetrics.csv', usecols=[\"Package Name\", \"Type Name\", \"Method Name\", \"LOC\", \"CC\", \"PC\"])\n",
    "df_methods.insert(0, \"DeclarableId\", df_methods[['Package Name', 'Type Name']].agg('.'.join, axis=1))\n",
    "df_methods[\"DeclarableId\"] = df_methods[['DeclarableId', 'Method Name']].agg('://'.join, axis=1)\n",
    "df_methods.drop([\"Package Name\", \"Type Name\", \"Method Name\"], axis=\"columns\", inplace=True)"
   ],
   "metadata": {
    "collapsed": false
   }
  },
  {
   "cell_type": "code",
   "execution_count": 3779,
   "outputs": [
    {
     "name": "stdout",
     "output_type": "stream",
     "text": [
      "                                  DeclarableId  NOF  NOPF  NOM  NOPM  LOC  \\\n",
      "0             org.antlr.v4.misc.OrderedHashMap    1     0    6     6   32   \n",
      "1               org.antlr.v4.misc.FrequencySet    0     0    2     2   20   \n",
      "2                      org.antlr.v4.misc.Graph    3     2    4     4   63   \n",
      "3                 org.antlr.v4.misc.Graph.Node    2     2    0     0   14   \n",
      "4      org.antlr.v4.misc.EscapeSequenceParsing    5     5    2     1  117   \n",
      "..                                         ...  ...   ...  ...   ...  ...   \n",
      "250           org.antlr.v4.tool.ast.RuleRefAST    0     0    6     6   26   \n",
      "251             org.antlr.v4.tool.ast.BlockAST    2     2    7     7   28   \n",
      "252  org.antlr.v4.tool.ast.GrammarASTErrorNode    1     0    5     5   21   \n",
      "253           org.antlr.v4.tool.ast.GrammarAST    3     3   24    24  180   \n",
      "254               org.antlr.v4.tool.ast.AltAST    3     3    7     7   38   \n",
      "\n",
      "     WMC  NC  DIT  LCOM  FANIN  FANOUT  \n",
      "0      7   0    0   0.0      2       0  \n",
      "1      4   0    0  -1.0      1       1  \n",
      "2     12   0    0   0.0      0       0  \n",
      "3      0   0    0  -1.0      0       0  \n",
      "4     18   0    0   1.0      1       1  \n",
      "..   ...  ..  ...   ...    ...     ...  \n",
      "250    6   0    2  -1.0      1       1  \n",
      "251    7   0    2   1.0      7       1  \n",
      "252    5   0    1   0.0      0       0  \n",
      "253   54   8    0   1.0     44       0  \n",
      "254    7   0    2   1.0      6       4  \n",
      "\n",
      "[255 rows x 12 columns]\n"
     ]
    }
   ],
   "source": [
    "print(df_types)"
   ],
   "metadata": {
    "collapsed": false
   }
  },
  {
   "cell_type": "code",
   "execution_count": 3780,
   "outputs": [
    {
     "name": "stdout",
     "output_type": "stream",
     "text": [
      "                                       DeclarableId  LOC  CC  PC\n",
      "0         org.antlr.v4.misc.OrderedHashMap://getKey    3   1   1\n",
      "1     org.antlr.v4.misc.OrderedHashMap://getElement    3   1   1\n",
      "2            org.antlr.v4.misc.OrderedHashMap://put    4   1   2\n",
      "3         org.antlr.v4.misc.OrderedHashMap://putAll    5   2   1\n",
      "4         org.antlr.v4.misc.OrderedHashMap://remove    4   1   1\n",
      "...                                             ...  ...  ..  ..\n",
      "1506          org.antlr.v4.tool.ast.AltAST://AltAST    3   1   1\n",
      "1507          org.antlr.v4.tool.ast.AltAST://AltAST    3   1   2\n",
      "1508          org.antlr.v4.tool.ast.AltAST://AltAST    3   1   3\n",
      "1509         org.antlr.v4.tool.ast.AltAST://dupNode    3   1   0\n",
      "1510           org.antlr.v4.tool.ast.AltAST://visit    3   1   1\n",
      "\n",
      "[1511 rows x 4 columns]\n"
     ]
    }
   ],
   "source": [
    "print(df_methods)"
   ],
   "metadata": {
    "collapsed": false
   }
  },
  {
   "cell_type": "markdown",
   "source": [
    "# SonarQube metrics"
   ],
   "metadata": {
    "collapsed": false
   }
  },
  {
   "cell_type": "code",
   "execution_count": 3781,
   "outputs": [
    {
     "name": "stdout",
     "output_type": "stream",
     "text": [
      "                                         DeclarableId  S_COCO  S_LOC\n",
      "0                                   org.antlr.v4.Tool     216      0\n",
      "1                 org.antlr.v4.semantics.SymbolChecks     184      0\n",
      "2               org.antlr.v4.automata.LexerATNFactory     182      0\n",
      "3          org.antlr.v4.tool.GrammarTransformPipeline     180      0\n",
      "4                           org.antlr.v4.tool.Grammar     168      0\n",
      "..                                                ...     ...    ...\n",
      "227                 org.antlr.v4.gui.TreeTextProvider       0      0\n",
      "228      org.antlr.v4.codegen.target.TypeScriptTarget       0      0\n",
      "229              org.antlr.v4.parse.v4ParserException       0      0\n",
      "230  org.antlr.v4.codegen.model.VisitorDispatchMethod       0      0\n",
      "231               org.antlr.v4.codegen.model.Wildcard       0      0\n",
      "\n",
      "[232 rows x 3 columns]\n"
     ]
    }
   ],
   "source": [
    "df_sonar = pd.read_csv(f'data/sonarqube-{project}/CognitiveComplexity.csv', usecols=[\"DeclarableId\",\"S_COCO\", \"S_LOC\"])\n",
    "df_sonar['DeclarableId'] = df_sonar['DeclarableId'].astype(str)\n",
    "pd.to_numeric(df_sonar['S_COCO'])\n",
    "pd.to_numeric(df_sonar['S_LOC'])\n",
    "print(df_sonar)"
   ],
   "metadata": {
    "collapsed": false
   }
  },
  {
   "cell_type": "markdown",
   "source": [
    "# LAMP Metrics"
   ],
   "metadata": {
    "collapsed": false
   }
  },
  {
   "cell_type": "code",
   "execution_count": 3782,
   "outputs": [],
   "source": [
    "df_modules = pd.read_csv(f'data/lamp-{project}/modules.csv', usecols=[\"DeclarableId\",\"MLOC\",\"WMC\",\"CWMC\",\"DIT\",\"NOC\",\"CBO\",\"RFC\",\"LCOM\",\"NOU\",\"LC\"])\n",
    "df_units = pd.read_csv(f'data/lamp-{project}/units.csv', usecols=[\"DeclarableId\",\"ULOC\",\"CC\",\"COCO\",\"PC\",\"LLOC\"])"
   ],
   "metadata": {
    "collapsed": false
   }
  },
  {
   "cell_type": "code",
   "execution_count": 3783,
   "outputs": [
    {
     "name": "stdout",
     "output_type": "stream",
     "text": [
      "                                                   DeclarableId  MLOC  WMC  \\\n",
      "0                    org.antlr.v4.tool.GrammarTransformPipeline   337   80   \n",
      "1                     org.antlr.v4.codegen.model.chunk.TokenRef     5    1   \n",
      "2    org.antlr.v4.codegen.model.decl.ContextTokenListGetterDecl    11    3   \n",
      "3     org.antlr.v4.codegen.model.chunk.TokenPropertyRef_channel     5    1   \n",
      "4                 org.antlr.v4.codegen.model.decl.TokenListDecl     5    1   \n",
      "..                                                          ...   ...  ...   \n",
      "226                                     org.antlr.v4.misc.Utils   109   35   \n",
      "227                 org.antlr.v4.codegen.model.BaseListenerFile     5    1   \n",
      "228                            org.antlr.v4.automata.ATNFactory    39   26   \n",
      "229                    org.antlr.v4.codegen.model.SerializedATN    12    3   \n",
      "230                org.antlr.v4.codegen.BlankOutputModelFactory    26   24   \n",
      "\n",
      "     CWMC  DIT  NOC  CBO  RFC  LCOM  NOU  LC  \n",
      "0     174    0    0  305   80     1    9   0  \n",
      "1       0    3    0    0    0     1    1   0  \n",
      "2       0    4    1    1    2     1    3   0  \n",
      "3       0    3    0    0    0     1    1   0  \n",
      "4       0    4    0    0    0     1    1   0  \n",
      "..    ...  ...  ...  ...  ...   ...  ...  ..  \n",
      "226    29    0    0   83   41     2   12   0  \n",
      "227     0    3    0    0    0     1    1   0  \n",
      "228     0    0    0    2   25    25   26   0  \n",
      "229     0    1    1    3    1     1    3   0  \n",
      "230     0    0    1    0   24     1   24   0  \n",
      "\n",
      "[231 rows x 11 columns]\n"
     ]
    }
   ],
   "source": [
    "df_modules.sort_values(by=[\"DeclarableId\"])\n",
    "print(df_modules)"
   ],
   "metadata": {
    "collapsed": false
   }
  },
  {
   "cell_type": "code",
   "execution_count": 3784,
   "outputs": [
    {
     "name": "stdout",
     "output_type": "stream",
     "text": [
      "                                                                                       DeclarableId  \\\n",
      "0     org.antlr.v4.tool.GrammarTransformPipeline://GrammarTransformPipeline.constructor$[43:8,46:1]   \n",
      "1                                  org.antlr.v4.tool.GrammarTransformPipeline://process$[48:8,58:1]   \n",
      "2                       org.antlr.v4.tool.GrammarTransformPipeline://reduceBlocksToSets$[60:8,66:1]   \n",
      "3                org.antlr.v4.tool.GrammarTransformPipeline://expandParameterizedLoops$[76:11,89:4]   \n",
      "4                 org.antlr.v4.tool.GrammarTransformPipeline://expandParameterizedLoop$[91:11,94:4]   \n",
      "...                                                                                             ...   \n",
      "1505              org.antlr.v4.codegen.BlankOutputModelFactory://getComplexChoiceBlock$[92:8,92:97]   \n",
      "1506                    org.antlr.v4.codegen.BlankOutputModelFactory://getLL1EBNFBlock$[95:8,95:95]   \n",
      "1507                org.antlr.v4.codegen.BlankOutputModelFactory://getComplexEBNFBlock$[98:8,98:99]   \n",
      "1508                       org.antlr.v4.codegen.BlankOutputModelFactory://getLL1Test$[101:8,101:83]   \n",
      "1509               org.antlr.v4.codegen.BlankOutputModelFactory://needsImplicitLabel$[104:8,104:80]   \n",
      "\n",
      "      ULOC  CC  COCO  PC  LLOC  \n",
      "0        4   1     0   2     0  \n",
      "1        9   2     1   0     0  \n",
      "2        7   1     0   1     0  \n",
      "3        5   2     1   1     0  \n",
      "4        3   1     0   1     0  \n",
      "...    ...  ..   ...  ..   ...  \n",
      "1505     1   1     0   2     0  \n",
      "1506     1   1     0   2     0  \n",
      "1507     1   1     0   2     0  \n",
      "1508     1   1     0   2     0  \n",
      "1509     1   1     0   2     0  \n",
      "\n",
      "[1510 rows x 6 columns]\n"
     ]
    }
   ],
   "source": [
    "print(df_units)"
   ],
   "metadata": {
    "collapsed": false
   }
  },
  {
   "cell_type": "markdown",
   "source": [
    "## Distribution analysis"
   ],
   "metadata": {
    "collapsed": false
   }
  },
  {
   "cell_type": "code",
   "execution_count": 3785,
   "outputs": [
    {
     "name": "stdout",
     "output_type": "stream",
     "text": [
      "             MLOC         WMC        CWMC         DIT         NOC         CBO  \\\n",
      "count  231.000000  231.000000  231.000000  231.000000  231.000000  231.000000   \n",
      "mean    62.251082   16.095238   13.909091    1.705628    0.627706   39.662338   \n",
      "std    114.840484   30.924727   33.677182    1.549169    1.776639   82.069474   \n",
      "min      0.000000    0.000000    0.000000    0.000000    0.000000    0.000000   \n",
      "25%      7.000000    1.000000    0.000000    0.000000    0.000000    1.000000   \n",
      "50%     17.000000    5.000000    0.000000    1.000000    0.000000    5.000000   \n",
      "75%     57.500000   14.500000    7.500000    3.000000    0.000000   32.500000   \n",
      "max    808.000000  234.000000  210.000000    6.000000   11.000000  502.000000   \n",
      "\n",
      "              RFC        LCOM         NOU          LC  \n",
      "count  231.000000  231.000000  231.000000  231.000000  \n",
      "mean    12.952381    1.813853    6.536797    0.008658  \n",
      "std     25.141900    3.135349   10.764563    0.092846  \n",
      "min      0.000000    0.000000    0.000000    0.000000  \n",
      "25%      0.000000    1.000000    1.000000    0.000000  \n",
      "50%      3.000000    1.000000    3.000000    0.000000  \n",
      "75%     12.500000    1.000000    7.000000    0.000000  \n",
      "max    185.000000   35.000000   92.000000    1.000000  \n"
     ]
    }
   ],
   "source": [
    "print(df_modules.describe())"
   ],
   "metadata": {
    "collapsed": false
   }
  },
  {
   "cell_type": "markdown",
   "source": [
    "Within the codebase, inheritance and lambdas are rarely used.\n",
    "\n",
    "Let's deepdive into lambdas that are used."
   ],
   "metadata": {
    "collapsed": false
   }
  },
  {
   "cell_type": "code",
   "execution_count": 3786,
   "outputs": [
    {
     "name": "stdout",
     "output_type": "stream",
     "text": [
      "                               DeclarableId  LC\n",
      "20   org.antlr.v4.codegen.model.VisitorFile   1\n",
      "78  org.antlr.v4.codegen.model.ListenerFile   1\n"
     ]
    }
   ],
   "source": [
    "df_lambda = df_modules.loc[df_modules[\"LC\"] > 0][['DeclarableId', 'LC']]\n",
    "print(df_lambda)"
   ],
   "metadata": {
    "collapsed": false
   }
  },
  {
   "cell_type": "markdown",
   "source": [
    "Lambdas are used in 5 places of the code base. These lambda statements were very short. Only describing a call to another method."
   ],
   "metadata": {
    "collapsed": false
   }
  },
  {
   "cell_type": "code",
   "execution_count": 3787,
   "outputs": [
    {
     "name": "stdout",
     "output_type": "stream",
     "text": [
      "              ULOC           CC         COCO           PC         LLOC\n",
      "count  1510.000000  1510.000000  1510.000000  1510.000000  1510.000000\n",
      "mean      8.025828     2.462252     2.127815     1.386093     0.001325\n",
      "std      12.107427     3.417430     6.622368     1.245777     0.036382\n",
      "min       1.000000     1.000000     0.000000     0.000000     0.000000\n",
      "25%       3.000000     1.000000     0.000000     1.000000     0.000000\n",
      "50%       4.000000     1.000000     0.000000     1.000000     0.000000\n",
      "75%       9.000000     2.000000     1.000000     2.000000     0.000000\n",
      "max     168.000000    43.000000   125.000000    10.000000     1.000000\n"
     ]
    }
   ],
   "source": [
    "print(df_units.describe())"
   ],
   "metadata": {
    "collapsed": false
   }
  },
  {
   "cell_type": "markdown",
   "source": [
    "# Analysing module differences"
   ],
   "metadata": {
    "collapsed": false
   }
  },
  {
   "cell_type": "code",
   "execution_count": 3788,
   "outputs": [
    {
     "name": "stdout",
     "output_type": "stream",
     "text": [
      "3                                                org.antlr.v4.misc.Graph.Node\n",
      "5                              org.antlr.v4.misc.EscapeSequenceParsing.Result\n",
      "6                                org.antlr.v4.misc.EscapeSequenceParsing.Type\n",
      "8                                              org.antlr.v4.misc.Utils.Filter\n",
      "9                                               org.antlr.v4.misc.Utils.Func0\n",
      "10                                              org.antlr.v4.misc.Utils.Func1\n",
      "17                    org.antlr.v4.automata.LexerATNFactory.CharSetParseState\n",
      "18                                 org.antlr.v4.automata.LexerATNFactory.Mode\n",
      "21                                    org.antlr.v4.automata.ATNFactory.Handle\n",
      "28                      org.antlr.v4.analysis.LeftRecursiveRuleAnalyzer.ASSOC\n",
      "129                           org.antlr.v4.codegen.model.TestSetInline.Bitset\n",
      "185                                           org.antlr.v4.Tool.OptionArgType\n",
      "186                                                  org.antlr.v4.Tool.Option\n",
      "187                                            org.antlr.v4.Tool.UndefChecker\n",
      "192                       org.antlr.v4.gui.TreeViewer.DefaultTreeTextProvider\n",
      "193                         org.antlr.v4.gui.TreeViewer.VariableExtentProvide\n",
      "194                               org.antlr.v4.gui.TreeViewer.TreeNodeWrapper\n",
      "195                                     org.antlr.v4.gui.TreeViewer.EmptyIcon\n",
      "199                      org.antlr.v4.gui.Interpreter.IgnoreTokenVocabGrammar\n",
      "201              org.antlr.v4.gui.TreeLayoutAdaptor.AntlrTreeChildrenIterable\n",
      "202       org.antlr.v4.gui.TreeLayoutAdaptor.AntlrTreeChildrenReverseIterable\n",
      "204            org.antlr.v4.gui.TreePostScriptGenerator.VariableExtentProvide\n",
      "214    org.antlr.v4.tool.GrammarParserInterpreter.BailButConsumeErrorStrategy\n",
      "225                                  org.antlr.v4.tool.AttributeDict.DictType\n",
      "Name: DeclarableId, dtype: object\n"
     ]
    }
   ],
   "source": [
    "module_diff = pd.concat([df_types[\"DeclarableId\"], df_modules[\"DeclarableId\"]]).drop_duplicates(keep=False)\n",
    "print(module_diff)"
   ],
   "metadata": {
    "collapsed": false
   }
  },
  {
   "cell_type": "markdown",
   "source": [
    "33 Modules aren't support by the LAMP framework due to inner modules not being supported."
   ],
   "metadata": {
    "collapsed": false
   }
  },
  {
   "cell_type": "code",
   "execution_count": 3789,
   "outputs": [
    {
     "name": "stdout",
     "output_type": "stream",
     "text": [
      "26                                                   org.antlr.v4.misc.MutableInt://MutableInt\n",
      "43                 org.antlr.v4.automata.CharactersDataCheckStatus://CharactersDataCheckStatus\n",
      "44                                               org.antlr.v4.automata.ATNPrinter://ATNPrinter\n",
      "47                                   org.antlr.v4.automata.ParserATNFactory://ParserATNFactory\n",
      "125                                          org.antlr.v4.automata.ATNOptimizer://ATNOptimizer\n",
      "                                                 ...                                          \n",
      "1420    org.antlr.v4.codegen.model.chunk.RulePropertyRef_ctx://RulePropertyRef_ctx.constructor\n",
      "1426                                    org.antlr.v4.codegen.model.Choice://Choice.constructor\n",
      "1431                    org.antlr.v4.semantics.SemanticPipeline://SemanticPipeline.constructor\n",
      "1442            org.antlr.v4.codegen.model.chunk.RulePropertyRef://RulePropertyRef.constructor\n",
      "1456                org.antlr.v4.codegen.model.BaseListenerFile://BaseListenerFile.constructor\n",
      "Name: DeclarableId, Length: 356, dtype: object\n"
     ]
    }
   ],
   "source": [
    "unit_diff = pd.concat([df_methods[\"DeclarableId\"], df_units[\"DeclarableId\"].apply(lambda s: s.split(\"$\")[0])]).drop_duplicates(keep=False)\n",
    "print(unit_diff)"
   ],
   "metadata": {
    "collapsed": false
   }
  },
  {
   "cell_type": "markdown",
   "source": [
    "261 Units aren't recognized by the LAMP framework at a first glance. When looking at each method precisely, we see that constructors and initializers aren't being matched by name due to their naming conventions within the LAMP framework."
   ],
   "metadata": {
    "collapsed": false
   }
  },
  {
   "cell_type": "code",
   "execution_count": 3790,
   "outputs": [
    {
     "name": "stdout",
     "output_type": "stream",
     "text": [
      "332         org.antlr.v4.semantics.UseDefAnalyzer://nonLocalAttr\n",
      "333        org.antlr.v4.semantics.UseDefAnalyzer://qualifiedAttr\n",
      "334              org.antlr.v4.semantics.UseDefAnalyzer://setAttr\n",
      "335     org.antlr.v4.semantics.UseDefAnalyzer://setExprAttribute\n",
      "336      org.antlr.v4.semantics.UseDefAnalyzer://setNonLocalAttr\n",
      "337                 org.antlr.v4.semantics.UseDefAnalyzer://attr\n",
      "622               org.antlr.v4.codegen.Target://compileTimeError\n",
      "623                   org.antlr.v4.codegen.Target://runTimeError\n",
      "624                        org.antlr.v4.codegen.Target://IOError\n",
      "625                  org.antlr.v4.codegen.Target://internalError\n",
      "626                    org.antlr.v4.codegen.Target://reportError\n",
      "993                     org.antlr.v4.gui.GraphicsSupport://print\n",
      "1013                  org.antlr.v4.gui.TreeViewer://stateChanged\n",
      "1014                  org.antlr.v4.gui.TreeViewer://valueChanged\n",
      "1015                 org.antlr.v4.gui.TreeViewer://windowClosing\n",
      "1018                        org.antlr.v4.gui.TreeViewer://accept\n",
      "1019                org.antlr.v4.gui.TreeViewer://getDescription\n",
      "1025                          org.antlr.v4.gui.TreeViewer://call\n",
      "1026                           org.antlr.v4.gui.TreeViewer://run\n",
      "1144                            org.antlr.v4.tool.Grammar://info\n",
      "1145                           org.antlr.v4.tool.Grammar://error\n",
      "1146                         org.antlr.v4.tool.Grammar://warning\n",
      "1147                             org.antlr.v4.tool.Grammar://pre\n",
      "1148                            org.antlr.v4.tool.Grammar://post\n",
      "1221                       org.antlr.v4.tool.Grammar://stringRef\n",
      "1222                 org.antlr.v4.tool.Grammar://getErrorManager\n",
      "501                      org.antlr.v4.tool.ErrorType://ErrorType\n",
      "527                  org.antlr.v4.misc.CharSupport://CharSupport\n",
      "1127                   org.antlr.v4.tool.ErrorSeverity://getText\n",
      "1128             org.antlr.v4.tool.ErrorSeverity://ErrorSeverity\n",
      "Name: DeclarableId, dtype: object\n"
     ]
    }
   ],
   "source": [
    "unit_diff_with_constructors = pd.concat([df_methods[\"DeclarableId\"], df_units[\"DeclarableId\"].apply(lambda s:\n",
    "                                                                                                        s.split(\"$\")[0].removesuffix(\".constructor\").removesuffix(\".initializer\")\n",
    "                                                                                                    )]).drop_duplicates(keep=False)\n",
    "print(unit_diff_with_constructors)"
   ],
   "metadata": {
    "collapsed": false
   }
  },
  {
   "cell_type": "markdown",
   "source": [
    "After removing the .constructor and .initializer from the declarable id, we see that these units are now matched to their corresponding method ids from designite.\n",
    "This leaves us with the analysis of the remaining 18 units that aren't getting matched. These are units:\n",
    "\n",
    "- Enum declarations by the LAMP framework, these aren't evaluated by Designite.\n",
    "- Anonymous class declarations: these aren't evaluated by the LAMP framework\n",
    "- Inner Module Units: these aren't evaluated by the LAMP framework."
   ],
   "metadata": {
    "collapsed": false
   }
  },
  {
   "cell_type": "markdown",
   "source": [
    "# Metric performance"
   ],
   "metadata": {
    "collapsed": false
   }
  },
  {
   "cell_type": "code",
   "execution_count": 3791,
   "outputs": [],
   "source": [
    "types = df_types\n",
    "methods = df_methods\n",
    "\n",
    "mods = df_modules\n",
    "units = df_units\n",
    "\n",
    "types.rename(columns=lambda x: \"D_\" + x, inplace=True)\n",
    "types.rename({\"D_DeclarableId\": \"DeclarableId\"}, axis=1, inplace=True)\n",
    "\n",
    "methods.rename(columns=lambda x: \"D_\" + x, inplace=True)\n",
    "methods.rename({\"D_DeclarableId\": \"DeclarableId\"}, axis=1, inplace=True)\n",
    "\n",
    "mods.rename(columns=lambda x: \"L_\" + x, inplace=True)\n",
    "mods.rename({\"L_DeclarableId\": \"DeclarableId\"}, axis=1, inplace=True)\n",
    "\n",
    "units.rename(columns=lambda x: \"L_\" + x, inplace=True)\n",
    "units.rename({\"L_DeclarableId\": \"DeclarableId\"}, axis=1, inplace=True)\n",
    "units[\"DeclarableId\"] = units[\"DeclarableId\"].apply(lambda s: s.split(\"$\")[0].removesuffix(\".constructor\").removesuffix(\".initializer\"))"
   ],
   "metadata": {
    "collapsed": false
   }
  },
  {
   "cell_type": "code",
   "execution_count": 3792,
   "outputs": [
    {
     "name": "stdout",
     "output_type": "stream",
     "text": [
      "                                  DeclarableId  D_NOF  D_NOPF  D_NOM  D_NOPM  \\\n",
      "0             org.antlr.v4.misc.OrderedHashMap      1       0      6       6   \n",
      "1               org.antlr.v4.misc.FrequencySet      0       0      2       2   \n",
      "2                      org.antlr.v4.misc.Graph      3       2      4       4   \n",
      "3      org.antlr.v4.misc.EscapeSequenceParsing      5       5      2       1   \n",
      "4                      org.antlr.v4.misc.Utils      1       1     12      12   \n",
      "..                                         ...    ...     ...    ...     ...   \n",
      "224           org.antlr.v4.tool.ast.RuleRefAST      0       0      6       6   \n",
      "225             org.antlr.v4.tool.ast.BlockAST      2       2      7       7   \n",
      "226  org.antlr.v4.tool.ast.GrammarASTErrorNode      1       0      5       5   \n",
      "227           org.antlr.v4.tool.ast.GrammarAST      3       3     24      24   \n",
      "228               org.antlr.v4.tool.ast.AltAST      3       3      7       7   \n",
      "\n",
      "     D_LOC  D_WMC  D_NC  D_DIT  D_LCOM  ...  L_CWMC  L_DIT  L_NOC  L_CBO  \\\n",
      "0       32      7     0      0     0.0  ...       1      1      0     12   \n",
      "1       20      4     0      0    -1.0  ...       3      1      0      4   \n",
      "2       63     12     0      0     0.0  ...      13      0      0     26   \n",
      "3      117     18     0      0     1.0  ...      39      0      0     74   \n",
      "4      119     32     0      0     1.0  ...      29      0      0     83   \n",
      "..     ...    ...   ...    ...     ...  ...     ...    ...    ...    ...   \n",
      "224     26      6     0      2    -1.0  ...       0      3      0      7   \n",
      "225     28      7     0      2     1.0  ...       0      3      0      4   \n",
      "226     21      5     0      1     0.0  ...       0      2      0      6   \n",
      "227    180     54     8      0     1.0  ...      48      1      8     83   \n",
      "228     38      7     0      2     1.0  ...       0      3      0      8   \n",
      "\n",
      "     L_RFC  L_LCOM  L_NOU  L_LC  S_COCO  S_LOC  \n",
      "0       10       1      6     0       1      0  \n",
      "1        5       1      2     0       3      0  \n",
      "2       13       1      4     0      15      0  \n",
      "3       12       1      2     0      42      0  \n",
      "4       41       2     12     0      29      0  \n",
      "..     ...     ...    ...   ...     ...    ...  \n",
      "224      4       1      6     0       0      0  \n",
      "225      3       1      7     0       0      0  \n",
      "226      4       1      5     0       0      0  \n",
      "227     44       1     24     0      48      0  \n",
      "228      3       1      7     0       0      0  \n",
      "\n",
      "[229 rows x 24 columns]\n"
     ]
    }
   ],
   "source": [
    "m_mods = pd.merge(types, mods, on=\"DeclarableId\")\n",
    "m_mods = pd.merge(m_mods, df_sonar, on=\"DeclarableId\")\n",
    "print(m_mods)"
   ],
   "metadata": {
    "collapsed": false
   }
  },
  {
   "cell_type": "code",
   "execution_count": 3793,
   "outputs": [
    {
     "name": "stdout",
     "output_type": "stream",
     "text": [
      "DeclarableId    1510\n",
      "L_ULOC          1510\n",
      "L_CC            1510\n",
      "L_COCO          1510\n",
      "L_PC            1510\n",
      "L_LLOC          1510\n",
      "dtype: int64\n",
      "DeclarableId    1511\n",
      "D_LOC           1511\n",
      "D_CC            1511\n",
      "D_PC            1511\n",
      "dtype: int64\n",
      "9220\n"
     ]
    }
   ],
   "source": [
    "print(units.count())\n",
    "print(methods.count())\n",
    "\n",
    "print(4652 + 4568)"
   ],
   "metadata": {
    "collapsed": false
   }
  },
  {
   "cell_type": "code",
   "execution_count": 3794,
   "outputs": [
    {
     "data": {
      "text/plain": "                                                                                DeclarableId  \\\n0                                                                   org.antlr.v4.Tool://Tool   \n1                                                            org.antlr.v4.Tool://addListener   \n2                                                     org.antlr.v4.Tool://checkForRuleIssues   \n3                                                          org.antlr.v4.Tool://createGrammar   \n4                                                                  org.antlr.v4.Tool://error   \n...                                                                                      ...   \n1315  org.antlr.v4.unicode.UnicodeDataTemplateController://addUnicodeIntPropertyCodesToNames   \n1316       org.antlr.v4.unicode.UnicodeDataTemplateController://addUnicodeScriptCodesToNames   \n1317         org.antlr.v4.unicode.UnicodeDataTemplateController://addUnicodeSetToIntervalSet   \n1318                      org.antlr.v4.unicode.UnicodeDataTemplateController://getProperties   \n1319               org.antlr.v4.unicode.UnicodeDataTemplateController://getShortPropertyName   \n\n      L_CC  L_PC  L_ULOC  \n0        3     1      11  \n1        2     1       3  \n2       10     1      30  \n3        3     1       6  \n4        3     1       7  \n...    ...   ...     ...  \n1315     4     1      16  \n1316     1     1       3  \n1317     2     2       5  \n1318     1     0      19  \n1319     2     1       7  \n\n[1320 rows x 4 columns]",
      "text/html": "<div>\n<style scoped>\n    .dataframe tbody tr th:only-of-type {\n        vertical-align: middle;\n    }\n\n    .dataframe tbody tr th {\n        vertical-align: top;\n    }\n\n    .dataframe thead th {\n        text-align: right;\n    }\n</style>\n<table border=\"1\" class=\"dataframe\">\n  <thead>\n    <tr style=\"text-align: right;\">\n      <th></th>\n      <th>DeclarableId</th>\n      <th>L_CC</th>\n      <th>L_PC</th>\n      <th>L_ULOC</th>\n    </tr>\n  </thead>\n  <tbody>\n    <tr>\n      <th>0</th>\n      <td>org.antlr.v4.Tool://Tool</td>\n      <td>3</td>\n      <td>1</td>\n      <td>11</td>\n    </tr>\n    <tr>\n      <th>1</th>\n      <td>org.antlr.v4.Tool://addListener</td>\n      <td>2</td>\n      <td>1</td>\n      <td>3</td>\n    </tr>\n    <tr>\n      <th>2</th>\n      <td>org.antlr.v4.Tool://checkForRuleIssues</td>\n      <td>10</td>\n      <td>1</td>\n      <td>30</td>\n    </tr>\n    <tr>\n      <th>3</th>\n      <td>org.antlr.v4.Tool://createGrammar</td>\n      <td>3</td>\n      <td>1</td>\n      <td>6</td>\n    </tr>\n    <tr>\n      <th>4</th>\n      <td>org.antlr.v4.Tool://error</td>\n      <td>3</td>\n      <td>1</td>\n      <td>7</td>\n    </tr>\n    <tr>\n      <th>...</th>\n      <td>...</td>\n      <td>...</td>\n      <td>...</td>\n      <td>...</td>\n    </tr>\n    <tr>\n      <th>1315</th>\n      <td>org.antlr.v4.unicode.UnicodeDataTemplateController://addUnicodeIntPropertyCodesToNames</td>\n      <td>4</td>\n      <td>1</td>\n      <td>16</td>\n    </tr>\n    <tr>\n      <th>1316</th>\n      <td>org.antlr.v4.unicode.UnicodeDataTemplateController://addUnicodeScriptCodesToNames</td>\n      <td>1</td>\n      <td>1</td>\n      <td>3</td>\n    </tr>\n    <tr>\n      <th>1317</th>\n      <td>org.antlr.v4.unicode.UnicodeDataTemplateController://addUnicodeSetToIntervalSet</td>\n      <td>2</td>\n      <td>2</td>\n      <td>5</td>\n    </tr>\n    <tr>\n      <th>1318</th>\n      <td>org.antlr.v4.unicode.UnicodeDataTemplateController://getProperties</td>\n      <td>1</td>\n      <td>0</td>\n      <td>19</td>\n    </tr>\n    <tr>\n      <th>1319</th>\n      <td>org.antlr.v4.unicode.UnicodeDataTemplateController://getShortPropertyName</td>\n      <td>2</td>\n      <td>1</td>\n      <td>7</td>\n    </tr>\n  </tbody>\n</table>\n<p>1320 rows × 4 columns</p>\n</div>"
     },
     "execution_count": 3794,
     "metadata": {},
     "output_type": "execute_result"
    }
   ],
   "source": [
    "ucol = units.groupby(\"DeclarableId\")[['L_CC', 'L_PC', \"L_ULOC\"]].sum().reset_index()\n",
    "ucol"
   ],
   "metadata": {
    "collapsed": false
   }
  },
  {
   "cell_type": "code",
   "execution_count": 3795,
   "outputs": [
    {
     "data": {
      "text/plain": "                                                                                DeclarableId  \\\n0                                                                   org.antlr.v4.Tool://Tool   \n1                                                            org.antlr.v4.Tool://addListener   \n2                                                     org.antlr.v4.Tool://checkForRuleIssues   \n3                                                          org.antlr.v4.Tool://createGrammar   \n4                                                                  org.antlr.v4.Tool://error   \n...                                                                                      ...   \n1340  org.antlr.v4.unicode.UnicodeDataTemplateController://addUnicodeIntPropertyCodesToNames   \n1341       org.antlr.v4.unicode.UnicodeDataTemplateController://addUnicodeScriptCodesToNames   \n1342         org.antlr.v4.unicode.UnicodeDataTemplateController://addUnicodeSetToIntervalSet   \n1343                      org.antlr.v4.unicode.UnicodeDataTemplateController://getProperties   \n1344               org.antlr.v4.unicode.UnicodeDataTemplateController://getShortPropertyName   \n\n      D_CC  D_PC  D_LOC  \n0        2     1     10  \n1        2     1      3  \n2        8     1     49  \n3        2     1      7  \n4        3     1      7  \n...    ...   ...    ...  \n1340     3     1     16  \n1341     1     1      3  \n1342     2     2      5  \n1343     1     0     19  \n1344     2     1      7  \n\n[1345 rows x 4 columns]",
      "text/html": "<div>\n<style scoped>\n    .dataframe tbody tr th:only-of-type {\n        vertical-align: middle;\n    }\n\n    .dataframe tbody tr th {\n        vertical-align: top;\n    }\n\n    .dataframe thead th {\n        text-align: right;\n    }\n</style>\n<table border=\"1\" class=\"dataframe\">\n  <thead>\n    <tr style=\"text-align: right;\">\n      <th></th>\n      <th>DeclarableId</th>\n      <th>D_CC</th>\n      <th>D_PC</th>\n      <th>D_LOC</th>\n    </tr>\n  </thead>\n  <tbody>\n    <tr>\n      <th>0</th>\n      <td>org.antlr.v4.Tool://Tool</td>\n      <td>2</td>\n      <td>1</td>\n      <td>10</td>\n    </tr>\n    <tr>\n      <th>1</th>\n      <td>org.antlr.v4.Tool://addListener</td>\n      <td>2</td>\n      <td>1</td>\n      <td>3</td>\n    </tr>\n    <tr>\n      <th>2</th>\n      <td>org.antlr.v4.Tool://checkForRuleIssues</td>\n      <td>8</td>\n      <td>1</td>\n      <td>49</td>\n    </tr>\n    <tr>\n      <th>3</th>\n      <td>org.antlr.v4.Tool://createGrammar</td>\n      <td>2</td>\n      <td>1</td>\n      <td>7</td>\n    </tr>\n    <tr>\n      <th>4</th>\n      <td>org.antlr.v4.Tool://error</td>\n      <td>3</td>\n      <td>1</td>\n      <td>7</td>\n    </tr>\n    <tr>\n      <th>...</th>\n      <td>...</td>\n      <td>...</td>\n      <td>...</td>\n      <td>...</td>\n    </tr>\n    <tr>\n      <th>1340</th>\n      <td>org.antlr.v4.unicode.UnicodeDataTemplateController://addUnicodeIntPropertyCodesToNames</td>\n      <td>3</td>\n      <td>1</td>\n      <td>16</td>\n    </tr>\n    <tr>\n      <th>1341</th>\n      <td>org.antlr.v4.unicode.UnicodeDataTemplateController://addUnicodeScriptCodesToNames</td>\n      <td>1</td>\n      <td>1</td>\n      <td>3</td>\n    </tr>\n    <tr>\n      <th>1342</th>\n      <td>org.antlr.v4.unicode.UnicodeDataTemplateController://addUnicodeSetToIntervalSet</td>\n      <td>2</td>\n      <td>2</td>\n      <td>5</td>\n    </tr>\n    <tr>\n      <th>1343</th>\n      <td>org.antlr.v4.unicode.UnicodeDataTemplateController://getProperties</td>\n      <td>1</td>\n      <td>0</td>\n      <td>19</td>\n    </tr>\n    <tr>\n      <th>1344</th>\n      <td>org.antlr.v4.unicode.UnicodeDataTemplateController://getShortPropertyName</td>\n      <td>2</td>\n      <td>1</td>\n      <td>7</td>\n    </tr>\n  </tbody>\n</table>\n<p>1345 rows × 4 columns</p>\n</div>"
     },
     "execution_count": 3795,
     "metadata": {},
     "output_type": "execute_result"
    }
   ],
   "source": [
    "mcol = methods.groupby(\"DeclarableId\")[['D_CC', 'D_PC', \"D_LOC\"]].sum().reset_index()\n",
    "mcol"
   ],
   "metadata": {
    "collapsed": false
   }
  },
  {
   "cell_type": "code",
   "execution_count": 3796,
   "outputs": [
    {
     "data": {
      "text/plain": "                                                                                DeclarableId  \\\n0                                                                   org.antlr.v4.Tool://Tool   \n1                                                            org.antlr.v4.Tool://addListener   \n2                                                     org.antlr.v4.Tool://checkForRuleIssues   \n3                                                          org.antlr.v4.Tool://createGrammar   \n4                                                                  org.antlr.v4.Tool://error   \n...                                                                                      ...   \n1311  org.antlr.v4.unicode.UnicodeDataTemplateController://addUnicodeIntPropertyCodesToNames   \n1312       org.antlr.v4.unicode.UnicodeDataTemplateController://addUnicodeScriptCodesToNames   \n1313         org.antlr.v4.unicode.UnicodeDataTemplateController://addUnicodeSetToIntervalSet   \n1314                      org.antlr.v4.unicode.UnicodeDataTemplateController://getProperties   \n1315               org.antlr.v4.unicode.UnicodeDataTemplateController://getShortPropertyName   \n\n      L_CC  L_PC  L_ULOC  D_CC  D_PC  D_LOC  \n0        3     1      11     2     1     10  \n1        2     1       3     2     1      3  \n2       10     1      30     8     1     49  \n3        3     1       6     2     1      7  \n4        3     1       7     3     1      7  \n...    ...   ...     ...   ...   ...    ...  \n1311     4     1      16     3     1     16  \n1312     1     1       3     1     1      3  \n1313     2     2       5     2     2      5  \n1314     1     0      19     1     0     19  \n1315     2     1       7     2     1      7  \n\n[1316 rows x 7 columns]",
      "text/html": "<div>\n<style scoped>\n    .dataframe tbody tr th:only-of-type {\n        vertical-align: middle;\n    }\n\n    .dataframe tbody tr th {\n        vertical-align: top;\n    }\n\n    .dataframe thead th {\n        text-align: right;\n    }\n</style>\n<table border=\"1\" class=\"dataframe\">\n  <thead>\n    <tr style=\"text-align: right;\">\n      <th></th>\n      <th>DeclarableId</th>\n      <th>L_CC</th>\n      <th>L_PC</th>\n      <th>L_ULOC</th>\n      <th>D_CC</th>\n      <th>D_PC</th>\n      <th>D_LOC</th>\n    </tr>\n  </thead>\n  <tbody>\n    <tr>\n      <th>0</th>\n      <td>org.antlr.v4.Tool://Tool</td>\n      <td>3</td>\n      <td>1</td>\n      <td>11</td>\n      <td>2</td>\n      <td>1</td>\n      <td>10</td>\n    </tr>\n    <tr>\n      <th>1</th>\n      <td>org.antlr.v4.Tool://addListener</td>\n      <td>2</td>\n      <td>1</td>\n      <td>3</td>\n      <td>2</td>\n      <td>1</td>\n      <td>3</td>\n    </tr>\n    <tr>\n      <th>2</th>\n      <td>org.antlr.v4.Tool://checkForRuleIssues</td>\n      <td>10</td>\n      <td>1</td>\n      <td>30</td>\n      <td>8</td>\n      <td>1</td>\n      <td>49</td>\n    </tr>\n    <tr>\n      <th>3</th>\n      <td>org.antlr.v4.Tool://createGrammar</td>\n      <td>3</td>\n      <td>1</td>\n      <td>6</td>\n      <td>2</td>\n      <td>1</td>\n      <td>7</td>\n    </tr>\n    <tr>\n      <th>4</th>\n      <td>org.antlr.v4.Tool://error</td>\n      <td>3</td>\n      <td>1</td>\n      <td>7</td>\n      <td>3</td>\n      <td>1</td>\n      <td>7</td>\n    </tr>\n    <tr>\n      <th>...</th>\n      <td>...</td>\n      <td>...</td>\n      <td>...</td>\n      <td>...</td>\n      <td>...</td>\n      <td>...</td>\n      <td>...</td>\n    </tr>\n    <tr>\n      <th>1311</th>\n      <td>org.antlr.v4.unicode.UnicodeDataTemplateController://addUnicodeIntPropertyCodesToNames</td>\n      <td>4</td>\n      <td>1</td>\n      <td>16</td>\n      <td>3</td>\n      <td>1</td>\n      <td>16</td>\n    </tr>\n    <tr>\n      <th>1312</th>\n      <td>org.antlr.v4.unicode.UnicodeDataTemplateController://addUnicodeScriptCodesToNames</td>\n      <td>1</td>\n      <td>1</td>\n      <td>3</td>\n      <td>1</td>\n      <td>1</td>\n      <td>3</td>\n    </tr>\n    <tr>\n      <th>1313</th>\n      <td>org.antlr.v4.unicode.UnicodeDataTemplateController://addUnicodeSetToIntervalSet</td>\n      <td>2</td>\n      <td>2</td>\n      <td>5</td>\n      <td>2</td>\n      <td>2</td>\n      <td>5</td>\n    </tr>\n    <tr>\n      <th>1314</th>\n      <td>org.antlr.v4.unicode.UnicodeDataTemplateController://getProperties</td>\n      <td>1</td>\n      <td>0</td>\n      <td>19</td>\n      <td>1</td>\n      <td>0</td>\n      <td>19</td>\n    </tr>\n    <tr>\n      <th>1315</th>\n      <td>org.antlr.v4.unicode.UnicodeDataTemplateController://getShortPropertyName</td>\n      <td>2</td>\n      <td>1</td>\n      <td>7</td>\n      <td>2</td>\n      <td>1</td>\n      <td>7</td>\n    </tr>\n  </tbody>\n</table>\n<p>1316 rows × 7 columns</p>\n</div>"
     },
     "execution_count": 3796,
     "metadata": {},
     "output_type": "execute_result"
    }
   ],
   "source": [
    "m_units = pd.merge(ucol, mcol, on=\"DeclarableId\")\n",
    "m_units"
   ],
   "metadata": {
    "collapsed": false
   }
  },
  {
   "cell_type": "code",
   "execution_count": 3797,
   "outputs": [
    {
     "data": {
      "text/plain": "<Figure size 1000x1500 with 8 Axes>",
      "image/png": "[encoded data removed]"
     },
     "metadata": {},
     "output_type": "display_data"
    }
   ],
   "source": [
    "figure, axis = plt.subplots(4, 2, figsize=(10, 15))"
   ],
   "metadata": {
    "collapsed": false
   }
  },
  {
   "cell_type": "markdown",
   "source": [
    "## Module Lines Of Code"
   ],
   "metadata": {
    "collapsed": false
   }
  },
  {
   "cell_type": "code",
   "execution_count": 3798,
   "outputs": [
    {
     "name": "stdout",
     "output_type": "stream",
     "text": [
      "                                  DeclarableId  D_LOC  L_MLOC\n",
      "0             org.antlr.v4.misc.OrderedHashMap     32      22\n",
      "1               org.antlr.v4.misc.FrequencySet     20      17\n",
      "2                      org.antlr.v4.misc.Graph     63      50\n",
      "3      org.antlr.v4.misc.EscapeSequenceParsing    117     143\n",
      "4                      org.antlr.v4.misc.Utils    119     109\n",
      "..                                         ...    ...     ...\n",
      "224           org.antlr.v4.tool.ast.RuleRefAST     26      15\n",
      "225             org.antlr.v4.tool.ast.BlockAST     28      15\n",
      "226  org.antlr.v4.tool.ast.GrammarASTErrorNode     21      12\n",
      "227           org.antlr.v4.tool.ast.GrammarAST    180     165\n",
      "228               org.antlr.v4.tool.ast.AltAST     38      17\n",
      "\n",
      "[229 rows x 3 columns]\n"
     ]
    }
   ],
   "source": [
    "mloc = m_mods[['DeclarableId', 'D_LOC', 'L_MLOC']]\n",
    "print(mloc)"
   ],
   "metadata": {
    "collapsed": false
   }
  },
  {
   "cell_type": "code",
   "execution_count": 3799,
   "outputs": [
    {
     "data": {
      "text/plain": "<matplotlib.legend.Legend at 0x148d43dc0>"
     },
     "execution_count": 3799,
     "metadata": {},
     "output_type": "execute_result"
    }
   ],
   "source": [
    "x1 = mloc['D_LOC']\n",
    "# x2 = mloc['S_LOC']\n",
    "x3 = mloc['L_MLOC']\n",
    "\n",
    "plt = axis[0, 0]\n",
    "\n",
    "# Plot\n",
    "# plt.hist([x1, x2, x3], bins=np.linspace(0, 1000, 30), density=True, color=['#3C5DA1', '#B53941', '#469B55'], label=['Designite', 'SonarQube', 'LAMP'])\n",
    "plt.hist([x1, x3], bins=np.linspace(0, 1000, 30), density=True, color=['#3C5DA1', '#469B55'], label=['Designite', 'LAMP'])\n",
    "plt.set(title= \"MLOC Distribution\", xlabel= 'Module Lines of Code', ylabel='Density')\n",
    "plt.legend()\n",
    "# plt.savefig('images/lottie-MLOC.png')\n",
    "# plt.show()"
   ],
   "metadata": {
    "collapsed": false
   }
  },
  {
   "cell_type": "markdown",
   "source": [
    "## Module Number Of Units"
   ],
   "metadata": {
    "collapsed": false
   }
  },
  {
   "cell_type": "code",
   "execution_count": 3800,
   "outputs": [
    {
     "name": "stdout",
     "output_type": "stream",
     "text": [
      "                                  DeclarableId  D_NOM  L_NOU\n",
      "0             org.antlr.v4.misc.OrderedHashMap      6      6\n",
      "1               org.antlr.v4.misc.FrequencySet      2      2\n",
      "2                      org.antlr.v4.misc.Graph      4      4\n",
      "3      org.antlr.v4.misc.EscapeSequenceParsing      2      2\n",
      "4                      org.antlr.v4.misc.Utils     12     12\n",
      "..                                         ...    ...    ...\n",
      "224           org.antlr.v4.tool.ast.RuleRefAST      6      6\n",
      "225             org.antlr.v4.tool.ast.BlockAST      7      7\n",
      "226  org.antlr.v4.tool.ast.GrammarASTErrorNode      5      5\n",
      "227           org.antlr.v4.tool.ast.GrammarAST     24     24\n",
      "228               org.antlr.v4.tool.ast.AltAST      7      7\n",
      "\n",
      "[229 rows x 3 columns]\n"
     ]
    }
   ],
   "source": [
    "nou = m_mods[['DeclarableId', 'D_NOM', 'L_NOU']]\n",
    "print(nou)"
   ],
   "metadata": {
    "collapsed": false
   }
  },
  {
   "cell_type": "code",
   "execution_count": 3801,
   "outputs": [
    {
     "data": {
      "text/plain": "<matplotlib.legend.Legend at 0x13302a3a0>"
     },
     "execution_count": 3801,
     "metadata": {},
     "output_type": "execute_result"
    }
   ],
   "source": [
    "x1 = m_mods['D_NOM']\n",
    "x2 = m_mods['L_NOU']\n",
    "\n",
    "plt = axis[0, 1]\n",
    "\n",
    "# Plot\n",
    "plt.hist([x1, x2], bins=np.linspace(0, 50, 30), density=True, label=['Designite', 'LAMP'])\n",
    "plt.set(title= \"NOU Distribution\", xlabel= 'Number of Units', ylabel='Density')\n",
    "plt.legend()\n",
    "# plt.savefig('images/lottie-NOU.png')\n",
    "# plt.show()"
   ],
   "metadata": {
    "collapsed": false
   }
  },
  {
   "cell_type": "markdown",
   "source": [
    "## Module Weighted Method per Class (WMC)"
   ],
   "metadata": {
    "collapsed": false
   }
  },
  {
   "cell_type": "code",
   "execution_count": 3802,
   "outputs": [
    {
     "name": "stdout",
     "output_type": "stream",
     "text": [
      "                                  DeclarableId  D_WMC  L_WMC\n",
      "0             org.antlr.v4.misc.OrderedHashMap      7      7\n",
      "1               org.antlr.v4.misc.FrequencySet      4      5\n",
      "2                      org.antlr.v4.misc.Graph     12     12\n",
      "3      org.antlr.v4.misc.EscapeSequenceParsing     18     26\n",
      "4                      org.antlr.v4.misc.Utils     32     35\n",
      "..                                         ...    ...    ...\n",
      "224           org.antlr.v4.tool.ast.RuleRefAST      6      6\n",
      "225             org.antlr.v4.tool.ast.BlockAST      7      7\n",
      "226  org.antlr.v4.tool.ast.GrammarASTErrorNode      5      5\n",
      "227           org.antlr.v4.tool.ast.GrammarAST     54     58\n",
      "228               org.antlr.v4.tool.ast.AltAST      7      7\n",
      "\n",
      "[229 rows x 3 columns]\n"
     ]
    }
   ],
   "source": [
    "wmc = m_mods[['DeclarableId', 'D_WMC', 'L_WMC']]\n",
    "print(wmc)"
   ],
   "metadata": {
    "collapsed": false
   }
  },
  {
   "cell_type": "code",
   "execution_count": 3803,
   "outputs": [
    {
     "data": {
      "text/plain": "<matplotlib.legend.Legend at 0x148e99880>"
     },
     "execution_count": 3803,
     "metadata": {},
     "output_type": "execute_result"
    }
   ],
   "source": [
    "x1 = m_mods['D_WMC']\n",
    "x2 = m_mods['L_WMC']\n",
    "\n",
    "\n",
    "plt = axis[1, 0]\n",
    "\n",
    "# Plot\n",
    "plt.hist([x1, x2], bins=np.linspace(0, 100, 30), density=True, label=['Designite', 'LAMP'])\n",
    "plt.set(title= \"WMC Distribution\", xlabel= 'Weighted Methods per Class', ylabel='Density')\n",
    "plt.legend()\n",
    "# plt.savefig('images/lottie-WMC.png')\n",
    "# plt.show()"
   ],
   "metadata": {
    "collapsed": false
   }
  },
  {
   "cell_type": "markdown",
   "source": [
    "## Module - Cognitively Weighted Method per Class (CWMC)"
   ],
   "metadata": {
    "collapsed": false
   }
  },
  {
   "cell_type": "code",
   "execution_count": 3804,
   "outputs": [
    {
     "name": "stdout",
     "output_type": "stream",
     "text": [
      "                                  DeclarableId  S_COCO  L_CWMC\n",
      "0             org.antlr.v4.misc.OrderedHashMap       1       1\n",
      "1               org.antlr.v4.misc.FrequencySet       3       3\n",
      "2                      org.antlr.v4.misc.Graph      15      13\n",
      "3      org.antlr.v4.misc.EscapeSequenceParsing      42      39\n",
      "4                      org.antlr.v4.misc.Utils      29      29\n",
      "..                                         ...     ...     ...\n",
      "224           org.antlr.v4.tool.ast.RuleRefAST       0       0\n",
      "225             org.antlr.v4.tool.ast.BlockAST       0       0\n",
      "226  org.antlr.v4.tool.ast.GrammarASTErrorNode       0       0\n",
      "227           org.antlr.v4.tool.ast.GrammarAST      48      48\n",
      "228               org.antlr.v4.tool.ast.AltAST       0       0\n",
      "\n",
      "[229 rows x 3 columns]\n"
     ]
    }
   ],
   "source": [
    "cwmc = m_mods[['DeclarableId', 'S_COCO', 'L_CWMC']].copy()\n",
    "print(cwmc)"
   ],
   "metadata": {
    "collapsed": false
   }
  },
  {
   "cell_type": "code",
   "execution_count": 3805,
   "outputs": [
    {
     "name": "stdout",
     "output_type": "stream",
     "text": [
      "                                   DeclarableId  S_COCO  L_CWMC  Diff\n",
      "171                           org.antlr.v4.Tool     216     210     6\n",
      "195  org.antlr.v4.tool.GrammarTransformPipeline     180     174     6\n"
     ]
    }
   ],
   "source": [
    "cwmc[\"Diff\"] = cwmc[\"S_COCO\"] - cwmc[\"L_CWMC\"]\n",
    "print(cwmc.loc[cwmc[\"Diff\"] > 5])"
   ],
   "metadata": {
    "collapsed": false
   }
  },
  {
   "cell_type": "code",
   "execution_count": 3806,
   "outputs": [
    {
     "data": {
      "text/plain": "<matplotlib.legend.Legend at 0x148f24c70>"
     },
     "execution_count": 3806,
     "metadata": {},
     "output_type": "execute_result"
    }
   ],
   "source": [
    "x1 = m_mods['S_COCO']\n",
    "x2 = m_mods['L_CWMC']\n",
    "\n",
    "plt = axis[1, 1]\n",
    "\n",
    "# Plot\n",
    "plt.hist([x1, x2], bins=np.linspace(0, 100, 30), density=True, color=['#B53941', '#469B55'], label=['SonarQube', 'LAMP'])\n",
    "plt.set(title= \"CWMC Distribution\", xlabel= 'Cognitively Weighted Methods per Class', ylabel='Density')\n",
    "plt.legend()\n",
    "# plt.savefig('images/lottie-CWMC.png')\n",
    "# plt.show()"
   ],
   "metadata": {
    "collapsed": false
   }
  },
  {
   "cell_type": "markdown",
   "source": [
    "## Module Depth of Inheritance (DIT)"
   ],
   "metadata": {
    "collapsed": false
   }
  },
  {
   "cell_type": "code",
   "execution_count": 3807,
   "outputs": [
    {
     "name": "stdout",
     "output_type": "stream",
     "text": [
      "                                  DeclarableId  D_DIT  L_DIT\n",
      "0             org.antlr.v4.misc.OrderedHashMap      0      1\n",
      "1               org.antlr.v4.misc.FrequencySet      0      1\n",
      "2                      org.antlr.v4.misc.Graph      0      0\n",
      "3      org.antlr.v4.misc.EscapeSequenceParsing      0      0\n",
      "4                      org.antlr.v4.misc.Utils      0      0\n",
      "..                                         ...    ...    ...\n",
      "224           org.antlr.v4.tool.ast.RuleRefAST      2      3\n",
      "225             org.antlr.v4.tool.ast.BlockAST      2      3\n",
      "226  org.antlr.v4.tool.ast.GrammarASTErrorNode      1      2\n",
      "227           org.antlr.v4.tool.ast.GrammarAST      0      1\n",
      "228               org.antlr.v4.tool.ast.AltAST      2      3\n",
      "\n",
      "[229 rows x 3 columns]\n"
     ]
    }
   ],
   "source": [
    "dit = m_mods[['DeclarableId', 'D_DIT', 'L_DIT']]\n",
    "print(dit)"
   ],
   "metadata": {
    "collapsed": false
   }
  },
  {
   "cell_type": "code",
   "execution_count": 3808,
   "outputs": [
    {
     "name": "stdout",
     "output_type": "stream",
     "text": [
      "                                           DeclarableId  D_DIT  L_DIT  Diff\n",
      "32   org.antlr.v4.semantics.BlankActionSplitterListener      1      0     1\n",
      "40                    org.antlr.v4.codegen.LexerFactory      3      2     1\n",
      "42                   org.antlr.v4.codegen.ParserFactory      3      2     1\n",
      "44       org.antlr.v4.codegen.DefaultOutputModelFactory      2      1     1\n",
      "45         org.antlr.v4.codegen.BlankOutputModelFactory      1      0     1\n",
      "191                 org.antlr.v4.tool.LeftRecursiveRule      2      1     1\n",
      "200               org.antlr.v4.tool.DefaultToolListener      1      0     1\n",
      "205                       org.antlr.v4.tool.Alternative      1      0     1\n",
      "207                              org.antlr.v4.tool.Rule      1      0     1\n"
     ]
    },
    {
     "name": "stderr",
     "output_type": "stream",
     "text": [
      "/var/folders/yg/_h7_f_ps1g53dn06sw9cr3gr0000gn/T/ipykernel_57397/1400901144.py:1: SettingWithCopyWarning: \n",
      "A value is trying to be set on a copy of a slice from a DataFrame.\n",
      "Try using .loc[row_indexer,col_indexer] = value instead\n",
      "\n",
      "See the caveats in the documentation: https://pandas.pydata.org/pandas-docs/stable/user_guide/indexing.html#returning-a-view-versus-a-copy\n",
      "  dit[\"Diff\"] = dit[\"D_DIT\"] - dit[\"L_DIT\"]\n"
     ]
    }
   ],
   "source": [
    "dit[\"Diff\"] = dit[\"D_DIT\"] - dit[\"L_DIT\"]\n",
    "print(dit.loc[dit[\"Diff\"] > 0])"
   ],
   "metadata": {
    "collapsed": false
   }
  },
  {
   "cell_type": "code",
   "execution_count": 3809,
   "outputs": [
    {
     "data": {
      "text/plain": "<matplotlib.legend.Legend at 0x148f13bb0>"
     },
     "execution_count": 3809,
     "metadata": {},
     "output_type": "execute_result"
    }
   ],
   "source": [
    "x1 = m_mods['D_DIT']\n",
    "x2 = m_mods['L_DIT']\n",
    "\n",
    "plt = axis[2, 0]\n",
    "\n",
    "# Plot\n",
    "plt.hist([x1, x2], bins=np.linspace(0, 6, 10), density=True, label=['Designite', 'LAMP'])\n",
    "plt.set(title= \"DIT Distribution\", xlabel= 'Depth of Inheritance Tree', ylabel='Density')\n",
    "plt.legend()\n",
    "# plt.savefig('images/lottie-DIT.png')\n",
    "# plt.show()"
   ],
   "metadata": {
    "collapsed": false
   }
  },
  {
   "cell_type": "markdown",
   "source": [
    "## Module - Number of Children"
   ],
   "metadata": {
    "collapsed": false
   }
  },
  {
   "cell_type": "code",
   "execution_count": 3810,
   "outputs": [
    {
     "name": "stdout",
     "output_type": "stream",
     "text": [
      "                                  DeclarableId  D_NC  L_NOC\n",
      "0             org.antlr.v4.misc.OrderedHashMap     0      0\n",
      "1               org.antlr.v4.misc.FrequencySet     0      0\n",
      "2                      org.antlr.v4.misc.Graph     0      0\n",
      "3      org.antlr.v4.misc.EscapeSequenceParsing     0      0\n",
      "4                      org.antlr.v4.misc.Utils     0      0\n",
      "..                                         ...   ...    ...\n",
      "224           org.antlr.v4.tool.ast.RuleRefAST     0      0\n",
      "225             org.antlr.v4.tool.ast.BlockAST     0      0\n",
      "226  org.antlr.v4.tool.ast.GrammarASTErrorNode     0      0\n",
      "227           org.antlr.v4.tool.ast.GrammarAST     8      8\n",
      "228               org.antlr.v4.tool.ast.AltAST     0      0\n",
      "\n",
      "[229 rows x 3 columns]\n"
     ]
    }
   ],
   "source": [
    "noc = m_mods[['DeclarableId', 'D_NC', 'L_NOC']]\n",
    "print(noc)"
   ],
   "metadata": {
    "collapsed": false
   }
  },
  {
   "cell_type": "code",
   "execution_count": 3811,
   "outputs": [
    {
     "data": {
      "text/plain": "<matplotlib.legend.Legend at 0x147749340>"
     },
     "execution_count": 3811,
     "metadata": {},
     "output_type": "execute_result"
    }
   ],
   "source": [
    "x1 = m_mods['D_NC']\n",
    "x2 = m_mods['L_NOC']\n",
    "\n",
    "plt = axis[2, 1]\n",
    "\n",
    "# Plot\n",
    "plt.hist([x1, x2], bins=np.linspace(0, 10, 10), density=True, label=['Designite', 'LAMP'])\n",
    "plt.set(title= \"NOC Distribution\", xlabel= 'Number of Children', ylabel='Density')\n",
    "plt.legend()\n",
    "# plt.savefig('images/lottie-NOC.png')\n",
    "# plt.show()"
   ],
   "metadata": {
    "collapsed": false
   }
  },
  {
   "cell_type": "markdown",
   "source": [
    "## Module - Lack of Cohesion in Methods (LCOM)"
   ],
   "metadata": {
    "collapsed": false
   }
  },
  {
   "cell_type": "code",
   "execution_count": 3812,
   "outputs": [
    {
     "name": "stdout",
     "output_type": "stream",
     "text": [
      "                                  DeclarableId  D_LCOM  L_LCOM\n",
      "0             org.antlr.v4.misc.OrderedHashMap     0.0       1\n",
      "1               org.antlr.v4.misc.FrequencySet    -1.0       1\n",
      "2                      org.antlr.v4.misc.Graph     0.0       1\n",
      "3      org.antlr.v4.misc.EscapeSequenceParsing     1.0       1\n",
      "4                      org.antlr.v4.misc.Utils     1.0       2\n",
      "..                                         ...     ...     ...\n",
      "224           org.antlr.v4.tool.ast.RuleRefAST    -1.0       1\n",
      "225             org.antlr.v4.tool.ast.BlockAST     1.0       1\n",
      "226  org.antlr.v4.tool.ast.GrammarASTErrorNode     0.0       1\n",
      "227           org.antlr.v4.tool.ast.GrammarAST     1.0       1\n",
      "228               org.antlr.v4.tool.ast.AltAST     1.0       1\n",
      "\n",
      "[229 rows x 3 columns]\n"
     ]
    }
   ],
   "source": [
    "lcom = m_mods[['DeclarableId', 'D_LCOM', 'L_LCOM']]\n",
    "print(lcom)"
   ],
   "metadata": {
    "collapsed": false
   }
  },
  {
   "cell_type": "markdown",
   "source": [
    "## Unit - Lines of Code"
   ],
   "metadata": {
    "collapsed": false
   }
  },
  {
   "cell_type": "code",
   "execution_count": 3813,
   "outputs": [
    {
     "name": "stdout",
     "output_type": "stream",
     "text": [
      "                                                                                DeclarableId  \\\n",
      "0                                                                   org.antlr.v4.Tool://Tool   \n",
      "1                                                            org.antlr.v4.Tool://addListener   \n",
      "2                                                     org.antlr.v4.Tool://checkForRuleIssues   \n",
      "3                                                          org.antlr.v4.Tool://createGrammar   \n",
      "4                                                                  org.antlr.v4.Tool://error   \n",
      "...                                                                                      ...   \n",
      "1311  org.antlr.v4.unicode.UnicodeDataTemplateController://addUnicodeIntPropertyCodesToNames   \n",
      "1312       org.antlr.v4.unicode.UnicodeDataTemplateController://addUnicodeScriptCodesToNames   \n",
      "1313         org.antlr.v4.unicode.UnicodeDataTemplateController://addUnicodeSetToIntervalSet   \n",
      "1314                      org.antlr.v4.unicode.UnicodeDataTemplateController://getProperties   \n",
      "1315               org.antlr.v4.unicode.UnicodeDataTemplateController://getShortPropertyName   \n",
      "\n",
      "      D_LOC  L_ULOC  \n",
      "0        10      11  \n",
      "1         3       3  \n",
      "2        49      30  \n",
      "3         7       6  \n",
      "4         7       7  \n",
      "...     ...     ...  \n",
      "1311     16      16  \n",
      "1312      3       3  \n",
      "1313      5       5  \n",
      "1314     19      19  \n",
      "1315      7       7  \n",
      "\n",
      "[1316 rows x 3 columns]\n"
     ]
    }
   ],
   "source": [
    "uloc = m_units[['DeclarableId', 'D_LOC', 'L_ULOC']]\n",
    "print(uloc)"
   ],
   "metadata": {
    "collapsed": false
   }
  },
  {
   "cell_type": "markdown",
   "source": [
    "## Unit - Cyclomatic Complexity"
   ],
   "metadata": {
    "collapsed": false
   }
  },
  {
   "cell_type": "code",
   "execution_count": 3814,
   "outputs": [
    {
     "name": "stdout",
     "output_type": "stream",
     "text": [
      "                                                                                DeclarableId  \\\n",
      "0                                                                   org.antlr.v4.Tool://Tool   \n",
      "1                                                            org.antlr.v4.Tool://addListener   \n",
      "2                                                     org.antlr.v4.Tool://checkForRuleIssues   \n",
      "3                                                          org.antlr.v4.Tool://createGrammar   \n",
      "4                                                                  org.antlr.v4.Tool://error   \n",
      "...                                                                                      ...   \n",
      "1311  org.antlr.v4.unicode.UnicodeDataTemplateController://addUnicodeIntPropertyCodesToNames   \n",
      "1312       org.antlr.v4.unicode.UnicodeDataTemplateController://addUnicodeScriptCodesToNames   \n",
      "1313         org.antlr.v4.unicode.UnicodeDataTemplateController://addUnicodeSetToIntervalSet   \n",
      "1314                      org.antlr.v4.unicode.UnicodeDataTemplateController://getProperties   \n",
      "1315               org.antlr.v4.unicode.UnicodeDataTemplateController://getShortPropertyName   \n",
      "\n",
      "      D_CC  L_CC  \n",
      "0        2     3  \n",
      "1        2     2  \n",
      "2        8    10  \n",
      "3        2     3  \n",
      "4        3     3  \n",
      "...    ...   ...  \n",
      "1311     3     4  \n",
      "1312     1     1  \n",
      "1313     2     2  \n",
      "1314     1     1  \n",
      "1315     2     2  \n",
      "\n",
      "[1316 rows x 3 columns]\n"
     ]
    }
   ],
   "source": [
    "cc = m_units[['DeclarableId', 'D_CC', 'L_CC']]\n",
    "print(cc)"
   ],
   "metadata": {
    "collapsed": false
   }
  },
  {
   "cell_type": "code",
   "execution_count": 3815,
   "outputs": [
    {
     "data": {
      "text/plain": "<matplotlib.legend.Legend at 0x145ec9760>"
     },
     "execution_count": 3815,
     "metadata": {},
     "output_type": "execute_result"
    }
   ],
   "source": [
    "x1 = m_units['D_CC']\n",
    "x2 = m_units['L_CC']\n",
    "\n",
    "plt = axis[3, 0]\n",
    "\n",
    "# Plot\n",
    "plt.hist([x1, x2], bins=np.linspace(0, 10, 10), density=True, label=['Designite', 'LAMP'])\n",
    "plt.set(title= \"CC Distribution\", xlabel= 'Cyclomatic Complexity', ylabel='Density')\n",
    "plt.legend()\n",
    "# plt.savefig('images/lottie-CC.png')\n",
    "# plt.show()"
   ],
   "metadata": {
    "collapsed": false
   }
  },
  {
   "cell_type": "markdown",
   "source": [
    "## Unit - Parameter Count"
   ],
   "metadata": {
    "collapsed": false
   }
  },
  {
   "cell_type": "code",
   "execution_count": 3816,
   "outputs": [
    {
     "name": "stdout",
     "output_type": "stream",
     "text": [
      "                                                                                DeclarableId  \\\n",
      "0                                                                   org.antlr.v4.Tool://Tool   \n",
      "1                                                            org.antlr.v4.Tool://addListener   \n",
      "2                                                     org.antlr.v4.Tool://checkForRuleIssues   \n",
      "3                                                          org.antlr.v4.Tool://createGrammar   \n",
      "4                                                                  org.antlr.v4.Tool://error   \n",
      "...                                                                                      ...   \n",
      "1311  org.antlr.v4.unicode.UnicodeDataTemplateController://addUnicodeIntPropertyCodesToNames   \n",
      "1312       org.antlr.v4.unicode.UnicodeDataTemplateController://addUnicodeScriptCodesToNames   \n",
      "1313         org.antlr.v4.unicode.UnicodeDataTemplateController://addUnicodeSetToIntervalSet   \n",
      "1314                      org.antlr.v4.unicode.UnicodeDataTemplateController://getProperties   \n",
      "1315               org.antlr.v4.unicode.UnicodeDataTemplateController://getShortPropertyName   \n",
      "\n",
      "      D_PC  L_PC  \n",
      "0        1     1  \n",
      "1        1     1  \n",
      "2        1     1  \n",
      "3        1     1  \n",
      "4        1     1  \n",
      "...    ...   ...  \n",
      "1311     1     1  \n",
      "1312     1     1  \n",
      "1313     2     2  \n",
      "1314     0     0  \n",
      "1315     1     1  \n",
      "\n",
      "[1316 rows x 3 columns]\n"
     ]
    }
   ],
   "source": [
    "pc = m_units[['DeclarableId', 'D_PC', 'L_PC']]\n",
    "print(pc)"
   ],
   "metadata": {
    "collapsed": false
   }
  },
  {
   "cell_type": "code",
   "execution_count": 3817,
   "outputs": [
    {
     "data": {
      "text/plain": "<matplotlib.legend.Legend at 0x143e3ea00>"
     },
     "execution_count": 3817,
     "metadata": {},
     "output_type": "execute_result"
    }
   ],
   "source": [
    "x1 = m_units['D_PC']\n",
    "x2 = m_units['L_PC']\n",
    "\n",
    "plt = axis[3, 1]\n",
    "\n",
    "# Plot\n",
    "plt.hist([x1, x2], bins=np.linspace(0, 10, 10), density=True, label=['Designite', 'LAMP'])\n",
    "plt.set(title= \"PC Distribution\", xlabel= 'Parameter Count', ylabel='Density')\n",
    "plt.legend()\n",
    "# plt.savefig('images/lottie-PC.png')\n",
    "# plt.show()"
   ],
   "metadata": {
    "collapsed": false
   }
  },
  {
   "cell_type": "code",
   "execution_count": 3818,
   "outputs": [],
   "source": [
    "m = m_mods.copy()\n",
    "u = m_units.copy()\n",
    "m[\"DELTA_MLOC\"] = (m[\"D_LOC\"] - m[\"L_MLOC\"]).abs()\n",
    "m[\"DELTA_WMC\"] = (m[\"D_WMC\"] - m[\"L_WMC\"]).abs()\n",
    "m[\"DELTA_CWMC\"] = (m[\"S_COCO\"] - m[\"L_CWMC\"]).abs()\n",
    "m[\"DELTA_DIT\"] = (m[\"D_DIT\"] - m[\"L_DIT\"]).abs()\n",
    "m[\"DELTA_NOC\"] = (m[\"D_NC\"] - m[\"L_NOC\"]).abs()\n",
    "m[\"DELTA_NOU\"] = (m[\"D_NOM\"] - m[\"L_NOU\"]).abs()\n",
    "\n",
    "u[\"DELTA_CC\"] = (u[\"D_CC\"] - u[\"L_CC\"]).abs()\n",
    "u[\"DELTA_PC\"] = (u[\"D_PC\"] - u[\"L_PC\"]).abs()"
   ],
   "metadata": {
    "collapsed": false
   }
  },
  {
   "cell_type": "code",
   "execution_count": 3819,
   "outputs": [
    {
     "data": {
      "text/plain": "                                  DeclarableId  D_NOF  D_NOPF  D_NOM  D_NOPM  \\\n0             org.antlr.v4.misc.OrderedHashMap      1       0      6       6   \n1               org.antlr.v4.misc.FrequencySet      0       0      2       2   \n2                      org.antlr.v4.misc.Graph      3       2      4       4   \n3      org.antlr.v4.misc.EscapeSequenceParsing      5       5      2       1   \n4                      org.antlr.v4.misc.Utils      1       1     12      12   \n..                                         ...    ...     ...    ...     ...   \n224           org.antlr.v4.tool.ast.RuleRefAST      0       0      6       6   \n225             org.antlr.v4.tool.ast.BlockAST      2       2      7       7   \n226  org.antlr.v4.tool.ast.GrammarASTErrorNode      1       0      5       5   \n227           org.antlr.v4.tool.ast.GrammarAST      3       3     24      24   \n228               org.antlr.v4.tool.ast.AltAST      3       3      7       7   \n\n     D_LOC  D_WMC  D_NC  D_DIT  D_LCOM  ...  L_NOU  L_LC  S_COCO  S_LOC  \\\n0       32      7     0      0     0.0  ...      6     0       1      0   \n1       20      4     0      0    -1.0  ...      2     0       3      0   \n2       63     12     0      0     0.0  ...      4     0      15      0   \n3      117     18     0      0     1.0  ...      2     0      42      0   \n4      119     32     0      0     1.0  ...     12     0      29      0   \n..     ...    ...   ...    ...     ...  ...    ...   ...     ...    ...   \n224     26      6     0      2    -1.0  ...      6     0       0      0   \n225     28      7     0      2     1.0  ...      7     0       0      0   \n226     21      5     0      1     0.0  ...      5     0       0      0   \n227    180     54     8      0     1.0  ...     24     0      48      0   \n228     38      7     0      2     1.0  ...      7     0       0      0   \n\n     DELTA_MLOC  DELTA_WMC  DELTA_CWMC  DELTA_DIT  DELTA_NOC  DELTA_NOU  \n0            10          0           0          1          0          0  \n1             3          1           0          1          0          0  \n2            13          0           2          0          0          0  \n3            26          8           3          0          0          0  \n4            10          3           0          0          0          0  \n..          ...        ...         ...        ...        ...        ...  \n224          11          0           0          1          0          0  \n225          13          0           0          1          0          0  \n226           9          0           0          1          0          0  \n227          15          4           0          1          0          0  \n228          21          0           0          1          0          0  \n\n[229 rows x 30 columns]",
      "text/html": "<div>\n<style scoped>\n    .dataframe tbody tr th:only-of-type {\n        vertical-align: middle;\n    }\n\n    .dataframe tbody tr th {\n        vertical-align: top;\n    }\n\n    .dataframe thead th {\n        text-align: right;\n    }\n</style>\n<table border=\"1\" class=\"dataframe\">\n  <thead>\n    <tr style=\"text-align: right;\">\n      <th></th>\n      <th>DeclarableId</th>\n      <th>D_NOF</th>\n      <th>D_NOPF</th>\n      <th>D_NOM</th>\n      <th>D_NOPM</th>\n      <th>D_LOC</th>\n      <th>D_WMC</th>\n      <th>D_NC</th>\n      <th>D_DIT</th>\n      <th>D_LCOM</th>\n      <th>...</th>\n      <th>L_NOU</th>\n      <th>L_LC</th>\n      <th>S_COCO</th>\n      <th>S_LOC</th>\n      <th>DELTA_MLOC</th>\n      <th>DELTA_WMC</th>\n      <th>DELTA_CWMC</th>\n      <th>DELTA_DIT</th>\n      <th>DELTA_NOC</th>\n      <th>DELTA_NOU</th>\n    </tr>\n  </thead>\n  <tbody>\n    <tr>\n      <th>0</th>\n      <td>org.antlr.v4.misc.OrderedHashMap</td>\n      <td>1</td>\n      <td>0</td>\n      <td>6</td>\n      <td>6</td>\n      <td>32</td>\n      <td>7</td>\n      <td>0</td>\n      <td>0</td>\n      <td>0.0</td>\n      <td>...</td>\n      <td>6</td>\n      <td>0</td>\n      <td>1</td>\n      <td>0</td>\n      <td>10</td>\n      <td>0</td>\n      <td>0</td>\n      <td>1</td>\n      <td>0</td>\n      <td>0</td>\n    </tr>\n    <tr>\n      <th>1</th>\n      <td>org.antlr.v4.misc.FrequencySet</td>\n      <td>0</td>\n      <td>0</td>\n      <td>2</td>\n      <td>2</td>\n      <td>20</td>\n      <td>4</td>\n      <td>0</td>\n      <td>0</td>\n      <td>-1.0</td>\n      <td>...</td>\n      <td>2</td>\n      <td>0</td>\n      <td>3</td>\n      <td>0</td>\n      <td>3</td>\n      <td>1</td>\n      <td>0</td>\n      <td>1</td>\n      <td>0</td>\n      <td>0</td>\n    </tr>\n    <tr>\n      <th>2</th>\n      <td>org.antlr.v4.misc.Graph</td>\n      <td>3</td>\n      <td>2</td>\n      <td>4</td>\n      <td>4</td>\n      <td>63</td>\n      <td>12</td>\n      <td>0</td>\n      <td>0</td>\n      <td>0.0</td>\n      <td>...</td>\n      <td>4</td>\n      <td>0</td>\n      <td>15</td>\n      <td>0</td>\n      <td>13</td>\n      <td>0</td>\n      <td>2</td>\n      <td>0</td>\n      <td>0</td>\n      <td>0</td>\n    </tr>\n    <tr>\n      <th>3</th>\n      <td>org.antlr.v4.misc.EscapeSequenceParsing</td>\n      <td>5</td>\n      <td>5</td>\n      <td>2</td>\n      <td>1</td>\n      <td>117</td>\n      <td>18</td>\n      <td>0</td>\n      <td>0</td>\n      <td>1.0</td>\n      <td>...</td>\n      <td>2</td>\n      <td>0</td>\n      <td>42</td>\n      <td>0</td>\n      <td>26</td>\n      <td>8</td>\n      <td>3</td>\n      <td>0</td>\n      <td>0</td>\n      <td>0</td>\n    </tr>\n    <tr>\n      <th>4</th>\n      <td>org.antlr.v4.misc.Utils</td>\n      <td>1</td>\n      <td>1</td>\n      <td>12</td>\n      <td>12</td>\n      <td>119</td>\n      <td>32</td>\n      <td>0</td>\n      <td>0</td>\n      <td>1.0</td>\n      <td>...</td>\n      <td>12</td>\n      <td>0</td>\n      <td>29</td>\n      <td>0</td>\n      <td>10</td>\n      <td>3</td>\n      <td>0</td>\n      <td>0</td>\n      <td>0</td>\n      <td>0</td>\n    </tr>\n    <tr>\n      <th>...</th>\n      <td>...</td>\n      <td>...</td>\n      <td>...</td>\n      <td>...</td>\n      <td>...</td>\n      <td>...</td>\n      <td>...</td>\n      <td>...</td>\n      <td>...</td>\n      <td>...</td>\n      <td>...</td>\n      <td>...</td>\n      <td>...</td>\n      <td>...</td>\n      <td>...</td>\n      <td>...</td>\n      <td>...</td>\n      <td>...</td>\n      <td>...</td>\n      <td>...</td>\n      <td>...</td>\n    </tr>\n    <tr>\n      <th>224</th>\n      <td>org.antlr.v4.tool.ast.RuleRefAST</td>\n      <td>0</td>\n      <td>0</td>\n      <td>6</td>\n      <td>6</td>\n      <td>26</td>\n      <td>6</td>\n      <td>0</td>\n      <td>2</td>\n      <td>-1.0</td>\n      <td>...</td>\n      <td>6</td>\n      <td>0</td>\n      <td>0</td>\n      <td>0</td>\n      <td>11</td>\n      <td>0</td>\n      <td>0</td>\n      <td>1</td>\n      <td>0</td>\n      <td>0</td>\n    </tr>\n    <tr>\n      <th>225</th>\n      <td>org.antlr.v4.tool.ast.BlockAST</td>\n      <td>2</td>\n      <td>2</td>\n      <td>7</td>\n      <td>7</td>\n      <td>28</td>\n      <td>7</td>\n      <td>0</td>\n      <td>2</td>\n      <td>1.0</td>\n      <td>...</td>\n      <td>7</td>\n      <td>0</td>\n      <td>0</td>\n      <td>0</td>\n      <td>13</td>\n      <td>0</td>\n      <td>0</td>\n      <td>1</td>\n      <td>0</td>\n      <td>0</td>\n    </tr>\n    <tr>\n      <th>226</th>\n      <td>org.antlr.v4.tool.ast.GrammarASTErrorNode</td>\n      <td>1</td>\n      <td>0</td>\n      <td>5</td>\n      <td>5</td>\n      <td>21</td>\n      <td>5</td>\n      <td>0</td>\n      <td>1</td>\n      <td>0.0</td>\n      <td>...</td>\n      <td>5</td>\n      <td>0</td>\n      <td>0</td>\n      <td>0</td>\n      <td>9</td>\n      <td>0</td>\n      <td>0</td>\n      <td>1</td>\n      <td>0</td>\n      <td>0</td>\n    </tr>\n    <tr>\n      <th>227</th>\n      <td>org.antlr.v4.tool.ast.GrammarAST</td>\n      <td>3</td>\n      <td>3</td>\n      <td>24</td>\n      <td>24</td>\n      <td>180</td>\n      <td>54</td>\n      <td>8</td>\n      <td>0</td>\n      <td>1.0</td>\n      <td>...</td>\n      <td>24</td>\n      <td>0</td>\n      <td>48</td>\n      <td>0</td>\n      <td>15</td>\n      <td>4</td>\n      <td>0</td>\n      <td>1</td>\n      <td>0</td>\n      <td>0</td>\n    </tr>\n    <tr>\n      <th>228</th>\n      <td>org.antlr.v4.tool.ast.AltAST</td>\n      <td>3</td>\n      <td>3</td>\n      <td>7</td>\n      <td>7</td>\n      <td>38</td>\n      <td>7</td>\n      <td>0</td>\n      <td>2</td>\n      <td>1.0</td>\n      <td>...</td>\n      <td>7</td>\n      <td>0</td>\n      <td>0</td>\n      <td>0</td>\n      <td>21</td>\n      <td>0</td>\n      <td>0</td>\n      <td>1</td>\n      <td>0</td>\n      <td>0</td>\n    </tr>\n  </tbody>\n</table>\n<p>229 rows × 30 columns</p>\n</div>"
     },
     "execution_count": 3819,
     "metadata": {},
     "output_type": "execute_result"
    }
   ],
   "source": [
    "m"
   ],
   "metadata": {
    "collapsed": false
   }
  },
  {
   "cell_type": "code",
   "execution_count": 3820,
   "outputs": [
    {
     "data": {
      "text/plain": "                                                                                DeclarableId  \\\n0                                                                   org.antlr.v4.Tool://Tool   \n1                                                            org.antlr.v4.Tool://addListener   \n2                                                     org.antlr.v4.Tool://checkForRuleIssues   \n3                                                          org.antlr.v4.Tool://createGrammar   \n4                                                                  org.antlr.v4.Tool://error   \n...                                                                                      ...   \n1311  org.antlr.v4.unicode.UnicodeDataTemplateController://addUnicodeIntPropertyCodesToNames   \n1312       org.antlr.v4.unicode.UnicodeDataTemplateController://addUnicodeScriptCodesToNames   \n1313         org.antlr.v4.unicode.UnicodeDataTemplateController://addUnicodeSetToIntervalSet   \n1314                      org.antlr.v4.unicode.UnicodeDataTemplateController://getProperties   \n1315               org.antlr.v4.unicode.UnicodeDataTemplateController://getShortPropertyName   \n\n      L_CC  L_PC  L_ULOC  D_CC  D_PC  D_LOC  DELTA_CC  DELTA_PC  \n0        3     1      11     2     1     10         1         0  \n1        2     1       3     2     1      3         0         0  \n2       10     1      30     8     1     49         2         0  \n3        3     1       6     2     1      7         1         0  \n4        3     1       7     3     1      7         0         0  \n...    ...   ...     ...   ...   ...    ...       ...       ...  \n1311     4     1      16     3     1     16         1         0  \n1312     1     1       3     1     1      3         0         0  \n1313     2     2       5     2     2      5         0         0  \n1314     1     0      19     1     0     19         0         0  \n1315     2     1       7     2     1      7         0         0  \n\n[1316 rows x 9 columns]",
      "text/html": "<div>\n<style scoped>\n    .dataframe tbody tr th:only-of-type {\n        vertical-align: middle;\n    }\n\n    .dataframe tbody tr th {\n        vertical-align: top;\n    }\n\n    .dataframe thead th {\n        text-align: right;\n    }\n</style>\n<table border=\"1\" class=\"dataframe\">\n  <thead>\n    <tr style=\"text-align: right;\">\n      <th></th>\n      <th>DeclarableId</th>\n      <th>L_CC</th>\n      <th>L_PC</th>\n      <th>L_ULOC</th>\n      <th>D_CC</th>\n      <th>D_PC</th>\n      <th>D_LOC</th>\n      <th>DELTA_CC</th>\n      <th>DELTA_PC</th>\n    </tr>\n  </thead>\n  <tbody>\n    <tr>\n      <th>0</th>\n      <td>org.antlr.v4.Tool://Tool</td>\n      <td>3</td>\n      <td>1</td>\n      <td>11</td>\n      <td>2</td>\n      <td>1</td>\n      <td>10</td>\n      <td>1</td>\n      <td>0</td>\n    </tr>\n    <tr>\n      <th>1</th>\n      <td>org.antlr.v4.Tool://addListener</td>\n      <td>2</td>\n      <td>1</td>\n      <td>3</td>\n      <td>2</td>\n      <td>1</td>\n      <td>3</td>\n      <td>0</td>\n      <td>0</td>\n    </tr>\n    <tr>\n      <th>2</th>\n      <td>org.antlr.v4.Tool://checkForRuleIssues</td>\n      <td>10</td>\n      <td>1</td>\n      <td>30</td>\n      <td>8</td>\n      <td>1</td>\n      <td>49</td>\n      <td>2</td>\n      <td>0</td>\n    </tr>\n    <tr>\n      <th>3</th>\n      <td>org.antlr.v4.Tool://createGrammar</td>\n      <td>3</td>\n      <td>1</td>\n      <td>6</td>\n      <td>2</td>\n      <td>1</td>\n      <td>7</td>\n      <td>1</td>\n      <td>0</td>\n    </tr>\n    <tr>\n      <th>4</th>\n      <td>org.antlr.v4.Tool://error</td>\n      <td>3</td>\n      <td>1</td>\n      <td>7</td>\n      <td>3</td>\n      <td>1</td>\n      <td>7</td>\n      <td>0</td>\n      <td>0</td>\n    </tr>\n    <tr>\n      <th>...</th>\n      <td>...</td>\n      <td>...</td>\n      <td>...</td>\n      <td>...</td>\n      <td>...</td>\n      <td>...</td>\n      <td>...</td>\n      <td>...</td>\n      <td>...</td>\n    </tr>\n    <tr>\n      <th>1311</th>\n      <td>org.antlr.v4.unicode.UnicodeDataTemplateController://addUnicodeIntPropertyCodesToNames</td>\n      <td>4</td>\n      <td>1</td>\n      <td>16</td>\n      <td>3</td>\n      <td>1</td>\n      <td>16</td>\n      <td>1</td>\n      <td>0</td>\n    </tr>\n    <tr>\n      <th>1312</th>\n      <td>org.antlr.v4.unicode.UnicodeDataTemplateController://addUnicodeScriptCodesToNames</td>\n      <td>1</td>\n      <td>1</td>\n      <td>3</td>\n      <td>1</td>\n      <td>1</td>\n      <td>3</td>\n      <td>0</td>\n      <td>0</td>\n    </tr>\n    <tr>\n      <th>1313</th>\n      <td>org.antlr.v4.unicode.UnicodeDataTemplateController://addUnicodeSetToIntervalSet</td>\n      <td>2</td>\n      <td>2</td>\n      <td>5</td>\n      <td>2</td>\n      <td>2</td>\n      <td>5</td>\n      <td>0</td>\n      <td>0</td>\n    </tr>\n    <tr>\n      <th>1314</th>\n      <td>org.antlr.v4.unicode.UnicodeDataTemplateController://getProperties</td>\n      <td>1</td>\n      <td>0</td>\n      <td>19</td>\n      <td>1</td>\n      <td>0</td>\n      <td>19</td>\n      <td>0</td>\n      <td>0</td>\n    </tr>\n    <tr>\n      <th>1315</th>\n      <td>org.antlr.v4.unicode.UnicodeDataTemplateController://getShortPropertyName</td>\n      <td>2</td>\n      <td>1</td>\n      <td>7</td>\n      <td>2</td>\n      <td>1</td>\n      <td>7</td>\n      <td>0</td>\n      <td>0</td>\n    </tr>\n  </tbody>\n</table>\n<p>1316 rows × 9 columns</p>\n</div>"
     },
     "execution_count": 3820,
     "metadata": {},
     "output_type": "execute_result"
    }
   ],
   "source": [
    "u"
   ],
   "metadata": {
    "collapsed": false
   }
  },
  {
   "cell_type": "code",
   "execution_count": 3821,
   "outputs": [],
   "source": [
    "def stats(column):\n",
    "    print(f\"mean = {column.mean()}\")\n",
    "    print(f\"median = {column.median()}\")\n",
    "    print(f\"90% = {column.quantile(0.9)}\")\n",
    "    print(f\"95% = {column.quantile(0.95)}\")\n",
    "    print(f\"99% = {column.quantile(0.99)}\")"
   ],
   "metadata": {
    "collapsed": false
   }
  },
  {
   "cell_type": "code",
   "execution_count": 3843,
   "outputs": [
    {
     "data": {
      "text/plain": "<Figure size 1000x1500 with 8 Axes>",
      "image/png": "[encoded data removed]"
     },
     "metadata": {},
     "output_type": "display_data"
    }
   ],
   "source": [
    "import matplotlib.pyplot as plt\n",
    "from matplotlib.ticker import PercentFormatter, FormatStrFormatter\n",
    "\n",
    "figure, axis = plt.subplots(4, 2, figsize=(10, 15))\n",
    "plt.locator_params(axis=\"both\", integer=True, tight=True)\n",
    "\n",
    "def plot(subplot, df, metric: str, xlim = None, type = \"modules\"):\n",
    "    y, x, _ = subplot.hist(df[f\"DELTA_{metric}\"], weights=np.ones(len(df[f\"DELTA_{metric}\"])) / len(df[f\"DELTA_{metric}\"]), bins=40, label=[metric])\n",
    "    subplot.set(title= fr\"$\\Delta$ {metric} Distribution\", xlabel= fr\"$\\Delta$ {metric}\", ylabel=f'Percentage of {type}')\n",
    "    subplot.yaxis.set_major_formatter(PercentFormatter(1))\n",
    "    subplot.xaxis.set_major_formatter(FormatStrFormatter('%.0f'))\n",
    "    subplot.set_ylim([0, 1])\n",
    "    subplot.legend()\n",
    "\n",
    "    if xlim is not None:\n",
    "        subplot.set_xlim(xlim)\n",
    "\n",
    "    quant_95 = df[f\"DELTA_{metric}\"].quantile(0.95)\n",
    "    subplot.axvline(quant_95, alpha=0.8, ymax = 0.4, linestyle = \":\")\n",
    "    subplot.text(quant_95, y.max() * 0.425, \"95th\", size = 10, alpha = 0.85)\n",
    "\n",
    "plot(axis[0, 0], m, \"MLOC\")\n",
    "plot(axis[0, 1], m, \"WMC\")\n",
    "plot(axis[1, 0], m, \"CWMC\")\n",
    "plot(axis[1, 1], m, \"DIT\")\n",
    "plot(axis[2, 0], m, \"NOC\")\n",
    "plot(axis[2, 1], m, \"NOU\")\n",
    "plot(axis[3, 0], u, \"CC\", type=\"units\")\n",
    "plot(axis[3, 1], u, \"PC\", [-.05,1.05], type=\"units\")\n",
    "\n",
    "figure.tight_layout()\n",
    "figure.savefig(f'images/{project}-distributions-percentage.png')"
   ],
   "metadata": {
    "collapsed": false
   }
  },
  {
   "cell_type": "code",
   "execution_count": 3823,
   "outputs": [],
   "source": [
    "def get_outliers(df, metric: str):\n",
    "    outliers = df[df[f\"DELTA_{metric}\"] >= df[f\"DELTA_{metric}\"].quantile(0.95)]\n",
    "    return outliers"
   ],
   "metadata": {
    "collapsed": false
   }
  },
  {
   "cell_type": "code",
   "execution_count": 3824,
   "outputs": [
    {
     "data": {
      "text/plain": "                                     DeclarableId  D_LOC  L_MLOC  DELTA_MLOC\n188                     org.antlr.v4.tool.Grammar      0     808         808\n33     org.antlr.v4.semantics.BasicSemanticChecks      0     408         408\n49                    org.antlr.v4.codegen.Target      0     392         392\n204                   org.antlr.v4.tool.ErrorType    407     150         257\n25                 org.antlr.v4.parse.ScopeParser      0     239         239\n198                org.antlr.v4.tool.ErrorManager      0     224         224\n51          org.antlr.v4.codegen.ActionTranslator      0     212         212\n6                   org.antlr.v4.misc.CharSupport      0     154         154\n177           org.antlr.v4.gui.PostScriptDocument      0     137         137\n54           org.antlr.v4.codegen.target.GoTarget      0      92          92\n53       org.antlr.v4.codegen.target.CSharpTarget     37     116          79\n59   org.antlr.v4.codegen.target.TypeScriptTarget     24      85          61",
      "text/html": "<div>\n<style scoped>\n    .dataframe tbody tr th:only-of-type {\n        vertical-align: middle;\n    }\n\n    .dataframe tbody tr th {\n        vertical-align: top;\n    }\n\n    .dataframe thead th {\n        text-align: right;\n    }\n</style>\n<table border=\"1\" class=\"dataframe\">\n  <thead>\n    <tr style=\"text-align: right;\">\n      <th></th>\n      <th>DeclarableId</th>\n      <th>D_LOC</th>\n      <th>L_MLOC</th>\n      <th>DELTA_MLOC</th>\n    </tr>\n  </thead>\n  <tbody>\n    <tr>\n      <th>188</th>\n      <td>org.antlr.v4.tool.Grammar</td>\n      <td>0</td>\n      <td>808</td>\n      <td>808</td>\n    </tr>\n    <tr>\n      <th>33</th>\n      <td>org.antlr.v4.semantics.BasicSemanticChecks</td>\n      <td>0</td>\n      <td>408</td>\n      <td>408</td>\n    </tr>\n    <tr>\n      <th>49</th>\n      <td>org.antlr.v4.codegen.Target</td>\n      <td>0</td>\n      <td>392</td>\n      <td>392</td>\n    </tr>\n    <tr>\n      <th>204</th>\n      <td>org.antlr.v4.tool.ErrorType</td>\n      <td>407</td>\n      <td>150</td>\n      <td>257</td>\n    </tr>\n    <tr>\n      <th>25</th>\n      <td>org.antlr.v4.parse.ScopeParser</td>\n      <td>0</td>\n      <td>239</td>\n      <td>239</td>\n    </tr>\n    <tr>\n      <th>198</th>\n      <td>org.antlr.v4.tool.ErrorManager</td>\n      <td>0</td>\n      <td>224</td>\n      <td>224</td>\n    </tr>\n    <tr>\n      <th>51</th>\n      <td>org.antlr.v4.codegen.ActionTranslator</td>\n      <td>0</td>\n      <td>212</td>\n      <td>212</td>\n    </tr>\n    <tr>\n      <th>6</th>\n      <td>org.antlr.v4.misc.CharSupport</td>\n      <td>0</td>\n      <td>154</td>\n      <td>154</td>\n    </tr>\n    <tr>\n      <th>177</th>\n      <td>org.antlr.v4.gui.PostScriptDocument</td>\n      <td>0</td>\n      <td>137</td>\n      <td>137</td>\n    </tr>\n    <tr>\n      <th>54</th>\n      <td>org.antlr.v4.codegen.target.GoTarget</td>\n      <td>0</td>\n      <td>92</td>\n      <td>92</td>\n    </tr>\n    <tr>\n      <th>53</th>\n      <td>org.antlr.v4.codegen.target.CSharpTarget</td>\n      <td>37</td>\n      <td>116</td>\n      <td>79</td>\n    </tr>\n    <tr>\n      <th>59</th>\n      <td>org.antlr.v4.codegen.target.TypeScriptTarget</td>\n      <td>24</td>\n      <td>85</td>\n      <td>61</td>\n    </tr>\n  </tbody>\n</table>\n</div>"
     },
     "execution_count": 3824,
     "metadata": {},
     "output_type": "execute_result"
    }
   ],
   "source": [
    "get_outliers(m, \"MLOC\").loc[:, [\"DeclarableId\", \"D_LOC\", \"L_MLOC\", \"DELTA_MLOC\"]].sort_values(by=\"DELTA_MLOC\", ascending=False)"
   ],
   "metadata": {
    "collapsed": false
   }
  },
  {
   "cell_type": "code",
   "execution_count": 3825,
   "outputs": [
    {
     "data": {
      "text/plain": "                                        DeclarableId  D_WMC  L_WMC  DELTA_WMC\n171                                org.antlr.v4.Tool    140    184         44\n10             org.antlr.v4.automata.LexerATNFactory    126    162         36\n38               org.antlr.v4.semantics.SymbolChecks     83    116         33\n9             org.antlr.v4.automata.ParserATNFactory     92    121         29\n188                        org.antlr.v4.tool.Grammar    207    234         27\n25                    org.antlr.v4.parse.ScopeParser     56     82         26\n6                      org.antlr.v4.misc.CharSupport     40     64         24\n18   org.antlr.v4.analysis.LeftRecursiveRuleAnalyzer     54     77         23\n33        org.antlr.v4.semantics.BasicSemanticChecks    102    125         23\n42                org.antlr.v4.codegen.ParserFactory     59     74         15\n51             org.antlr.v4.codegen.ActionTranslator     36     48         12\n15   org.antlr.v4.automata.RangeBorderCharactersData      7     16          9\n178                     org.antlr.v4.gui.Interpreter     46     55          9\n207                           org.antlr.v4.tool.Rule     66     75          9",
      "text/html": "<div>\n<style scoped>\n    .dataframe tbody tr th:only-of-type {\n        vertical-align: middle;\n    }\n\n    .dataframe tbody tr th {\n        vertical-align: top;\n    }\n\n    .dataframe thead th {\n        text-align: right;\n    }\n</style>\n<table border=\"1\" class=\"dataframe\">\n  <thead>\n    <tr style=\"text-align: right;\">\n      <th></th>\n      <th>DeclarableId</th>\n      <th>D_WMC</th>\n      <th>L_WMC</th>\n      <th>DELTA_WMC</th>\n    </tr>\n  </thead>\n  <tbody>\n    <tr>\n      <th>171</th>\n      <td>org.antlr.v4.Tool</td>\n      <td>140</td>\n      <td>184</td>\n      <td>44</td>\n    </tr>\n    <tr>\n      <th>10</th>\n      <td>org.antlr.v4.automata.LexerATNFactory</td>\n      <td>126</td>\n      <td>162</td>\n      <td>36</td>\n    </tr>\n    <tr>\n      <th>38</th>\n      <td>org.antlr.v4.semantics.SymbolChecks</td>\n      <td>83</td>\n      <td>116</td>\n      <td>33</td>\n    </tr>\n    <tr>\n      <th>9</th>\n      <td>org.antlr.v4.automata.ParserATNFactory</td>\n      <td>92</td>\n      <td>121</td>\n      <td>29</td>\n    </tr>\n    <tr>\n      <th>188</th>\n      <td>org.antlr.v4.tool.Grammar</td>\n      <td>207</td>\n      <td>234</td>\n      <td>27</td>\n    </tr>\n    <tr>\n      <th>25</th>\n      <td>org.antlr.v4.parse.ScopeParser</td>\n      <td>56</td>\n      <td>82</td>\n      <td>26</td>\n    </tr>\n    <tr>\n      <th>6</th>\n      <td>org.antlr.v4.misc.CharSupport</td>\n      <td>40</td>\n      <td>64</td>\n      <td>24</td>\n    </tr>\n    <tr>\n      <th>18</th>\n      <td>org.antlr.v4.analysis.LeftRecursiveRuleAnalyzer</td>\n      <td>54</td>\n      <td>77</td>\n      <td>23</td>\n    </tr>\n    <tr>\n      <th>33</th>\n      <td>org.antlr.v4.semantics.BasicSemanticChecks</td>\n      <td>102</td>\n      <td>125</td>\n      <td>23</td>\n    </tr>\n    <tr>\n      <th>42</th>\n      <td>org.antlr.v4.codegen.ParserFactory</td>\n      <td>59</td>\n      <td>74</td>\n      <td>15</td>\n    </tr>\n    <tr>\n      <th>51</th>\n      <td>org.antlr.v4.codegen.ActionTranslator</td>\n      <td>36</td>\n      <td>48</td>\n      <td>12</td>\n    </tr>\n    <tr>\n      <th>15</th>\n      <td>org.antlr.v4.automata.RangeBorderCharactersData</td>\n      <td>7</td>\n      <td>16</td>\n      <td>9</td>\n    </tr>\n    <tr>\n      <th>178</th>\n      <td>org.antlr.v4.gui.Interpreter</td>\n      <td>46</td>\n      <td>55</td>\n      <td>9</td>\n    </tr>\n    <tr>\n      <th>207</th>\n      <td>org.antlr.v4.tool.Rule</td>\n      <td>66</td>\n      <td>75</td>\n      <td>9</td>\n    </tr>\n  </tbody>\n</table>\n</div>"
     },
     "execution_count": 3825,
     "metadata": {},
     "output_type": "execute_result"
    }
   ],
   "source": [
    "get_outliers(m, \"WMC\").loc[:, [\"DeclarableId\", \"D_WMC\", \"L_WMC\", \"DELTA_WMC\"]].sort_values(by=\"DELTA_WMC\", ascending=False)"
   ],
   "metadata": {
    "collapsed": false
   }
  },
  {
   "cell_type": "code",
   "execution_count": 3826,
   "outputs": [
    {
     "data": {
      "text/plain": "                                                                 DeclarableId  \\\n861                       org.antlr.v4.parse.ScopeParser://_splitArgumentList   \n805         org.antlr.v4.misc.CharSupport://getStringFromGrammarStringLiteral   \n14                                             org.antlr.v4.Tool://handleArgs   \n696                                     org.antlr.v4.gui.Interpreter://interp   \n113                 org.antlr.v4.automata.LexerATNFactory://createLexerAction   \n...                                                                       ...   \n801      org.antlr.v4.misc.CharSupport://getCharValueFromCharInGrammarLiteral   \n806                             org.antlr.v4.misc.CharSupport://parseHexValue   \n841              org.antlr.v4.misc.Utils://writeSerializedATNIntegerHistogram   \n903   org.antlr.v4.semantics.BasicSemanticChecks://checkCaseInsensitiveOption   \n1253            org.antlr.v4.tool.ast.GrammarASTWithOptions://getOptionString   \n\n      D_CC  L_CC  DELTA_CC  \n861     19    32        13  \n805     14    26        12  \n14      18    27         9  \n696     12    20         8  \n113     12    20         8  \n...    ...   ...       ...  \n801     10    12         2  \n806      2     4         2  \n841      4     6         2  \n903      5     7         2  \n1253     5     7         2  \n\n[116 rows x 4 columns]",
      "text/html": "<div>\n<style scoped>\n    .dataframe tbody tr th:only-of-type {\n        vertical-align: middle;\n    }\n\n    .dataframe tbody tr th {\n        vertical-align: top;\n    }\n\n    .dataframe thead th {\n        text-align: right;\n    }\n</style>\n<table border=\"1\" class=\"dataframe\">\n  <thead>\n    <tr style=\"text-align: right;\">\n      <th></th>\n      <th>DeclarableId</th>\n      <th>D_CC</th>\n      <th>L_CC</th>\n      <th>DELTA_CC</th>\n    </tr>\n  </thead>\n  <tbody>\n    <tr>\n      <th>861</th>\n      <td>org.antlr.v4.parse.ScopeParser://_splitArgumentList</td>\n      <td>19</td>\n      <td>32</td>\n      <td>13</td>\n    </tr>\n    <tr>\n      <th>805</th>\n      <td>org.antlr.v4.misc.CharSupport://getStringFromGrammarStringLiteral</td>\n      <td>14</td>\n      <td>26</td>\n      <td>12</td>\n    </tr>\n    <tr>\n      <th>14</th>\n      <td>org.antlr.v4.Tool://handleArgs</td>\n      <td>18</td>\n      <td>27</td>\n      <td>9</td>\n    </tr>\n    <tr>\n      <th>696</th>\n      <td>org.antlr.v4.gui.Interpreter://interp</td>\n      <td>12</td>\n      <td>20</td>\n      <td>8</td>\n    </tr>\n    <tr>\n      <th>113</th>\n      <td>org.antlr.v4.automata.LexerATNFactory://createLexerAction</td>\n      <td>12</td>\n      <td>20</td>\n      <td>8</td>\n    </tr>\n    <tr>\n      <th>...</th>\n      <td>...</td>\n      <td>...</td>\n      <td>...</td>\n      <td>...</td>\n    </tr>\n    <tr>\n      <th>801</th>\n      <td>org.antlr.v4.misc.CharSupport://getCharValueFromCharInGrammarLiteral</td>\n      <td>10</td>\n      <td>12</td>\n      <td>2</td>\n    </tr>\n    <tr>\n      <th>806</th>\n      <td>org.antlr.v4.misc.CharSupport://parseHexValue</td>\n      <td>2</td>\n      <td>4</td>\n      <td>2</td>\n    </tr>\n    <tr>\n      <th>841</th>\n      <td>org.antlr.v4.misc.Utils://writeSerializedATNIntegerHistogram</td>\n      <td>4</td>\n      <td>6</td>\n      <td>2</td>\n    </tr>\n    <tr>\n      <th>903</th>\n      <td>org.antlr.v4.semantics.BasicSemanticChecks://checkCaseInsensitiveOption</td>\n      <td>5</td>\n      <td>7</td>\n      <td>2</td>\n    </tr>\n    <tr>\n      <th>1253</th>\n      <td>org.antlr.v4.tool.ast.GrammarASTWithOptions://getOptionString</td>\n      <td>5</td>\n      <td>7</td>\n      <td>2</td>\n    </tr>\n  </tbody>\n</table>\n<p>116 rows × 4 columns</p>\n</div>"
     },
     "execution_count": 3826,
     "metadata": {},
     "output_type": "execute_result"
    }
   ],
   "source": [
    "get_outliers(u, \"CC\").loc[:, [\"DeclarableId\", \"D_CC\", \"L_CC\", \"DELTA_CC\"]].sort_values(by=\"DELTA_CC\", ascending=False)"
   ],
   "metadata": {
    "collapsed": false
   }
  },
  {
   "cell_type": "code",
   "execution_count": 3827,
   "outputs": [
    {
     "data": {
      "text/plain": "                                                                 DeclarableId  \\\n861                       org.antlr.v4.parse.ScopeParser://_splitArgumentList   \n805         org.antlr.v4.misc.CharSupport://getStringFromGrammarStringLiteral   \n14                                             org.antlr.v4.Tool://handleArgs   \n696                                     org.antlr.v4.gui.Interpreter://interp   \n113                 org.antlr.v4.automata.LexerATNFactory://createLexerAction   \n...                                                                       ...   \n801      org.antlr.v4.misc.CharSupport://getCharValueFromCharInGrammarLiteral   \n806                             org.antlr.v4.misc.CharSupport://parseHexValue   \n841              org.antlr.v4.misc.Utils://writeSerializedATNIntegerHistogram   \n903   org.antlr.v4.semantics.BasicSemanticChecks://checkCaseInsensitiveOption   \n1253            org.antlr.v4.tool.ast.GrammarASTWithOptions://getOptionString   \n\n      D_CC  L_CC  DELTA_CC  \n861     19    32        13  \n805     14    26        12  \n14      18    27         9  \n696     12    20         8  \n113     12    20         8  \n...    ...   ...       ...  \n801     10    12         2  \n806      2     4         2  \n841      4     6         2  \n903      5     7         2  \n1253     5     7         2  \n\n[116 rows x 4 columns]",
      "text/html": "<div>\n<style scoped>\n    .dataframe tbody tr th:only-of-type {\n        vertical-align: middle;\n    }\n\n    .dataframe tbody tr th {\n        vertical-align: top;\n    }\n\n    .dataframe thead th {\n        text-align: right;\n    }\n</style>\n<table border=\"1\" class=\"dataframe\">\n  <thead>\n    <tr style=\"text-align: right;\">\n      <th></th>\n      <th>DeclarableId</th>\n      <th>D_CC</th>\n      <th>L_CC</th>\n      <th>DELTA_CC</th>\n    </tr>\n  </thead>\n  <tbody>\n    <tr>\n      <th>861</th>\n      <td>org.antlr.v4.parse.ScopeParser://_splitArgumentList</td>\n      <td>19</td>\n      <td>32</td>\n      <td>13</td>\n    </tr>\n    <tr>\n      <th>805</th>\n      <td>org.antlr.v4.misc.CharSupport://getStringFromGrammarStringLiteral</td>\n      <td>14</td>\n      <td>26</td>\n      <td>12</td>\n    </tr>\n    <tr>\n      <th>14</th>\n      <td>org.antlr.v4.Tool://handleArgs</td>\n      <td>18</td>\n      <td>27</td>\n      <td>9</td>\n    </tr>\n    <tr>\n      <th>696</th>\n      <td>org.antlr.v4.gui.Interpreter://interp</td>\n      <td>12</td>\n      <td>20</td>\n      <td>8</td>\n    </tr>\n    <tr>\n      <th>113</th>\n      <td>org.antlr.v4.automata.LexerATNFactory://createLexerAction</td>\n      <td>12</td>\n      <td>20</td>\n      <td>8</td>\n    </tr>\n    <tr>\n      <th>...</th>\n      <td>...</td>\n      <td>...</td>\n      <td>...</td>\n      <td>...</td>\n    </tr>\n    <tr>\n      <th>801</th>\n      <td>org.antlr.v4.misc.CharSupport://getCharValueFromCharInGrammarLiteral</td>\n      <td>10</td>\n      <td>12</td>\n      <td>2</td>\n    </tr>\n    <tr>\n      <th>806</th>\n      <td>org.antlr.v4.misc.CharSupport://parseHexValue</td>\n      <td>2</td>\n      <td>4</td>\n      <td>2</td>\n    </tr>\n    <tr>\n      <th>841</th>\n      <td>org.antlr.v4.misc.Utils://writeSerializedATNIntegerHistogram</td>\n      <td>4</td>\n      <td>6</td>\n      <td>2</td>\n    </tr>\n    <tr>\n      <th>903</th>\n      <td>org.antlr.v4.semantics.BasicSemanticChecks://checkCaseInsensitiveOption</td>\n      <td>5</td>\n      <td>7</td>\n      <td>2</td>\n    </tr>\n    <tr>\n      <th>1253</th>\n      <td>org.antlr.v4.tool.ast.GrammarASTWithOptions://getOptionString</td>\n      <td>5</td>\n      <td>7</td>\n      <td>2</td>\n    </tr>\n  </tbody>\n</table>\n<p>116 rows × 4 columns</p>\n</div>"
     },
     "execution_count": 3827,
     "metadata": {},
     "output_type": "execute_result"
    }
   ],
   "source": [
    "u[u[\"DELTA_CC\"] > 1].loc[:, [\"DeclarableId\", \"D_CC\", \"L_CC\", \"DELTA_CC\"]].sort_values(by=\"DELTA_CC\", ascending=False)"
   ],
   "metadata": {
    "collapsed": false
   }
  },
  {
   "cell_type": "code",
   "execution_count": 3828,
   "outputs": [
    {
     "data": {
      "text/plain": "                                   DeclarableId  S_COCO  L_CWMC  DELTA_CWMC\n171                           org.antlr.v4.Tool     216     210           6\n195  org.antlr.v4.tool.GrammarTransformPipeline     180     174           6\n33   org.antlr.v4.semantics.BasicSemanticChecks     104     100           4\n38          org.antlr.v4.semantics.SymbolChecks     184     180           4\n179          org.antlr.v4.gui.TreeLayoutAdaptor       4       0           4\n3       org.antlr.v4.misc.EscapeSequenceParsing      42      39           3\n10        org.antlr.v4.automata.LexerATNFactory     182     179           3\n26          org.antlr.v4.parse.TokenVocabParser      23      20           3\n49                  org.antlr.v4.codegen.Target      81      78           3\n72      org.antlr.v4.codegen.model.RuleFunction      88      85           3\n189  org.antlr.v4.tool.GrammarParserInterpreter      44      41           3\n2                       org.antlr.v4.misc.Graph      15      13           2\n174            org.antlr.v4.gui.GraphicsSupport      18      16           2\n175                 org.antlr.v4.gui.TreeViewer      56      54           2",
      "text/html": "<div>\n<style scoped>\n    .dataframe tbody tr th:only-of-type {\n        vertical-align: middle;\n    }\n\n    .dataframe tbody tr th {\n        vertical-align: top;\n    }\n\n    .dataframe thead th {\n        text-align: right;\n    }\n</style>\n<table border=\"1\" class=\"dataframe\">\n  <thead>\n    <tr style=\"text-align: right;\">\n      <th></th>\n      <th>DeclarableId</th>\n      <th>S_COCO</th>\n      <th>L_CWMC</th>\n      <th>DELTA_CWMC</th>\n    </tr>\n  </thead>\n  <tbody>\n    <tr>\n      <th>171</th>\n      <td>org.antlr.v4.Tool</td>\n      <td>216</td>\n      <td>210</td>\n      <td>6</td>\n    </tr>\n    <tr>\n      <th>195</th>\n      <td>org.antlr.v4.tool.GrammarTransformPipeline</td>\n      <td>180</td>\n      <td>174</td>\n      <td>6</td>\n    </tr>\n    <tr>\n      <th>33</th>\n      <td>org.antlr.v4.semantics.BasicSemanticChecks</td>\n      <td>104</td>\n      <td>100</td>\n      <td>4</td>\n    </tr>\n    <tr>\n      <th>38</th>\n      <td>org.antlr.v4.semantics.SymbolChecks</td>\n      <td>184</td>\n      <td>180</td>\n      <td>4</td>\n    </tr>\n    <tr>\n      <th>179</th>\n      <td>org.antlr.v4.gui.TreeLayoutAdaptor</td>\n      <td>4</td>\n      <td>0</td>\n      <td>4</td>\n    </tr>\n    <tr>\n      <th>3</th>\n      <td>org.antlr.v4.misc.EscapeSequenceParsing</td>\n      <td>42</td>\n      <td>39</td>\n      <td>3</td>\n    </tr>\n    <tr>\n      <th>10</th>\n      <td>org.antlr.v4.automata.LexerATNFactory</td>\n      <td>182</td>\n      <td>179</td>\n      <td>3</td>\n    </tr>\n    <tr>\n      <th>26</th>\n      <td>org.antlr.v4.parse.TokenVocabParser</td>\n      <td>23</td>\n      <td>20</td>\n      <td>3</td>\n    </tr>\n    <tr>\n      <th>49</th>\n      <td>org.antlr.v4.codegen.Target</td>\n      <td>81</td>\n      <td>78</td>\n      <td>3</td>\n    </tr>\n    <tr>\n      <th>72</th>\n      <td>org.antlr.v4.codegen.model.RuleFunction</td>\n      <td>88</td>\n      <td>85</td>\n      <td>3</td>\n    </tr>\n    <tr>\n      <th>189</th>\n      <td>org.antlr.v4.tool.GrammarParserInterpreter</td>\n      <td>44</td>\n      <td>41</td>\n      <td>3</td>\n    </tr>\n    <tr>\n      <th>2</th>\n      <td>org.antlr.v4.misc.Graph</td>\n      <td>15</td>\n      <td>13</td>\n      <td>2</td>\n    </tr>\n    <tr>\n      <th>174</th>\n      <td>org.antlr.v4.gui.GraphicsSupport</td>\n      <td>18</td>\n      <td>16</td>\n      <td>2</td>\n    </tr>\n    <tr>\n      <th>175</th>\n      <td>org.antlr.v4.gui.TreeViewer</td>\n      <td>56</td>\n      <td>54</td>\n      <td>2</td>\n    </tr>\n  </tbody>\n</table>\n</div>"
     },
     "execution_count": 3828,
     "metadata": {},
     "output_type": "execute_result"
    }
   ],
   "source": [
    "dcwmc = get_outliers(m, \"CWMC\").loc[:, [\"DeclarableId\", \"S_COCO\", \"L_CWMC\", \"DELTA_CWMC\"]].sort_values(by=\"DELTA_CWMC\", ascending=False)\n",
    "dcwmc"
   ],
   "metadata": {
    "collapsed": false
   }
  },
  {
   "cell_type": "code",
   "execution_count": 3829,
   "outputs": [
    {
     "name": "stdout",
     "output_type": "stream",
     "text": [
      "CWMC Percentage diff: 6.11353711790393%\n"
     ]
    }
   ],
   "source": [
    "print(f\"CWMC Percentage diff: {(len(dcwmc) / len(m)) * 100}%\")"
   ],
   "metadata": {
    "collapsed": false
   }
  },
  {
   "cell_type": "code",
   "execution_count": 3830,
   "outputs": [
    {
     "data": {
      "text/plain": "                                             DeclarableId  D_DIT  L_DIT  \\\n117                 org.antlr.v4.codegen.model.InvokeRule      0      3   \n113                  org.antlr.v4.codegen.model.ArgAction      1      4   \n105                     org.antlr.v4.codegen.model.Action      0      3   \n211                         org.antlr.v4.tool.ast.RuleAST      0      3   \n87                     org.antlr.v4.codegen.model.SemPred      1      4   \n0                        org.antlr.v4.misc.OrderedHashMap      0      1   \n216                     org.antlr.v4.tool.ast.TerminalAST      2      3   \n205                         org.antlr.v4.tool.Alternative      1      0   \n207                                org.antlr.v4.tool.Rule      1      0   \n212                          org.antlr.v4.tool.ast.SetAST      1      2   \n213                  org.antlr.v4.tool.ast.GrammarRootAST      2      3   \n214                    org.antlr.v4.tool.ast.PlusBlockAST      1      2   \n217                    org.antlr.v4.tool.ast.StarBlockAST      1      2   \n191                   org.antlr.v4.tool.LeftRecursiveRule      2      1   \n218           org.antlr.v4.tool.ast.GrammarASTWithOptions      1      2   \n219                        org.antlr.v4.tool.ast.RangeAST      1      2   \n220                         org.antlr.v4.tool.ast.PredAST      3      4   \n221                org.antlr.v4.tool.ast.OptionalBlockAST      1      2   \n222                          org.antlr.v4.tool.ast.NotAST      1      2   \n223                       org.antlr.v4.tool.ast.ActionAST      2      3   \n224                      org.antlr.v4.tool.ast.RuleRefAST      2      3   \n225                        org.antlr.v4.tool.ast.BlockAST      2      3   \n226             org.antlr.v4.tool.ast.GrammarASTErrorNode      1      2   \n227                      org.antlr.v4.tool.ast.GrammarAST      0      1   \n200                 org.antlr.v4.tool.DefaultToolListener      1      0   \n184       org.antlr.v4.tool.GrammarInterpreterRuleContext      0      1   \n189            org.antlr.v4.tool.GrammarParserInterpreter      0      1   \n1                          org.antlr.v4.misc.FrequencySet      0      1   \n10                  org.antlr.v4.automata.LexerATNFactory      0      1   \n18        org.antlr.v4.analysis.LeftRecursiveRuleAnalyzer      0      1   \n23                        org.antlr.v4.parse.GrammarToken      0      1   \n24                   org.antlr.v4.parse.GrammarASTAdaptor      0      1   \n29                   org.antlr.v4.parse.v4ParserException      0      1   \n31                   org.antlr.v4.semantics.RuleCollector      0      1   \n32     org.antlr.v4.semantics.BlankActionSplitterListener      1      0   \n33             org.antlr.v4.semantics.BasicSemanticChecks      0      1   \n34                 org.antlr.v4.semantics.SymbolCollector      0      1   \n36                   org.antlr.v4.semantics.ActionSniffer      0      1   \n40                      org.antlr.v4.codegen.LexerFactory      3      2   \n42                     org.antlr.v4.codegen.ParserFactory      3      2   \n44         org.antlr.v4.codegen.DefaultOutputModelFactory      2      1   \n45           org.antlr.v4.codegen.BlankOutputModelFactory      1      0   \n72                org.antlr.v4.codegen.model.RuleFunction      0      1   \n95   org.antlr.v4.codegen.model.ElementFrequenciesVisitor      0      1   \n104  org.antlr.v4.codegen.model.LeftRecursiveRuleFunction      1      2   \n228                          org.antlr.v4.tool.ast.AltAST      2      3   \n\n     DELTA_DIT  \n117          3  \n113          3  \n105          3  \n211          3  \n87           3  \n0            1  \n216          1  \n205          1  \n207          1  \n212          1  \n213          1  \n214          1  \n217          1  \n191          1  \n218          1  \n219          1  \n220          1  \n221          1  \n222          1  \n223          1  \n224          1  \n225          1  \n226          1  \n227          1  \n200          1  \n184          1  \n189          1  \n1            1  \n10           1  \n18           1  \n23           1  \n24           1  \n29           1  \n31           1  \n32           1  \n33           1  \n34           1  \n36           1  \n40           1  \n42           1  \n44           1  \n45           1  \n72           1  \n95           1  \n104          1  \n228          1  ",
      "text/html": "<div>\n<style scoped>\n    .dataframe tbody tr th:only-of-type {\n        vertical-align: middle;\n    }\n\n    .dataframe tbody tr th {\n        vertical-align: top;\n    }\n\n    .dataframe thead th {\n        text-align: right;\n    }\n</style>\n<table border=\"1\" class=\"dataframe\">\n  <thead>\n    <tr style=\"text-align: right;\">\n      <th></th>\n      <th>DeclarableId</th>\n      <th>D_DIT</th>\n      <th>L_DIT</th>\n      <th>DELTA_DIT</th>\n    </tr>\n  </thead>\n  <tbody>\n    <tr>\n      <th>117</th>\n      <td>org.antlr.v4.codegen.model.InvokeRule</td>\n      <td>0</td>\n      <td>3</td>\n      <td>3</td>\n    </tr>\n    <tr>\n      <th>113</th>\n      <td>org.antlr.v4.codegen.model.ArgAction</td>\n      <td>1</td>\n      <td>4</td>\n      <td>3</td>\n    </tr>\n    <tr>\n      <th>105</th>\n      <td>org.antlr.v4.codegen.model.Action</td>\n      <td>0</td>\n      <td>3</td>\n      <td>3</td>\n    </tr>\n    <tr>\n      <th>211</th>\n      <td>org.antlr.v4.tool.ast.RuleAST</td>\n      <td>0</td>\n      <td>3</td>\n      <td>3</td>\n    </tr>\n    <tr>\n      <th>87</th>\n      <td>org.antlr.v4.codegen.model.SemPred</td>\n      <td>1</td>\n      <td>4</td>\n      <td>3</td>\n    </tr>\n    <tr>\n      <th>0</th>\n      <td>org.antlr.v4.misc.OrderedHashMap</td>\n      <td>0</td>\n      <td>1</td>\n      <td>1</td>\n    </tr>\n    <tr>\n      <th>216</th>\n      <td>org.antlr.v4.tool.ast.TerminalAST</td>\n      <td>2</td>\n      <td>3</td>\n      <td>1</td>\n    </tr>\n    <tr>\n      <th>205</th>\n      <td>org.antlr.v4.tool.Alternative</td>\n      <td>1</td>\n      <td>0</td>\n      <td>1</td>\n    </tr>\n    <tr>\n      <th>207</th>\n      <td>org.antlr.v4.tool.Rule</td>\n      <td>1</td>\n      <td>0</td>\n      <td>1</td>\n    </tr>\n    <tr>\n      <th>212</th>\n      <td>org.antlr.v4.tool.ast.SetAST</td>\n      <td>1</td>\n      <td>2</td>\n      <td>1</td>\n    </tr>\n    <tr>\n      <th>213</th>\n      <td>org.antlr.v4.tool.ast.GrammarRootAST</td>\n      <td>2</td>\n      <td>3</td>\n      <td>1</td>\n    </tr>\n    <tr>\n      <th>214</th>\n      <td>org.antlr.v4.tool.ast.PlusBlockAST</td>\n      <td>1</td>\n      <td>2</td>\n      <td>1</td>\n    </tr>\n    <tr>\n      <th>217</th>\n      <td>org.antlr.v4.tool.ast.StarBlockAST</td>\n      <td>1</td>\n      <td>2</td>\n      <td>1</td>\n    </tr>\n    <tr>\n      <th>191</th>\n      <td>org.antlr.v4.tool.LeftRecursiveRule</td>\n      <td>2</td>\n      <td>1</td>\n      <td>1</td>\n    </tr>\n    <tr>\n      <th>218</th>\n      <td>org.antlr.v4.tool.ast.GrammarASTWithOptions</td>\n      <td>1</td>\n      <td>2</td>\n      <td>1</td>\n    </tr>\n    <tr>\n      <th>219</th>\n      <td>org.antlr.v4.tool.ast.RangeAST</td>\n      <td>1</td>\n      <td>2</td>\n      <td>1</td>\n    </tr>\n    <tr>\n      <th>220</th>\n      <td>org.antlr.v4.tool.ast.PredAST</td>\n      <td>3</td>\n      <td>4</td>\n      <td>1</td>\n    </tr>\n    <tr>\n      <th>221</th>\n      <td>org.antlr.v4.tool.ast.OptionalBlockAST</td>\n      <td>1</td>\n      <td>2</td>\n      <td>1</td>\n    </tr>\n    <tr>\n      <th>222</th>\n      <td>org.antlr.v4.tool.ast.NotAST</td>\n      <td>1</td>\n      <td>2</td>\n      <td>1</td>\n    </tr>\n    <tr>\n      <th>223</th>\n      <td>org.antlr.v4.tool.ast.ActionAST</td>\n      <td>2</td>\n      <td>3</td>\n      <td>1</td>\n    </tr>\n    <tr>\n      <th>224</th>\n      <td>org.antlr.v4.tool.ast.RuleRefAST</td>\n      <td>2</td>\n      <td>3</td>\n      <td>1</td>\n    </tr>\n    <tr>\n      <th>225</th>\n      <td>org.antlr.v4.tool.ast.BlockAST</td>\n      <td>2</td>\n      <td>3</td>\n      <td>1</td>\n    </tr>\n    <tr>\n      <th>226</th>\n      <td>org.antlr.v4.tool.ast.GrammarASTErrorNode</td>\n      <td>1</td>\n      <td>2</td>\n      <td>1</td>\n    </tr>\n    <tr>\n      <th>227</th>\n      <td>org.antlr.v4.tool.ast.GrammarAST</td>\n      <td>0</td>\n      <td>1</td>\n      <td>1</td>\n    </tr>\n    <tr>\n      <th>200</th>\n      <td>org.antlr.v4.tool.DefaultToolListener</td>\n      <td>1</td>\n      <td>0</td>\n      <td>1</td>\n    </tr>\n    <tr>\n      <th>184</th>\n      <td>org.antlr.v4.tool.GrammarInterpreterRuleContext</td>\n      <td>0</td>\n      <td>1</td>\n      <td>1</td>\n    </tr>\n    <tr>\n      <th>189</th>\n      <td>org.antlr.v4.tool.GrammarParserInterpreter</td>\n      <td>0</td>\n      <td>1</td>\n      <td>1</td>\n    </tr>\n    <tr>\n      <th>1</th>\n      <td>org.antlr.v4.misc.FrequencySet</td>\n      <td>0</td>\n      <td>1</td>\n      <td>1</td>\n    </tr>\n    <tr>\n      <th>10</th>\n      <td>org.antlr.v4.automata.LexerATNFactory</td>\n      <td>0</td>\n      <td>1</td>\n      <td>1</td>\n    </tr>\n    <tr>\n      <th>18</th>\n      <td>org.antlr.v4.analysis.LeftRecursiveRuleAnalyzer</td>\n      <td>0</td>\n      <td>1</td>\n      <td>1</td>\n    </tr>\n    <tr>\n      <th>23</th>\n      <td>org.antlr.v4.parse.GrammarToken</td>\n      <td>0</td>\n      <td>1</td>\n      <td>1</td>\n    </tr>\n    <tr>\n      <th>24</th>\n      <td>org.antlr.v4.parse.GrammarASTAdaptor</td>\n      <td>0</td>\n      <td>1</td>\n      <td>1</td>\n    </tr>\n    <tr>\n      <th>29</th>\n      <td>org.antlr.v4.parse.v4ParserException</td>\n      <td>0</td>\n      <td>1</td>\n      <td>1</td>\n    </tr>\n    <tr>\n      <th>31</th>\n      <td>org.antlr.v4.semantics.RuleCollector</td>\n      <td>0</td>\n      <td>1</td>\n      <td>1</td>\n    </tr>\n    <tr>\n      <th>32</th>\n      <td>org.antlr.v4.semantics.BlankActionSplitterListener</td>\n      <td>1</td>\n      <td>0</td>\n      <td>1</td>\n    </tr>\n    <tr>\n      <th>33</th>\n      <td>org.antlr.v4.semantics.BasicSemanticChecks</td>\n      <td>0</td>\n      <td>1</td>\n      <td>1</td>\n    </tr>\n    <tr>\n      <th>34</th>\n      <td>org.antlr.v4.semantics.SymbolCollector</td>\n      <td>0</td>\n      <td>1</td>\n      <td>1</td>\n    </tr>\n    <tr>\n      <th>36</th>\n      <td>org.antlr.v4.semantics.ActionSniffer</td>\n      <td>0</td>\n      <td>1</td>\n      <td>1</td>\n    </tr>\n    <tr>\n      <th>40</th>\n      <td>org.antlr.v4.codegen.LexerFactory</td>\n      <td>3</td>\n      <td>2</td>\n      <td>1</td>\n    </tr>\n    <tr>\n      <th>42</th>\n      <td>org.antlr.v4.codegen.ParserFactory</td>\n      <td>3</td>\n      <td>2</td>\n      <td>1</td>\n    </tr>\n    <tr>\n      <th>44</th>\n      <td>org.antlr.v4.codegen.DefaultOutputModelFactory</td>\n      <td>2</td>\n      <td>1</td>\n      <td>1</td>\n    </tr>\n    <tr>\n      <th>45</th>\n      <td>org.antlr.v4.codegen.BlankOutputModelFactory</td>\n      <td>1</td>\n      <td>0</td>\n      <td>1</td>\n    </tr>\n    <tr>\n      <th>72</th>\n      <td>org.antlr.v4.codegen.model.RuleFunction</td>\n      <td>0</td>\n      <td>1</td>\n      <td>1</td>\n    </tr>\n    <tr>\n      <th>95</th>\n      <td>org.antlr.v4.codegen.model.ElementFrequenciesVisitor</td>\n      <td>0</td>\n      <td>1</td>\n      <td>1</td>\n    </tr>\n    <tr>\n      <th>104</th>\n      <td>org.antlr.v4.codegen.model.LeftRecursiveRuleFunction</td>\n      <td>1</td>\n      <td>2</td>\n      <td>1</td>\n    </tr>\n    <tr>\n      <th>228</th>\n      <td>org.antlr.v4.tool.ast.AltAST</td>\n      <td>2</td>\n      <td>3</td>\n      <td>1</td>\n    </tr>\n  </tbody>\n</table>\n</div>"
     },
     "execution_count": 3830,
     "metadata": {},
     "output_type": "execute_result"
    }
   ],
   "source": [
    "get_outliers(m, \"DIT\").loc[:, [\"DeclarableId\", \"D_DIT\", \"L_DIT\", \"DELTA_DIT\"]].sort_values(by=\"DELTA_DIT\", ascending=False)"
   ],
   "metadata": {
    "collapsed": false
   }
  },
  {
   "cell_type": "code",
   "execution_count": 3831,
   "outputs": [
    {
     "data": {
      "text/plain": "                                             DeclarableId  D_DIT  L_DIT  \\\n0                        org.antlr.v4.misc.OrderedHashMap      0      1   \n191                   org.antlr.v4.tool.LeftRecursiveRule      2      1   \n205                         org.antlr.v4.tool.Alternative      1      0   \n207                                org.antlr.v4.tool.Rule      1      0   \n212                          org.antlr.v4.tool.ast.SetAST      1      2   \n213                  org.antlr.v4.tool.ast.GrammarRootAST      2      3   \n214                    org.antlr.v4.tool.ast.PlusBlockAST      1      2   \n216                     org.antlr.v4.tool.ast.TerminalAST      2      3   \n217                    org.antlr.v4.tool.ast.StarBlockAST      1      2   \n218           org.antlr.v4.tool.ast.GrammarASTWithOptions      1      2   \n219                        org.antlr.v4.tool.ast.RangeAST      1      2   \n220                         org.antlr.v4.tool.ast.PredAST      3      4   \n221                org.antlr.v4.tool.ast.OptionalBlockAST      1      2   \n222                          org.antlr.v4.tool.ast.NotAST      1      2   \n223                       org.antlr.v4.tool.ast.ActionAST      2      3   \n224                      org.antlr.v4.tool.ast.RuleRefAST      2      3   \n225                        org.antlr.v4.tool.ast.BlockAST      2      3   \n226             org.antlr.v4.tool.ast.GrammarASTErrorNode      1      2   \n227                      org.antlr.v4.tool.ast.GrammarAST      0      1   \n200                 org.antlr.v4.tool.DefaultToolListener      1      0   \n189            org.antlr.v4.tool.GrammarParserInterpreter      0      1   \n1                          org.antlr.v4.misc.FrequencySet      0      1   \n184       org.antlr.v4.tool.GrammarInterpreterRuleContext      0      1   \n10                  org.antlr.v4.automata.LexerATNFactory      0      1   \n18        org.antlr.v4.analysis.LeftRecursiveRuleAnalyzer      0      1   \n23                        org.antlr.v4.parse.GrammarToken      0      1   \n24                   org.antlr.v4.parse.GrammarASTAdaptor      0      1   \n29                   org.antlr.v4.parse.v4ParserException      0      1   \n31                   org.antlr.v4.semantics.RuleCollector      0      1   \n32     org.antlr.v4.semantics.BlankActionSplitterListener      1      0   \n33             org.antlr.v4.semantics.BasicSemanticChecks      0      1   \n34                 org.antlr.v4.semantics.SymbolCollector      0      1   \n36                   org.antlr.v4.semantics.ActionSniffer      0      1   \n40                      org.antlr.v4.codegen.LexerFactory      3      2   \n42                     org.antlr.v4.codegen.ParserFactory      3      2   \n44         org.antlr.v4.codegen.DefaultOutputModelFactory      2      1   \n45           org.antlr.v4.codegen.BlankOutputModelFactory      1      0   \n72                org.antlr.v4.codegen.model.RuleFunction      0      1   \n95   org.antlr.v4.codegen.model.ElementFrequenciesVisitor      0      1   \n104  org.antlr.v4.codegen.model.LeftRecursiveRuleFunction      1      2   \n228                          org.antlr.v4.tool.ast.AltAST      2      3   \n\n     DELTA_DIT  \n0            1  \n191          1  \n205          1  \n207          1  \n212          1  \n213          1  \n214          1  \n216          1  \n217          1  \n218          1  \n219          1  \n220          1  \n221          1  \n222          1  \n223          1  \n224          1  \n225          1  \n226          1  \n227          1  \n200          1  \n189          1  \n1            1  \n184          1  \n10           1  \n18           1  \n23           1  \n24           1  \n29           1  \n31           1  \n32           1  \n33           1  \n34           1  \n36           1  \n40           1  \n42           1  \n44           1  \n45           1  \n72           1  \n95           1  \n104          1  \n228          1  ",
      "text/html": "<div>\n<style scoped>\n    .dataframe tbody tr th:only-of-type {\n        vertical-align: middle;\n    }\n\n    .dataframe tbody tr th {\n        vertical-align: top;\n    }\n\n    .dataframe thead th {\n        text-align: right;\n    }\n</style>\n<table border=\"1\" class=\"dataframe\">\n  <thead>\n    <tr style=\"text-align: right;\">\n      <th></th>\n      <th>DeclarableId</th>\n      <th>D_DIT</th>\n      <th>L_DIT</th>\n      <th>DELTA_DIT</th>\n    </tr>\n  </thead>\n  <tbody>\n    <tr>\n      <th>0</th>\n      <td>org.antlr.v4.misc.OrderedHashMap</td>\n      <td>0</td>\n      <td>1</td>\n      <td>1</td>\n    </tr>\n    <tr>\n      <th>191</th>\n      <td>org.antlr.v4.tool.LeftRecursiveRule</td>\n      <td>2</td>\n      <td>1</td>\n      <td>1</td>\n    </tr>\n    <tr>\n      <th>205</th>\n      <td>org.antlr.v4.tool.Alternative</td>\n      <td>1</td>\n      <td>0</td>\n      <td>1</td>\n    </tr>\n    <tr>\n      <th>207</th>\n      <td>org.antlr.v4.tool.Rule</td>\n      <td>1</td>\n      <td>0</td>\n      <td>1</td>\n    </tr>\n    <tr>\n      <th>212</th>\n      <td>org.antlr.v4.tool.ast.SetAST</td>\n      <td>1</td>\n      <td>2</td>\n      <td>1</td>\n    </tr>\n    <tr>\n      <th>213</th>\n      <td>org.antlr.v4.tool.ast.GrammarRootAST</td>\n      <td>2</td>\n      <td>3</td>\n      <td>1</td>\n    </tr>\n    <tr>\n      <th>214</th>\n      <td>org.antlr.v4.tool.ast.PlusBlockAST</td>\n      <td>1</td>\n      <td>2</td>\n      <td>1</td>\n    </tr>\n    <tr>\n      <th>216</th>\n      <td>org.antlr.v4.tool.ast.TerminalAST</td>\n      <td>2</td>\n      <td>3</td>\n      <td>1</td>\n    </tr>\n    <tr>\n      <th>217</th>\n      <td>org.antlr.v4.tool.ast.StarBlockAST</td>\n      <td>1</td>\n      <td>2</td>\n      <td>1</td>\n    </tr>\n    <tr>\n      <th>218</th>\n      <td>org.antlr.v4.tool.ast.GrammarASTWithOptions</td>\n      <td>1</td>\n      <td>2</td>\n      <td>1</td>\n    </tr>\n    <tr>\n      <th>219</th>\n      <td>org.antlr.v4.tool.ast.RangeAST</td>\n      <td>1</td>\n      <td>2</td>\n      <td>1</td>\n    </tr>\n    <tr>\n      <th>220</th>\n      <td>org.antlr.v4.tool.ast.PredAST</td>\n      <td>3</td>\n      <td>4</td>\n      <td>1</td>\n    </tr>\n    <tr>\n      <th>221</th>\n      <td>org.antlr.v4.tool.ast.OptionalBlockAST</td>\n      <td>1</td>\n      <td>2</td>\n      <td>1</td>\n    </tr>\n    <tr>\n      <th>222</th>\n      <td>org.antlr.v4.tool.ast.NotAST</td>\n      <td>1</td>\n      <td>2</td>\n      <td>1</td>\n    </tr>\n    <tr>\n      <th>223</th>\n      <td>org.antlr.v4.tool.ast.ActionAST</td>\n      <td>2</td>\n      <td>3</td>\n      <td>1</td>\n    </tr>\n    <tr>\n      <th>224</th>\n      <td>org.antlr.v4.tool.ast.RuleRefAST</td>\n      <td>2</td>\n      <td>3</td>\n      <td>1</td>\n    </tr>\n    <tr>\n      <th>225</th>\n      <td>org.antlr.v4.tool.ast.BlockAST</td>\n      <td>2</td>\n      <td>3</td>\n      <td>1</td>\n    </tr>\n    <tr>\n      <th>226</th>\n      <td>org.antlr.v4.tool.ast.GrammarASTErrorNode</td>\n      <td>1</td>\n      <td>2</td>\n      <td>1</td>\n    </tr>\n    <tr>\n      <th>227</th>\n      <td>org.antlr.v4.tool.ast.GrammarAST</td>\n      <td>0</td>\n      <td>1</td>\n      <td>1</td>\n    </tr>\n    <tr>\n      <th>200</th>\n      <td>org.antlr.v4.tool.DefaultToolListener</td>\n      <td>1</td>\n      <td>0</td>\n      <td>1</td>\n    </tr>\n    <tr>\n      <th>189</th>\n      <td>org.antlr.v4.tool.GrammarParserInterpreter</td>\n      <td>0</td>\n      <td>1</td>\n      <td>1</td>\n    </tr>\n    <tr>\n      <th>1</th>\n      <td>org.antlr.v4.misc.FrequencySet</td>\n      <td>0</td>\n      <td>1</td>\n      <td>1</td>\n    </tr>\n    <tr>\n      <th>184</th>\n      <td>org.antlr.v4.tool.GrammarInterpreterRuleContext</td>\n      <td>0</td>\n      <td>1</td>\n      <td>1</td>\n    </tr>\n    <tr>\n      <th>10</th>\n      <td>org.antlr.v4.automata.LexerATNFactory</td>\n      <td>0</td>\n      <td>1</td>\n      <td>1</td>\n    </tr>\n    <tr>\n      <th>18</th>\n      <td>org.antlr.v4.analysis.LeftRecursiveRuleAnalyzer</td>\n      <td>0</td>\n      <td>1</td>\n      <td>1</td>\n    </tr>\n    <tr>\n      <th>23</th>\n      <td>org.antlr.v4.parse.GrammarToken</td>\n      <td>0</td>\n      <td>1</td>\n      <td>1</td>\n    </tr>\n    <tr>\n      <th>24</th>\n      <td>org.antlr.v4.parse.GrammarASTAdaptor</td>\n      <td>0</td>\n      <td>1</td>\n      <td>1</td>\n    </tr>\n    <tr>\n      <th>29</th>\n      <td>org.antlr.v4.parse.v4ParserException</td>\n      <td>0</td>\n      <td>1</td>\n      <td>1</td>\n    </tr>\n    <tr>\n      <th>31</th>\n      <td>org.antlr.v4.semantics.RuleCollector</td>\n      <td>0</td>\n      <td>1</td>\n      <td>1</td>\n    </tr>\n    <tr>\n      <th>32</th>\n      <td>org.antlr.v4.semantics.BlankActionSplitterListener</td>\n      <td>1</td>\n      <td>0</td>\n      <td>1</td>\n    </tr>\n    <tr>\n      <th>33</th>\n      <td>org.antlr.v4.semantics.BasicSemanticChecks</td>\n      <td>0</td>\n      <td>1</td>\n      <td>1</td>\n    </tr>\n    <tr>\n      <th>34</th>\n      <td>org.antlr.v4.semantics.SymbolCollector</td>\n      <td>0</td>\n      <td>1</td>\n      <td>1</td>\n    </tr>\n    <tr>\n      <th>36</th>\n      <td>org.antlr.v4.semantics.ActionSniffer</td>\n      <td>0</td>\n      <td>1</td>\n      <td>1</td>\n    </tr>\n    <tr>\n      <th>40</th>\n      <td>org.antlr.v4.codegen.LexerFactory</td>\n      <td>3</td>\n      <td>2</td>\n      <td>1</td>\n    </tr>\n    <tr>\n      <th>42</th>\n      <td>org.antlr.v4.codegen.ParserFactory</td>\n      <td>3</td>\n      <td>2</td>\n      <td>1</td>\n    </tr>\n    <tr>\n      <th>44</th>\n      <td>org.antlr.v4.codegen.DefaultOutputModelFactory</td>\n      <td>2</td>\n      <td>1</td>\n      <td>1</td>\n    </tr>\n    <tr>\n      <th>45</th>\n      <td>org.antlr.v4.codegen.BlankOutputModelFactory</td>\n      <td>1</td>\n      <td>0</td>\n      <td>1</td>\n    </tr>\n    <tr>\n      <th>72</th>\n      <td>org.antlr.v4.codegen.model.RuleFunction</td>\n      <td>0</td>\n      <td>1</td>\n      <td>1</td>\n    </tr>\n    <tr>\n      <th>95</th>\n      <td>org.antlr.v4.codegen.model.ElementFrequenciesVisitor</td>\n      <td>0</td>\n      <td>1</td>\n      <td>1</td>\n    </tr>\n    <tr>\n      <th>104</th>\n      <td>org.antlr.v4.codegen.model.LeftRecursiveRuleFunction</td>\n      <td>1</td>\n      <td>2</td>\n      <td>1</td>\n    </tr>\n    <tr>\n      <th>228</th>\n      <td>org.antlr.v4.tool.ast.AltAST</td>\n      <td>2</td>\n      <td>3</td>\n      <td>1</td>\n    </tr>\n  </tbody>\n</table>\n</div>"
     },
     "execution_count": 3831,
     "metadata": {},
     "output_type": "execute_result"
    }
   ],
   "source": [
    "m[m[\"DELTA_DIT\"] == 1].loc[:, [\"DeclarableId\", \"D_DIT\", \"L_DIT\", \"DELTA_DIT\"]].sort_values(by=\"DELTA_DIT\", ascending=False)"
   ],
   "metadata": {
    "collapsed": false
   }
  },
  {
   "cell_type": "code",
   "execution_count": 3832,
   "outputs": [
    {
     "data": {
      "text/plain": "                                           DeclarableId  D_NC  L_NOC  \\\n215                org.antlr.v4.tool.ast.RuleElementAST    10      0   \n210                 org.antlr.v4.tool.ast.QuantifierAST     3      0   \n75               org.antlr.v4.codegen.model.RuleElement     2      4   \n192                 org.antlr.v4.tool.AttributeResolver     2      0   \n9                org.antlr.v4.automata.ParserATNFactory     0      1   \n22            org.antlr.v4.parse.ActionSplitterListener     1      0   \n32   org.antlr.v4.semantics.BlankActionSplitterListener     0      1   \n41              org.antlr.v4.codegen.OutputModelFactory     1      0   \n69         org.antlr.v4.codegen.model.OutputModelObject     8      9   \n106                org.antlr.v4.codegen.model.LabeledOp     1      0   \n173                   org.antlr.v4.gui.TreeTextProvider     1      0   \n188                           org.antlr.v4.tool.Grammar     2      1   \n193                 org.antlr.v4.tool.ANTLRToolListener     1      0   \n218         org.antlr.v4.tool.ast.GrammarASTWithOptions     6      7   \n\n     DELTA_NOC  \n215         10  \n210          3  \n75           2  \n192          2  \n9            1  \n22           1  \n32           1  \n41           1  \n69           1  \n106          1  \n173          1  \n188          1  \n193          1  \n218          1  ",
      "text/html": "<div>\n<style scoped>\n    .dataframe tbody tr th:only-of-type {\n        vertical-align: middle;\n    }\n\n    .dataframe tbody tr th {\n        vertical-align: top;\n    }\n\n    .dataframe thead th {\n        text-align: right;\n    }\n</style>\n<table border=\"1\" class=\"dataframe\">\n  <thead>\n    <tr style=\"text-align: right;\">\n      <th></th>\n      <th>DeclarableId</th>\n      <th>D_NC</th>\n      <th>L_NOC</th>\n      <th>DELTA_NOC</th>\n    </tr>\n  </thead>\n  <tbody>\n    <tr>\n      <th>215</th>\n      <td>org.antlr.v4.tool.ast.RuleElementAST</td>\n      <td>10</td>\n      <td>0</td>\n      <td>10</td>\n    </tr>\n    <tr>\n      <th>210</th>\n      <td>org.antlr.v4.tool.ast.QuantifierAST</td>\n      <td>3</td>\n      <td>0</td>\n      <td>3</td>\n    </tr>\n    <tr>\n      <th>75</th>\n      <td>org.antlr.v4.codegen.model.RuleElement</td>\n      <td>2</td>\n      <td>4</td>\n      <td>2</td>\n    </tr>\n    <tr>\n      <th>192</th>\n      <td>org.antlr.v4.tool.AttributeResolver</td>\n      <td>2</td>\n      <td>0</td>\n      <td>2</td>\n    </tr>\n    <tr>\n      <th>9</th>\n      <td>org.antlr.v4.automata.ParserATNFactory</td>\n      <td>0</td>\n      <td>1</td>\n      <td>1</td>\n    </tr>\n    <tr>\n      <th>22</th>\n      <td>org.antlr.v4.parse.ActionSplitterListener</td>\n      <td>1</td>\n      <td>0</td>\n      <td>1</td>\n    </tr>\n    <tr>\n      <th>32</th>\n      <td>org.antlr.v4.semantics.BlankActionSplitterListener</td>\n      <td>0</td>\n      <td>1</td>\n      <td>1</td>\n    </tr>\n    <tr>\n      <th>41</th>\n      <td>org.antlr.v4.codegen.OutputModelFactory</td>\n      <td>1</td>\n      <td>0</td>\n      <td>1</td>\n    </tr>\n    <tr>\n      <th>69</th>\n      <td>org.antlr.v4.codegen.model.OutputModelObject</td>\n      <td>8</td>\n      <td>9</td>\n      <td>1</td>\n    </tr>\n    <tr>\n      <th>106</th>\n      <td>org.antlr.v4.codegen.model.LabeledOp</td>\n      <td>1</td>\n      <td>0</td>\n      <td>1</td>\n    </tr>\n    <tr>\n      <th>173</th>\n      <td>org.antlr.v4.gui.TreeTextProvider</td>\n      <td>1</td>\n      <td>0</td>\n      <td>1</td>\n    </tr>\n    <tr>\n      <th>188</th>\n      <td>org.antlr.v4.tool.Grammar</td>\n      <td>2</td>\n      <td>1</td>\n      <td>1</td>\n    </tr>\n    <tr>\n      <th>193</th>\n      <td>org.antlr.v4.tool.ANTLRToolListener</td>\n      <td>1</td>\n      <td>0</td>\n      <td>1</td>\n    </tr>\n    <tr>\n      <th>218</th>\n      <td>org.antlr.v4.tool.ast.GrammarASTWithOptions</td>\n      <td>6</td>\n      <td>7</td>\n      <td>1</td>\n    </tr>\n  </tbody>\n</table>\n</div>"
     },
     "execution_count": 3832,
     "metadata": {},
     "output_type": "execute_result"
    }
   ],
   "source": [
    "get_outliers(m, \"NOC\").loc[:, [\"DeclarableId\", \"D_NC\", \"L_NOC\", \"DELTA_NOC\"]].sort_values(by=\"DELTA_NOC\", ascending=False)\n",
    "m[m[\"DELTA_NOC\"] > 0].loc[:, [\"DeclarableId\", \"D_NC\", \"L_NOC\", \"DELTA_NOC\"]].sort_values(by=\"DELTA_NOC\", ascending=False)"
   ],
   "metadata": {
    "collapsed": false
   }
  },
  {
   "cell_type": "code",
   "execution_count": 3833,
   "outputs": [
    {
     "name": "stdout",
     "output_type": "stream",
     "text": [
      "NOC Percentage diff: 6.11353711790393%\n"
     ]
    }
   ],
   "source": [
    "dnoc = m[m[\"DELTA_NOC\"] > 0].loc[:, [\"DeclarableId\", \"D_NC\", \"L_NOC\", \"DELTA_NOC\"]].sort_values(by=\"DELTA_NOC\", ascending=False)\n",
    "print(f\"NOC Percentage diff: {(len(dnoc) / len(m)) * 100}%\")"
   ],
   "metadata": {
    "collapsed": false
   }
  },
  {
   "cell_type": "code",
   "execution_count": 3834,
   "outputs": [
    {
     "data": {
      "text/plain": "                                        DeclarableId  D_NOM  L_NOU  DELTA_NOU\n175                      org.antlr.v4.gui.TreeViewer     62     52         10\n35             org.antlr.v4.semantics.UseDefAnalyzer     11      5          6\n49                       org.antlr.v4.codegen.Target     56     52          4\n195       org.antlr.v4.tool.GrammarTransformPipeline     13      9          4\n51             org.antlr.v4.codegen.ActionTranslator     14     17          3\n207                           org.antlr.v4.tool.Rule     26     28          2\n196                  org.antlr.v4.tool.ErrorSeverity      0      2          2\n6                      org.antlr.v4.misc.CharSupport      8      9          1\n171                                org.antlr.v4.Tool     39     40          1\n204                      org.antlr.v4.tool.ErrorType      0      1          1\n199                  org.antlr.v4.tool.AttributeDict      8      9          1\n194               org.antlr.v4.tool.LabelElementPair      2      3          1\n177              org.antlr.v4.gui.PostScriptDocument     19     20          1\n174                 org.antlr.v4.gui.GraphicsSupport      2      1          1\n60         org.antlr.v4.codegen.target.Python3Target      6      7          1\n61             org.antlr.v4.codegen.target.PHPTarget      7      8          1\n10             org.antlr.v4.automata.LexerATNFactory     32     33          1\n58         org.antlr.v4.codegen.target.Python2Target      6      7          1\n57            org.antlr.v4.codegen.target.DartTarget      6      7          1\n56             org.antlr.v4.codegen.target.CppTarget     10     11          1\n55           org.antlr.v4.codegen.target.SwiftTarget      7      8          1\n53          org.antlr.v4.codegen.target.CSharpTarget      6      7          1\n38               org.antlr.v4.semantics.SymbolChecks     18     19          1\n18   org.antlr.v4.analysis.LeftRecursiveRuleAnalyzer     16     17          1\n213             org.antlr.v4.tool.ast.GrammarRootAST      8      9          1",
      "text/html": "<div>\n<style scoped>\n    .dataframe tbody tr th:only-of-type {\n        vertical-align: middle;\n    }\n\n    .dataframe tbody tr th {\n        vertical-align: top;\n    }\n\n    .dataframe thead th {\n        text-align: right;\n    }\n</style>\n<table border=\"1\" class=\"dataframe\">\n  <thead>\n    <tr style=\"text-align: right;\">\n      <th></th>\n      <th>DeclarableId</th>\n      <th>D_NOM</th>\n      <th>L_NOU</th>\n      <th>DELTA_NOU</th>\n    </tr>\n  </thead>\n  <tbody>\n    <tr>\n      <th>175</th>\n      <td>org.antlr.v4.gui.TreeViewer</td>\n      <td>62</td>\n      <td>52</td>\n      <td>10</td>\n    </tr>\n    <tr>\n      <th>35</th>\n      <td>org.antlr.v4.semantics.UseDefAnalyzer</td>\n      <td>11</td>\n      <td>5</td>\n      <td>6</td>\n    </tr>\n    <tr>\n      <th>49</th>\n      <td>org.antlr.v4.codegen.Target</td>\n      <td>56</td>\n      <td>52</td>\n      <td>4</td>\n    </tr>\n    <tr>\n      <th>195</th>\n      <td>org.antlr.v4.tool.GrammarTransformPipeline</td>\n      <td>13</td>\n      <td>9</td>\n      <td>4</td>\n    </tr>\n    <tr>\n      <th>51</th>\n      <td>org.antlr.v4.codegen.ActionTranslator</td>\n      <td>14</td>\n      <td>17</td>\n      <td>3</td>\n    </tr>\n    <tr>\n      <th>207</th>\n      <td>org.antlr.v4.tool.Rule</td>\n      <td>26</td>\n      <td>28</td>\n      <td>2</td>\n    </tr>\n    <tr>\n      <th>196</th>\n      <td>org.antlr.v4.tool.ErrorSeverity</td>\n      <td>0</td>\n      <td>2</td>\n      <td>2</td>\n    </tr>\n    <tr>\n      <th>6</th>\n      <td>org.antlr.v4.misc.CharSupport</td>\n      <td>8</td>\n      <td>9</td>\n      <td>1</td>\n    </tr>\n    <tr>\n      <th>171</th>\n      <td>org.antlr.v4.Tool</td>\n      <td>39</td>\n      <td>40</td>\n      <td>1</td>\n    </tr>\n    <tr>\n      <th>204</th>\n      <td>org.antlr.v4.tool.ErrorType</td>\n      <td>0</td>\n      <td>1</td>\n      <td>1</td>\n    </tr>\n    <tr>\n      <th>199</th>\n      <td>org.antlr.v4.tool.AttributeDict</td>\n      <td>8</td>\n      <td>9</td>\n      <td>1</td>\n    </tr>\n    <tr>\n      <th>194</th>\n      <td>org.antlr.v4.tool.LabelElementPair</td>\n      <td>2</td>\n      <td>3</td>\n      <td>1</td>\n    </tr>\n    <tr>\n      <th>177</th>\n      <td>org.antlr.v4.gui.PostScriptDocument</td>\n      <td>19</td>\n      <td>20</td>\n      <td>1</td>\n    </tr>\n    <tr>\n      <th>174</th>\n      <td>org.antlr.v4.gui.GraphicsSupport</td>\n      <td>2</td>\n      <td>1</td>\n      <td>1</td>\n    </tr>\n    <tr>\n      <th>60</th>\n      <td>org.antlr.v4.codegen.target.Python3Target</td>\n      <td>6</td>\n      <td>7</td>\n      <td>1</td>\n    </tr>\n    <tr>\n      <th>61</th>\n      <td>org.antlr.v4.codegen.target.PHPTarget</td>\n      <td>7</td>\n      <td>8</td>\n      <td>1</td>\n    </tr>\n    <tr>\n      <th>10</th>\n      <td>org.antlr.v4.automata.LexerATNFactory</td>\n      <td>32</td>\n      <td>33</td>\n      <td>1</td>\n    </tr>\n    <tr>\n      <th>58</th>\n      <td>org.antlr.v4.codegen.target.Python2Target</td>\n      <td>6</td>\n      <td>7</td>\n      <td>1</td>\n    </tr>\n    <tr>\n      <th>57</th>\n      <td>org.antlr.v4.codegen.target.DartTarget</td>\n      <td>6</td>\n      <td>7</td>\n      <td>1</td>\n    </tr>\n    <tr>\n      <th>56</th>\n      <td>org.antlr.v4.codegen.target.CppTarget</td>\n      <td>10</td>\n      <td>11</td>\n      <td>1</td>\n    </tr>\n    <tr>\n      <th>55</th>\n      <td>org.antlr.v4.codegen.target.SwiftTarget</td>\n      <td>7</td>\n      <td>8</td>\n      <td>1</td>\n    </tr>\n    <tr>\n      <th>53</th>\n      <td>org.antlr.v4.codegen.target.CSharpTarget</td>\n      <td>6</td>\n      <td>7</td>\n      <td>1</td>\n    </tr>\n    <tr>\n      <th>38</th>\n      <td>org.antlr.v4.semantics.SymbolChecks</td>\n      <td>18</td>\n      <td>19</td>\n      <td>1</td>\n    </tr>\n    <tr>\n      <th>18</th>\n      <td>org.antlr.v4.analysis.LeftRecursiveRuleAnalyzer</td>\n      <td>16</td>\n      <td>17</td>\n      <td>1</td>\n    </tr>\n    <tr>\n      <th>213</th>\n      <td>org.antlr.v4.tool.ast.GrammarRootAST</td>\n      <td>8</td>\n      <td>9</td>\n      <td>1</td>\n    </tr>\n  </tbody>\n</table>\n</div>"
     },
     "execution_count": 3834,
     "metadata": {},
     "output_type": "execute_result"
    }
   ],
   "source": [
    "dnou = m[m[\"DELTA_NOU\"] > 0].loc[:, [\"DeclarableId\", \"D_NOM\", \"L_NOU\", \"DELTA_NOU\"]].sort_values(by=\"DELTA_NOU\", ascending=False)\n",
    "dnou"
   ],
   "metadata": {
    "collapsed": false
   }
  },
  {
   "cell_type": "code",
   "execution_count": 3835,
   "outputs": [
    {
     "name": "stdout",
     "output_type": "stream",
     "text": [
      "NOU Percentage diff: 10.91703056768559%\n"
     ]
    }
   ],
   "source": [
    "print(f\"NOU Percentage diff: {(len(dnou) / len(m)) * 100}%\")"
   ],
   "metadata": {
    "collapsed": false
   }
  },
  {
   "cell_type": "markdown",
   "source": [],
   "metadata": {
    "collapsed": false
   }
  },
  {
   "cell_type": "code",
   "execution_count": 3836,
   "outputs": [
    {
     "data": {
      "text/plain": "Empty DataFrame\nColumns: [DeclarableId, D_PC, L_PC, DELTA_PC]\nIndex: []",
      "text/html": "<div>\n<style scoped>\n    .dataframe tbody tr th:only-of-type {\n        vertical-align: middle;\n    }\n\n    .dataframe tbody tr th {\n        vertical-align: top;\n    }\n\n    .dataframe thead th {\n        text-align: right;\n    }\n</style>\n<table border=\"1\" class=\"dataframe\">\n  <thead>\n    <tr style=\"text-align: right;\">\n      <th></th>\n      <th>DeclarableId</th>\n      <th>D_PC</th>\n      <th>L_PC</th>\n      <th>DELTA_PC</th>\n    </tr>\n  </thead>\n  <tbody>\n  </tbody>\n</table>\n</div>"
     },
     "execution_count": 3836,
     "metadata": {},
     "output_type": "execute_result"
    }
   ],
   "source": [
    "dpc = u.loc[:, [\"DeclarableId\", \"D_PC\", \"L_PC\", \"DELTA_PC\"]].sort_values(by=[\"DELTA_PC\"], ascending=False).replace(to_replace=0, value=np.nan).dropna().drop_duplicates(subset=\"DeclarableId\", keep=False)\n",
    "dpc"
   ],
   "metadata": {
    "collapsed": false
   }
  },
  {
   "cell_type": "code",
   "execution_count": 3837,
   "outputs": [
    {
     "name": "stdout",
     "output_type": "stream",
     "text": [
      "PC Percentage diff: 0.0%\n"
     ]
    }
   ],
   "source": [
    "print(f\"PC Percentage diff: {(len(dpc) / len(u)) * 100}%\")\n"
   ],
   "metadata": {
    "collapsed": false
   }
  },
  {
   "cell_type": "code",
   "execution_count": 3838,
   "outputs": [
    {
     "name": "stdout",
     "output_type": "stream",
     "text": [
      "antlr\n",
      "\n",
      "#M:229\n",
      "#U:1316\n",
      "\n"
     ]
    }
   ],
   "source": [
    "print(f\"{project}\\n\\n#M:{len(m)}\\n#U:{len(u)}\\n\")"
   ],
   "metadata": {
    "collapsed": false
   }
  },
  {
   "cell_type": "code",
   "execution_count": 3839,
   "outputs": [
    {
     "name": "stdout",
     "output_type": "stream",
     "text": [
      "\n",
      "\\begin{table}[H]\n",
      "\\centering\n",
      "\\begin{tabular}{|l|r|}\n",
      "\\hline\n",
      "\\textbf{Metric} & \\textbf{Exact Matches (\\%)} \\\\ \\hline\n",
      "\n",
      "MLOC            & 15.72\\%                 \\\\ \\hline\n",
      "WMC             & 63.32\\%                \\\\ \\hline\n",
      "CWMC            & 92.14\\%                \\\\ \\hline\n",
      "DIT             & 79.91\\%                \\\\ \\hline\n",
      "NOC             & 93.89\\%                \\\\ \\hline\n",
      "NOU             & 89.08\\%                \\\\ \\hline\n",
      "CC              & 79.71\\%                \\\\ \\hline\n",
      "PC              & 100.00\\%                \\\\ \\hline\n",
      "\n",
      "\\end{tabular}\n",
      "\\caption{\\textit{XXX} Metric Result Matches}\n",
      "\\label{table:XXX-metric-matches}\n",
      "\\end{table}\n",
      "\n"
     ]
    }
   ],
   "source": [
    "table = \"\"\"\n",
    "\\\\begin{table}[H]\n",
    "\\centering\n",
    "\\\\begin{tabular}{|l|r|}\n",
    "\\hline\n",
    "\\\\textbf{Metric} & \\\\textbf{Exact Matches (\\%)} \\\\\\\\ \\hline\n",
    "\"\"\"\n",
    "\n",
    "table += \"\"\"\n",
    "MLOC            & {:.2%}                 \\\\\\\\ \\hline\n",
    "WMC             & {:.2%}                \\\\\\\\ \\hline\n",
    "CWMC            & {:.2%}                \\\\\\\\ \\hline\n",
    "DIT             & {:.2%}                \\\\\\\\ \\hline\n",
    "NOC             & {:.2%}                \\\\\\\\ \\hline\n",
    "NOU             & {:.2%}                \\\\\\\\ \\hline\n",
    "CC              & {:.2%}                \\\\\\\\ \\hline\n",
    "PC              & {:.2%}                \\\\\\\\ \\hline\n",
    "\"\"\".format(\n",
    "    (len(m[m['DELTA_MLOC'] == 0]) / len(m)),\n",
    "    (len(m[m['DELTA_WMC'] == 0]) / len(m)),\n",
    "    (len(m[m['DELTA_CWMC'] == 0]) / len(m)),\n",
    "    (len(m[m['DELTA_DIT'] == 0]) / len(m)),\n",
    "    (len(m[m['DELTA_NOC'] == 0]) / len(m)),\n",
    "    (len(m[m['DELTA_NOU'] == 0]) / len(m)),\n",
    "    (len(u[u['DELTA_CC'] == 0]) / len(u)),\n",
    "    (len(u[u['DELTA_PC'] == 0]) / len(u))\n",
    ").replace(\"%\", \"\\%\")\n",
    "\n",
    "table += \"\"\"\n",
    "\\end{tabular}\n",
    "\\caption{\\\\textit{XXX} Metric Result Matches}\n",
    "\\label{table:XXX-metric-matches}\n",
    "\\end{table}\n",
    "\"\"\"\n",
    "\n",
    "print(table)"
   ],
   "metadata": {
    "collapsed": false
   }
  },
  {
   "cell_type": "code",
   "execution_count": 3839,
   "outputs": [],
   "source": [],
   "metadata": {
    "collapsed": false
   }
  }
 ],
 "metadata": {
  "kernelspec": {
   "display_name": "Python 3",
   "language": "python",
   "name": "python3"
  },
  "language_info": {
   "codemirror_mode": {
    "name": "ipython",
    "version": 2
   },
   "file_extension": ".py",
   "mimetype": "text/x-python",
   "name": "python",
   "nbconvert_exporter": "python",
   "pygments_lexer": "ipython2",
   "version": "2.7.6"
  }
 },
 "nbformat": 4,
 "nbformat_minor": 0
}
