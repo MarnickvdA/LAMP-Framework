{
 "cells": [
  {
   "cell_type": "code",
   "execution_count": 57,
   "metadata": {
    "collapsed": true
   },
   "outputs": [],
   "source": [
    "import pandas as pd\n",
    "import numpy as np\n",
    "import matplotlib.pyplot as plt"
   ]
  },
  {
   "cell_type": "markdown",
   "source": [
    "# Evaluation of the LAMP framework\n",
    "To start, transform and evaluate the lottie-android\n",
    "```\n",
    "# Clone and checkout\n",
    "cd input && git clone ... && git checkout 4794facf && cd ..\n",
    "\n",
    "# In the TUI:\n",
    "transform -in input/elasticsearch/server/src/main/java -out out/elasticsearch\n",
    "evaluate -in out/elasticsearch -out evaluation/data/lamp-elasticsearch\n",
    "```"
   ],
   "metadata": {
    "collapsed": false
   }
  },
  {
   "cell_type": "markdown",
   "source": [],
   "metadata": {
    "collapsed": false
   }
  },
  {
   "cell_type": "markdown",
   "source": [
    "# Designite Metrics"
   ],
   "metadata": {
    "collapsed": false
   }
  },
  {
   "cell_type": "code",
   "execution_count": 31,
   "outputs": [],
   "source": [
    "df_types = pd.read_csv('data/designite-elasticsearch/TypeMetrics.csv', usecols=[\"Package Name\", \"Type Name\", \"NOF\", \"NOM\", \"NOPF\", \"NOPM\", \"LOC\", \"WMC\", \"NC\", \"DIT\", \"LCOM\", \"FANIN\", \"FANOUT\"])\n",
    "df_types.insert(0, \"DeclarableId\", df_types[['Package Name', 'Type Name']].agg('.'.join, axis=1))\n",
    "df_types.drop([\"Package Name\", \"Type Name\"], axis=\"columns\", inplace=True)\n",
    "\n",
    "df_methods = pd.read_csv('data/designite-elasticsearch/MethodMetrics.csv', usecols=[\"Package Name\", \"Type Name\", \"Method Name\", \"LOC\", \"CC\", \"PC\"])\n",
    "df_methods.insert(0, \"DeclarableId\", df_methods[['Package Name', 'Type Name']].agg('.'.join, axis=1))\n",
    "df_methods[\"DeclarableId\"] = df_methods[['DeclarableId', 'Method Name']].agg('://'.join, axis=1)\n",
    "df_methods.drop([\"Package Name\", \"Type Name\", \"Method Name\"], axis=\"columns\", inplace=True)"
   ],
   "metadata": {
    "collapsed": false
   }
  },
  {
   "cell_type": "code",
   "execution_count": 32,
   "outputs": [
    {
     "name": "stdout",
     "output_type": "stream",
     "text": [
      "                                          DeclarableId  NOF  NOPF  NOM  NOPM  \\\n",
      "0                         com.airbnb.lottie.LottieTask    5     1   10     5   \n",
      "1        com.airbnb.lottie.LottieTask.LottieFutureTask    0     0    0     0   \n",
      "2                         com.airbnb.lottie.RenderMode    0     0    0     0   \n",
      "3                             com.airbnb.lottie.Lottie    0     0    2     1   \n",
      "4    com.airbnb.lottie.LottieOnCompositionLoadedLis...    0     0    1     0   \n",
      "..                                                 ...  ...   ...  ...   ...   \n",
      "217            com.airbnb.lottie.model.layer.NullLayer    0     0    3     1   \n",
      "218           com.airbnb.lottie.model.layer.ShapeLayer    2     0    6     3   \n",
      "219                com.airbnb.lottie.model.layer.Layer   24     0   27    10   \n",
      "220      com.airbnb.lottie.model.layer.Layer.LayerType    0     0    0     0   \n",
      "221      com.airbnb.lottie.model.layer.Layer.MatteType    0     0    0     0   \n",
      "\n",
      "     LOC  WMC  NC  DIT  LCOM  FANIN  FANOUT  \n",
      "0    126   19   0    0   0.2      2       3  \n",
      "1     16    0   0    0  -1.0      0       0  \n",
      "2      0    0   0    0  -1.0      2       0  \n",
      "3     19    2   0    0  -1.0      0       2  \n",
      "4      3    1   0    0  -1.0      1       1  \n",
      "..   ...  ...  ..  ...   ...    ...     ...  \n",
      "217   11    3   0    1  -1.0      0       2  \n",
      "218   35    8   0    1   0.0      0       9  \n",
      "219  156   33   0    0   0.0      9       7  \n",
      "220    1    0   0    0  -1.0      0       0  \n",
      "221    1    0   0    0  -1.0      0       0  \n",
      "\n",
      "[222 rows x 12 columns]\n"
     ]
    }
   ],
   "source": [
    "print(df_types)"
   ],
   "metadata": {
    "collapsed": false
   }
  },
  {
   "cell_type": "code",
   "execution_count": 33,
   "outputs": [
    {
     "name": "stdout",
     "output_type": "stream",
     "text": [
      "                                           DeclarableId  LOC  CC  PC\n",
      "0             com.airbnb.lottie.LottieTask://LottieTask    3   1   1\n",
      "1             com.airbnb.lottie.LottieTask://LottieTask   13   2   2\n",
      "2              com.airbnb.lottie.LottieTask://setResult    7   2   1\n",
      "3            com.airbnb.lottie.LottieTask://addListener    8   2   1\n",
      "4         com.airbnb.lottie.LottieTask://removeListener    4   1   1\n",
      "...                                                 ...  ...  ..  ..\n",
      "1349     com.airbnb.lottie.model.layer.Layer://toString    3   1   0\n",
      "1350     com.airbnb.lottie.model.layer.Layer://isHidden    3   1   0\n",
      "1351  com.airbnb.lottie.model.layer.Layer://getBlurE...    3   1   0\n",
      "1352  com.airbnb.lottie.model.layer.Layer://getDropS...    3   1   0\n",
      "1353     com.airbnb.lottie.model.layer.Layer://toString   27   7   1\n",
      "\n",
      "[1354 rows x 4 columns]\n"
     ]
    }
   ],
   "source": [
    "print(df_methods)"
   ],
   "metadata": {
    "collapsed": false
   }
  },
  {
   "cell_type": "markdown",
   "source": [
    "# SonarQube metrics"
   ],
   "metadata": {
    "collapsed": false
   }
  },
  {
   "cell_type": "code",
   "execution_count": 34,
   "outputs": [
    {
     "name": "stdout",
     "output_type": "stream",
     "text": [
      "                                          DeclarableId  S_COCO  S_LOC\n",
      "0    com.airbnb.lottie.animation.content.BaseStroke...     104    347\n",
      "1    com.airbnb.lottie.animation.content.CompoundTr...       1     16\n",
      "2          com.airbnb.lottie.animation.content.Content       0      6\n",
      "3     com.airbnb.lottie.animation.content.ContentGroup      58    222\n",
      "4    com.airbnb.lottie.animation.content.DrawingCon...       0      8\n",
      "..                                                 ...     ...    ...\n",
      "184  com.airbnb.lottie.value.LottieRelativeIntegerV...       1     22\n",
      "185  com.airbnb.lottie.value.LottieRelativePointVal...       1     36\n",
      "186        com.airbnb.lottie.value.LottieValueCallback       1     53\n",
      "187                    com.airbnb.lottie.value.ScaleXY       1     28\n",
      "188  com.airbnb.lottie.value.SimpleLottieValueCallback       0      4\n",
      "\n",
      "[189 rows x 3 columns]\n"
     ]
    }
   ],
   "source": [
    "# df_sonar = pd.read_csv('data/sonarqube-lottie/CognitiveComplexity.csv', usecols=[\"DeclarableId\",\"S_COCO\", \"S_LOC\"])\n",
    "# df_sonar['DeclarableId'] = df_sonar['DeclarableId'].astype(str)\n",
    "# pd.to_numeric(df_sonar['S_COCO'])\n",
    "# pd.to_numeric(df_sonar['S_LOC'])\n",
    "# print(df_sonar)"
   ],
   "metadata": {
    "collapsed": false
   }
  },
  {
   "cell_type": "markdown",
   "source": [
    "# LAMP Metrics"
   ],
   "metadata": {
    "collapsed": false
   }
  },
  {
   "cell_type": "code",
   "execution_count": 35,
   "outputs": [],
   "source": [
    "df_modules = pd.read_csv('data/lamp-elasticsearch/modules.csv', usecols=[\"DeclarableId\",\"MLOC\",\"WMC\",\"CWMC\",\"DIT\",\"NOC\",\"CBO\",\"RFC\",\"LCOM\",\"NOU\",\"LC\"])\n",
    "df_units = pd.read_csv('data/lamp-elasticsearch/units.csv', usecols=[\"DeclarableId\",\"ULOC\",\"CC\",\"COCO\",\"PC\",\"LLOC\"])"
   ],
   "metadata": {
    "collapsed": false
   }
  },
  {
   "cell_type": "code",
   "execution_count": 36,
   "outputs": [
    {
     "name": "stdout",
     "output_type": "stream",
     "text": [
      "                                          DeclarableId  MLOC  WMC  CWMC  DIT  \\\n",
      "0    com.airbnb.lottie.animation.keyframe.PathKeyfr...    31    6     5    0   \n",
      "1          com.airbnb.lottie.manager.ImageAssetManager   107   26    21    0   \n",
      "2        com.airbnb.lottie.model.content.GradientColor    52   13     6    0   \n",
      "3              com.airbnb.lottie.parser.KeyframeParser   280   81   115    0   \n",
      "4              com.airbnb.lottie.network.FileExtension    14    3     0    0   \n",
      "..                                                 ...   ...  ...   ...  ...   \n",
      "184     com.airbnb.lottie.parser.AnimatableValueParser    52   13     1    0   \n",
      "185  com.airbnb.lottie.animation.keyframe.Transform...   278   99   107    0   \n",
      "186        com.airbnb.lottie.model.content.CircleShape    33    7     0    0   \n",
      "187  com.airbnb.lottie.animation.keyframe.MaskKeyfr...    24    5     1    0   \n",
      "188  com.airbnb.lottie.animation.content.RoundedCor...   129   39    35    0   \n",
      "\n",
      "     NOC  CBO  RFC  LCOM  NOU  LC  \n",
      "0      0   14    9     2    2   0  \n",
      "1      0   57   27     1    7   0  \n",
      "2      0   35   10     1    7   0  \n",
      "3      0   78   26     1    8   0  \n",
      "4      0   10    2     1    3   0  \n",
      "..   ...  ...  ...   ...  ...  ..  \n",
      "184    0   24   19     2   12   0  \n",
      "185    0  163   31     1   11   0  \n",
      "186    0    6    7     1    7   0  \n",
      "187    0   17    3     1    4   0  \n",
      "188    0  119   30     2    9   0  \n",
      "\n",
      "[189 rows x 11 columns]\n"
     ]
    }
   ],
   "source": [
    "df_modules.sort_values(by=[\"DeclarableId\"])\n",
    "print(df_modules)"
   ],
   "metadata": {
    "collapsed": false
   }
  },
  {
   "cell_type": "code",
   "execution_count": 37,
   "outputs": [
    {
     "name": "stdout",
     "output_type": "stream",
     "text": [
      "                                           DeclarableId  ULOC  CC  COCO  PC  \\\n",
      "0     com.airbnb.lottie.animation.keyframe.PathKeyfr...     3   1     0   1   \n",
      "1     com.airbnb.lottie.animation.keyframe.PathKeyfr...    22   5     5   2   \n",
      "2     com.airbnb.lottie.manager.ImageAssetManager://...    15   5     4   4   \n",
      "3     com.airbnb.lottie.manager.ImageAssetManager://...     3   1     0   1   \n",
      "4     com.airbnb.lottie.manager.ImageAssetManager://...    11   2     1   2   \n",
      "...                                                 ...   ...  ..   ...  ..   \n",
      "1335  com.airbnb.lottie.animation.content.RoundedCor...     3   1     0   0   \n",
      "1336  com.airbnb.lottie.animation.content.RoundedCor...    67  15    17   1   \n",
      "1337  com.airbnb.lottie.animation.content.RoundedCor...    27  15    16   1   \n",
      "1338  com.airbnb.lottie.animation.content.RoundedCor...     3   1     0   2   \n",
      "1339  com.airbnb.lottie.animation.content.RoundedCor...     7   3     2   2   \n",
      "\n",
      "      LLOC  \n",
      "0        0  \n",
      "1        0  \n",
      "2        0  \n",
      "3        0  \n",
      "4        0  \n",
      "...    ...  \n",
      "1335     0  \n",
      "1336     0  \n",
      "1337     0  \n",
      "1338     0  \n",
      "1339     0  \n",
      "\n",
      "[1340 rows x 6 columns]\n"
     ]
    }
   ],
   "source": [
    "print(df_units)"
   ],
   "metadata": {
    "collapsed": false
   }
  },
  {
   "cell_type": "markdown",
   "source": [
    "## Distribution analysis"
   ],
   "metadata": {
    "collapsed": false
   }
  },
  {
   "cell_type": "code",
   "execution_count": 38,
   "outputs": [
    {
     "name": "stdout",
     "output_type": "stream",
     "text": [
      "             MLOC         WMC        CWMC         DIT         NOC         CBO  \\\n",
      "count  189.000000  189.000000  189.000000  189.000000  189.000000  189.000000   \n",
      "mean    73.492063   18.835979   12.783069    0.116402    0.074074   35.396825   \n",
      "std    122.774210   35.139230   29.956361    0.337695    0.520653   62.225364   \n",
      "min      0.000000    0.000000    0.000000    0.000000    0.000000    0.000000   \n",
      "25%     14.000000    3.000000    0.000000    0.000000    0.000000    5.000000   \n",
      "50%     33.000000    8.000000    2.000000    0.000000    0.000000   11.000000   \n",
      "75%     76.000000   17.000000    9.000000    0.000000    0.000000   41.000000   \n",
      "max    887.000000  272.000000  222.000000    2.000000    6.000000  355.000000   \n",
      "\n",
      "              RFC        LCOM         NOU          LC  \n",
      "count  189.000000  189.000000  189.000000  189.000000  \n",
      "mean    14.063492    1.566138    7.089947    0.164021  \n",
      "std     22.724441    0.952107   12.258621    1.368170  \n",
      "min      0.000000    0.000000    0.000000    0.000000  \n",
      "25%      3.000000    1.000000    2.000000    0.000000  \n",
      "50%      7.000000    1.000000    4.000000    0.000000  \n",
      "75%     18.000000    2.000000    8.000000    0.000000  \n",
      "max    191.000000    8.000000  112.000000   15.000000  \n"
     ]
    }
   ],
   "source": [
    "print(df_modules.describe())"
   ],
   "metadata": {
    "collapsed": false
   }
  },
  {
   "cell_type": "markdown",
   "source": [
    "Within the codebase, inheritance and lambdas are rarely used.\n",
    "\n",
    "Let's deepdive into lambdas that are used."
   ],
   "metadata": {
    "collapsed": false
   }
  },
  {
   "cell_type": "code",
   "execution_count": 39,
   "outputs": [
    {
     "name": "stdout",
     "output_type": "stream",
     "text": [
      "                                   DeclarableId  LC\n",
      "43        com.airbnb.lottie.LottieAnimationView   3\n",
      "100                com.airbnb.lottie.LottieTask   1\n",
      "113            com.airbnb.lottie.LottieDrawable  15\n",
      "134  com.airbnb.lottie.LottieCompositionFactory  11\n",
      "153     com.airbnb.lottie.model.layer.BaseLayer   1\n"
     ]
    }
   ],
   "source": [
    "df_lambda = df_modules.loc[df_modules[\"LC\"] > 0][['DeclarableId', 'LC']]\n",
    "print(df_lambda)"
   ],
   "metadata": {
    "collapsed": false
   }
  },
  {
   "cell_type": "markdown",
   "source": [
    "Lambdas are used in 5 places of the code base. These lambda statements were very short. Only describing a call to another method."
   ],
   "metadata": {
    "collapsed": false
   }
  },
  {
   "cell_type": "code",
   "execution_count": 40,
   "outputs": [
    {
     "name": "stdout",
     "output_type": "stream",
     "text": [
      "              ULOC           CC         COCO           PC         LLOC\n",
      "count  1340.000000  1340.000000  1340.000000  1340.000000  1340.000000\n",
      "mean      8.641791     2.656716     1.802985     1.193284     0.049254\n",
      "std      12.331253     3.901905     5.042759     1.646718     0.582768\n",
      "min       1.000000     1.000000     0.000000     0.000000     0.000000\n",
      "25%       3.000000     1.000000     0.000000     0.000000     0.000000\n",
      "50%       3.000000     1.000000     0.000000     1.000000     0.000000\n",
      "75%       9.000000     3.000000     2.000000     2.000000     0.000000\n",
      "max     151.000000    47.000000    89.000000    24.000000    15.000000\n"
     ]
    }
   ],
   "source": [
    "print(df_units.describe())"
   ],
   "metadata": {
    "collapsed": false
   }
  },
  {
   "cell_type": "markdown",
   "source": [
    "# Analysing module differences"
   ],
   "metadata": {
    "collapsed": false
   }
  },
  {
   "cell_type": "code",
   "execution_count": 41,
   "outputs": [
    {
     "name": "stdout",
     "output_type": "stream",
     "text": [
      "1          com.airbnb.lottie.LottieTask.LottieFutureTask\n",
      "6            com.airbnb.lottie.LottieComposition.Factory\n",
      "7      com.airbnb.lottie.LottieComposition.ListenerAd...\n",
      "13      com.airbnb.lottie.LottieAnimationView.SavedState\n",
      "14     com.airbnb.lottie.LottieAnimationView.UserActi...\n",
      "19     com.airbnb.lottie.PerformanceTracker.FrameList...\n",
      "22     com.airbnb.lottie.LottieDrawable.LazyCompositi...\n",
      "23      com.airbnb.lottie.LottieDrawable.OnVisibleAction\n",
      "29                com.airbnb.lottie.LottieConfig.Builder\n",
      "73     com.airbnb.lottie.animation.content.BaseStroke...\n",
      "84     com.airbnb.lottie.animation.keyframe.BaseKeyfr...\n",
      "85     com.airbnb.lottie.animation.keyframe.BaseKeyfr...\n",
      "86     com.airbnb.lottie.animation.keyframe.BaseKeyfr...\n",
      "87     com.airbnb.lottie.animation.keyframe.BaseKeyfr...\n",
      "88     com.airbnb.lottie.animation.keyframe.BaseKeyfr...\n",
      "148    com.airbnb.lottie.parser.moshi.LinkedHashTreeM...\n",
      "149    com.airbnb.lottie.parser.moshi.LinkedHashTreeM...\n",
      "150    com.airbnb.lottie.parser.moshi.LinkedHashTreeM...\n",
      "151    com.airbnb.lottie.parser.moshi.LinkedHashTreeM...\n",
      "152    com.airbnb.lottie.parser.moshi.LinkedHashTreeM...\n",
      "153    com.airbnb.lottie.parser.moshi.LinkedHashTreeM...\n",
      "156    com.airbnb.lottie.parser.moshi.JsonReader.Options\n",
      "157      com.airbnb.lottie.parser.moshi.JsonReader.Token\n",
      "182    com.airbnb.lottie.model.DocumentData.Justifica...\n",
      "188    com.airbnb.lottie.model.content.MergePaths.Mer...\n",
      "197    com.airbnb.lottie.model.content.ShapeTrimPath....\n",
      "199        com.airbnb.lottie.model.content.Mask.MaskMode\n",
      "204    com.airbnb.lottie.model.content.PolystarShape....\n",
      "207    com.airbnb.lottie.model.content.ShapeStroke.Li...\n",
      "208    com.airbnb.lottie.model.content.ShapeStroke.Li...\n",
      "215    com.airbnb.lottie.model.layer.TextLayer.TextSu...\n",
      "220        com.airbnb.lottie.model.layer.Layer.LayerType\n",
      "221        com.airbnb.lottie.model.layer.Layer.MatteType\n",
      "Name: DeclarableId, dtype: object\n"
     ]
    }
   ],
   "source": [
    "module_diff = pd.concat([df_types[\"DeclarableId\"], df_modules[\"DeclarableId\"]]).drop_duplicates(keep=False)\n",
    "print(module_diff)"
   ],
   "metadata": {
    "collapsed": false
   }
  },
  {
   "cell_type": "markdown",
   "source": [
    "33 Modules aren't support by the LAMP framework due to inner modules not being supported."
   ],
   "metadata": {
    "collapsed": false
   }
  },
  {
   "cell_type": "code",
   "execution_count": 42,
   "outputs": [
    {
     "name": "stdout",
     "output_type": "stream",
     "text": [
      "10                      com.airbnb.lottie.Lottie://Lottie\n",
      "48       com.airbnb.lottie.LottieAnimationView://onResult\n",
      "131      com.airbnb.lottie.LottieAnimationView://getValue\n",
      "154     com.airbnb.lottie.SimpleColorFilter://SimpleCo...\n",
      "155        com.airbnb.lottie.PerformanceTracker://compare\n",
      "                              ...                        \n",
      "1297    com.airbnb.lottie.parser.AnimatableValueParser...\n",
      "1309    com.airbnb.lottie.animation.keyframe.Transform...\n",
      "1320    com.airbnb.lottie.model.content.CircleShape://...\n",
      "1327    com.airbnb.lottie.animation.keyframe.MaskKeyfr...\n",
      "1331    com.airbnb.lottie.animation.content.RoundedCor...\n",
      "Name: DeclarableId, Length: 261, dtype: object\n"
     ]
    }
   ],
   "source": [
    "unit_diff = pd.concat([df_methods[\"DeclarableId\"], df_units[\"DeclarableId\"].apply(lambda s: s.split(\"$\")[0])]).drop_duplicates(keep=False)\n",
    "print(unit_diff)"
   ],
   "metadata": {
    "collapsed": false
   }
  },
  {
   "cell_type": "markdown",
   "source": [
    "261 Units aren't recognized by the LAMP framework at a first glance. When looking at each method precisely, we see that constructors and initializers aren't being matched by name due to their naming conventions within the LAMP framework."
   ],
   "metadata": {
    "collapsed": false
   }
  },
  {
   "cell_type": "code",
   "execution_count": 43,
   "outputs": [
    {
     "name": "stdout",
     "output_type": "stream",
     "text": [
      "48       com.airbnb.lottie.LottieAnimationView://onResult\n",
      "131      com.airbnb.lottie.LottieAnimationView://getValue\n",
      "155        com.airbnb.lottie.PerformanceTracker://compare\n",
      "163     com.airbnb.lottie.LottieDrawable://onAnimation...\n",
      "255           com.airbnb.lottie.LottieDrawable://getValue\n",
      "344                     com.airbnb.lottie.L://getCacheDir\n",
      "610     com.airbnb.lottie.animation.keyframe.DropShado...\n",
      "898     com.airbnb.lottie.parser.moshi.LinkedHashTreeM...\n",
      "1106    com.airbnb.lottie.model.content.MergePaths://f...\n",
      "1158    com.airbnb.lottie.model.content.ShapeTrimPath:...\n",
      "1189    com.airbnb.lottie.model.content.PolystarShape:...\n",
      "1190    com.airbnb.lottie.model.content.PolystarShape:...\n",
      "1212    com.airbnb.lottie.model.content.ShapeStroke://...\n",
      "1213    com.airbnb.lottie.model.content.ShapeStroke://...\n",
      "24      com.airbnb.lottie.network.FileExtension://File...\n",
      "25      com.airbnb.lottie.network.FileExtension://temp...\n",
      "26      com.airbnb.lottie.network.FileExtension://toSt...\n",
      "660     com.airbnb.lottie.RenderMode://useSoftwareRend...\n",
      "Name: DeclarableId, dtype: object\n"
     ]
    }
   ],
   "source": [
    "unit_diff_with_constructors = pd.concat([df_methods[\"DeclarableId\"], df_units[\"DeclarableId\"].apply(lambda s:\n",
    "                                                                                                        s.split(\"$\")[0].removesuffix(\".constructor\").removesuffix(\".initializer\")\n",
    "                                                                                                    )]).drop_duplicates(keep=False)\n",
    "print(unit_diff_with_constructors)"
   ],
   "metadata": {
    "collapsed": false
   }
  },
  {
   "cell_type": "markdown",
   "source": [
    "After removing the .constructor and .initializer from the declarable id, we see that these units are now matched to their corresponding method ids from designite.\n",
    "This leaves us with the analysis of the remaining 18 units that aren't getting matched. These are units:\n",
    "\n",
    "- Enum declarations by the LAMP framework, these aren't evaluated by Designite.\n",
    "- Anonymous class declarations: these aren't evaluated by the LAMP framework\n",
    "- Inner Module Units: these aren't evaluated by the LAMP framework."
   ],
   "metadata": {
    "collapsed": false
   }
  },
  {
   "cell_type": "markdown",
   "source": [
    "# Metric performance"
   ],
   "metadata": {
    "collapsed": false
   }
  },
  {
   "cell_type": "code",
   "execution_count": 44,
   "outputs": [],
   "source": [
    "types = df_types\n",
    "methods = df_methods\n",
    "\n",
    "mods = df_modules\n",
    "units = df_units\n",
    "\n",
    "types.rename(columns=lambda x: \"D_\" + x, inplace=True)\n",
    "types.rename({\"D_DeclarableId\": \"DeclarableId\"}, axis=1, inplace=True)\n",
    "\n",
    "methods.rename(columns=lambda x: \"D_\" + x, inplace=True)\n",
    "methods.rename({\"D_DeclarableId\": \"DeclarableId\"}, axis=1, inplace=True)\n",
    "\n",
    "mods.rename(columns=lambda x: \"L_\" + x, inplace=True)\n",
    "mods.rename({\"L_DeclarableId\": \"DeclarableId\"}, axis=1, inplace=True)\n",
    "\n",
    "units.rename(columns=lambda x: \"L_\" + x, inplace=True)\n",
    "units.rename({\"L_DeclarableId\": \"DeclarableId\"}, axis=1, inplace=True)\n",
    "units[\"DeclarableId\"] = units[\"DeclarableId\"].apply(lambda s: s.split(\"$\")[0].removesuffix(\".constructor\").removesuffix(\".initializer\"))"
   ],
   "metadata": {
    "collapsed": false
   }
  },
  {
   "cell_type": "code",
   "execution_count": 45,
   "outputs": [
    {
     "name": "stdout",
     "output_type": "stream",
     "text": [
      "                                          DeclarableId  D_NOF  D_NOPF  D_NOM  \\\n",
      "0                         com.airbnb.lottie.LottieTask      5       1     10   \n",
      "1                         com.airbnb.lottie.RenderMode      0       0      0   \n",
      "2                             com.airbnb.lottie.Lottie      0       0      2   \n",
      "3    com.airbnb.lottie.LottieOnCompositionLoadedLis...      0       0      1   \n",
      "4                  com.airbnb.lottie.LottieComposition     17       0     27   \n",
      "..                                                 ...    ...     ...    ...   \n",
      "184            com.airbnb.lottie.model.layer.TextLayer     23       0     21   \n",
      "185           com.airbnb.lottie.model.layer.SolidLayer      6       0      4   \n",
      "186            com.airbnb.lottie.model.layer.NullLayer      0       0      3   \n",
      "187           com.airbnb.lottie.model.layer.ShapeLayer      2       0      6   \n",
      "188                com.airbnb.lottie.model.layer.Layer     24       0     27   \n",
      "\n",
      "     D_NOPM  D_LOC  D_WMC  D_NC  D_DIT    D_LCOM  ...  L_CWMC  L_DIT  L_NOC  \\\n",
      "0         5    126     19     0      0  0.200000  ...      17      0      0   \n",
      "1         0      0      0     0      0 -1.000000  ...       5      0      0   \n",
      "2         1     19      2     0      0 -1.000000  ...       0      0      0   \n",
      "3         0      3      1     0      0 -1.000000  ...       0      0      0   \n",
      "4        27    247     30     0      0  0.185185  ...       4      0      0   \n",
      "..      ...    ...    ...   ...    ...       ...  ...     ...    ...    ...   \n",
      "184       2    517     96     0      1  0.000000  ...     132      1      0   \n",
      "185       3     63      9     0      1  0.000000  ...       8      1      0   \n",
      "186       1     11      3     0      1 -1.000000  ...       0      1      0   \n",
      "187       3     35      8     0      1  0.000000  ...       2      1      0   \n",
      "188      10    156     33     0      0  0.000000  ...       9      0      0   \n",
      "\n",
      "     L_CBO  L_RFC  L_LCOM  L_NOU  L_LC  S_COCO  S_LOC  \n",
      "0       36     18       1     10     1      19    114  \n",
      "1        8      1       1      1     0       5     23  \n",
      "2       12      6       2      2     0       0     14  \n",
      "3        0      1       1      1     0       0      4  \n",
      "4       65     40       5     27     0       6    259  \n",
      "..     ...    ...     ...    ...   ...     ...    ...  \n",
      "184    303     85       1     21     0     132    535  \n",
      "185     42     20       1      4     0       8     80  \n",
      "186      2      3       3      3     0       0     16  \n",
      "187     16      7       1      6     0       2     53  \n",
      "188     69     32       1     27     0       9    193  \n",
      "\n",
      "[189 rows x 24 columns]\n"
     ]
    }
   ],
   "source": [
    "m_mods = pd.merge(types, mods, on=\"DeclarableId\")\n",
    "# m_mods = pd.merge(m_mods, df_sonar, on=\"DeclarableId\")\n",
    "print(m_mods)"
   ],
   "metadata": {
    "collapsed": false
   }
  },
  {
   "cell_type": "code",
   "execution_count": 46,
   "outputs": [
    {
     "name": "stdout",
     "output_type": "stream",
     "text": [
      "                                           DeclarableId  D_LOC  D_CC  D_PC  \\\n",
      "0             com.airbnb.lottie.LottieTask://LottieTask      3     1     1   \n",
      "1             com.airbnb.lottie.LottieTask://LottieTask      3     1     1   \n",
      "2             com.airbnb.lottie.LottieTask://LottieTask     13     2     2   \n",
      "3             com.airbnb.lottie.LottieTask://LottieTask     13     2     2   \n",
      "4              com.airbnb.lottie.LottieTask://setResult      7     2     1   \n",
      "...                                                 ...    ...   ...   ...   \n",
      "1540     com.airbnb.lottie.model.layer.Layer://toString     27     7     1   \n",
      "1541     com.airbnb.lottie.model.layer.Layer://toString     27     7     1   \n",
      "1542     com.airbnb.lottie.model.layer.Layer://isHidden      3     1     0   \n",
      "1543  com.airbnb.lottie.model.layer.Layer://getBlurE...      3     1     0   \n",
      "1544  com.airbnb.lottie.model.layer.Layer://getDropS...      3     1     0   \n",
      "\n",
      "      L_ULOC  L_CC  L_COCO  L_PC  L_LLOC  \n",
      "0          3     1       0     1       0  \n",
      "1         11     4       4     2       0  \n",
      "2          3     1       0     1       0  \n",
      "3         11     4       4     2       0  \n",
      "4          7     2       1     1       0  \n",
      "...      ...   ...     ...   ...     ...  \n",
      "1540       3     1       0     0       0  \n",
      "1541      28     8       9     1       0  \n",
      "1542       3     1       0     0       0  \n",
      "1543       3     1       0     0       0  \n",
      "1544       3     1       0     0       0  \n",
      "\n",
      "[1545 rows x 9 columns]\n"
     ]
    }
   ],
   "source": [
    "m_units = pd.merge(methods, units, on=[\"DeclarableId\"])\n",
    "print(m_units)"
   ],
   "metadata": {
    "collapsed": false
   }
  },
  {
   "cell_type": "markdown",
   "source": [
    "## Module Lines Of Code"
   ],
   "metadata": {
    "collapsed": false
   }
  },
  {
   "cell_type": "code",
   "execution_count": 50,
   "outputs": [
    {
     "name": "stdout",
     "output_type": "stream",
     "text": [
      "                                          DeclarableId  D_LOC  S_LOC  L_MLOC\n",
      "0                         com.airbnb.lottie.LottieTask    126    114      96\n",
      "1                         com.airbnb.lottie.RenderMode      0     23      21\n",
      "2                             com.airbnb.lottie.Lottie     19     14      12\n",
      "3    com.airbnb.lottie.LottieOnCompositionLoadedLis...      3      4       3\n",
      "4                  com.airbnb.lottie.LottieComposition    247    259     192\n",
      "..                                                 ...    ...    ...     ...\n",
      "184            com.airbnb.lottie.model.layer.TextLayer    517    535     486\n",
      "185           com.airbnb.lottie.model.layer.SolidLayer     63     80      63\n",
      "186            com.airbnb.lottie.model.layer.NullLayer     11     16      11\n",
      "187           com.airbnb.lottie.model.layer.ShapeLayer     35     53      36\n",
      "188                com.airbnb.lottie.model.layer.Layer    156    193     179\n",
      "\n",
      "[189 rows x 4 columns]\n"
     ]
    }
   ],
   "source": [
    "mloc = m_mods[['DeclarableId', 'D_LOC', 'S_LOC', 'L_MLOC']]\n",
    "print(mloc)"
   ],
   "metadata": {
    "collapsed": false
   }
  },
  {
   "cell_type": "code",
   "execution_count": 116,
   "outputs": [
    {
     "data": {
      "text/plain": "<Figure size 640x480 with 1 Axes>",
      "image/png": "[encoded data removed]"
     },
     "metadata": {},
     "output_type": "display_data"
    }
   ],
   "source": [
    "x1 = mloc['D_LOC']\n",
    "# x2 = mloc['S_LOC']\n",
    "x3 = mloc['L_MLOC']\n",
    "\n",
    "# Plot\n",
    "plt.hist([x1, x3], bins=np.linspace(0, 1000, 30), density=True, color=['#3C5DA1', '#469B55'], label=['Designite', 'LAMP'])\n",
    "plt.gca().set(title= \"MLOC Distribution\", xlabel= 'Module Lines of Code', ylabel='Density')\n",
    "plt.legend()\n",
    "plt.savefig('images/elasticsearch-MLOC.png')\n",
    "plt.show()"
   ],
   "metadata": {
    "collapsed": false
   }
  },
  {
   "cell_type": "markdown",
   "source": [
    "## Module Number Of Units"
   ],
   "metadata": {
    "collapsed": false
   }
  },
  {
   "cell_type": "code",
   "execution_count": 83,
   "outputs": [
    {
     "name": "stdout",
     "output_type": "stream",
     "text": [
      "                                          DeclarableId  D_NOM  L_NOU\n",
      "0                         com.airbnb.lottie.LottieTask     10     10\n",
      "1                         com.airbnb.lottie.RenderMode      0      1\n",
      "2                             com.airbnb.lottie.Lottie      2      2\n",
      "3    com.airbnb.lottie.LottieOnCompositionLoadedLis...      1      1\n",
      "4                  com.airbnb.lottie.LottieComposition     27     27\n",
      "..                                                 ...    ...    ...\n",
      "184            com.airbnb.lottie.model.layer.TextLayer     21     21\n",
      "185           com.airbnb.lottie.model.layer.SolidLayer      4      4\n",
      "186            com.airbnb.lottie.model.layer.NullLayer      3      3\n",
      "187           com.airbnb.lottie.model.layer.ShapeLayer      6      6\n",
      "188                com.airbnb.lottie.model.layer.Layer     27     27\n",
      "\n",
      "[189 rows x 3 columns]\n"
     ]
    }
   ],
   "source": [
    "nou = m_mods[['DeclarableId', 'D_NOM', 'L_NOU']]\n",
    "print(nou)"
   ],
   "metadata": {
    "collapsed": false
   }
  },
  {
   "cell_type": "code",
   "execution_count": 87,
   "outputs": [
    {
     "data": {
      "text/plain": "<Figure size 640x480 with 1 Axes>",
      "image/png": "[encoded data removed]"
     },
     "metadata": {},
     "output_type": "display_data"
    }
   ],
   "source": [
    "x1 = m_mods['D_NOM']\n",
    "x2 = m_mods['L_NOU']\n",
    "\n",
    "# Plot\n",
    "plt.hist([x1, x2], bins=np.linspace(0, 50, 30), density=True, label=['Designite', 'LAMP'])\n",
    "plt.gca().set(title= \"NOU Distribution\", xlabel= 'Number of Units', ylabel='Density')\n",
    "plt.legend()\n",
    "plt.savefig('images/elasticsearch-NOU.png')\n",
    "plt.show()"
   ],
   "metadata": {
    "collapsed": false
   }
  },
  {
   "cell_type": "markdown",
   "source": [
    "## Module Weighted Method per Class (WMC)"
   ],
   "metadata": {
    "collapsed": false
   }
  },
  {
   "cell_type": "code",
   "execution_count": 88,
   "outputs": [
    {
     "name": "stdout",
     "output_type": "stream",
     "text": [
      "                                          DeclarableId  D_WMC  L_WMC\n",
      "0                         com.airbnb.lottie.LottieTask     19     24\n",
      "1                         com.airbnb.lottie.RenderMode      0      7\n",
      "2                             com.airbnb.lottie.Lottie      2      2\n",
      "3    com.airbnb.lottie.LottieOnCompositionLoadedLis...      1      1\n",
      "4                  com.airbnb.lottie.LottieComposition     30     30\n",
      "..                                                 ...    ...    ...\n",
      "184            com.airbnb.lottie.model.layer.TextLayer     96    130\n",
      "185           com.airbnb.lottie.model.layer.SolidLayer      9     11\n",
      "186            com.airbnb.lottie.model.layer.NullLayer      3      3\n",
      "187           com.airbnb.lottie.model.layer.ShapeLayer      8      8\n",
      "188                com.airbnb.lottie.model.layer.Layer     33     34\n",
      "\n",
      "[189 rows x 3 columns]\n"
     ]
    }
   ],
   "source": [
    "wmc = m_mods[['DeclarableId', 'D_WMC', 'L_WMC']]\n",
    "print(wmc)"
   ],
   "metadata": {
    "collapsed": false
   }
  },
  {
   "cell_type": "code",
   "execution_count": 93,
   "outputs": [
    {
     "data": {
      "text/plain": "<Figure size 640x480 with 1 Axes>",
      "image/png": "[encoded data removed]"
     },
     "metadata": {},
     "output_type": "display_data"
    }
   ],
   "source": [
    "x1 = m_mods['D_WMC']\n",
    "x2 = m_mods['L_WMC']\n",
    "\n",
    "# Plot\n",
    "plt.hist([x1, x2], bins=np.linspace(0, 100, 30), density=True, label=['Designite', 'LAMP'])\n",
    "plt.gca().set(title= \"WMC Distribution\", xlabel= 'Weighted Methods per Class', ylabel='Density')\n",
    "plt.legend()\n",
    "plt.savefig('images/elasticsearch-WMC.png')\n",
    "plt.show()"
   ],
   "metadata": {
    "collapsed": false
   }
  },
  {
   "cell_type": "markdown",
   "source": [
    "## Module - Cognitively Weighted Method per Class (CWMC)"
   ],
   "metadata": {
    "collapsed": false
   }
  },
  {
   "cell_type": "code",
   "execution_count": 94,
   "outputs": [
    {
     "name": "stdout",
     "output_type": "stream",
     "text": [
      "                                          DeclarableId  S_COCO  L_CWMC\n",
      "0                         com.airbnb.lottie.LottieTask      19      17\n",
      "1                         com.airbnb.lottie.RenderMode       5       5\n",
      "2                             com.airbnb.lottie.Lottie       0       0\n",
      "3    com.airbnb.lottie.LottieOnCompositionLoadedLis...       0       0\n",
      "4                  com.airbnb.lottie.LottieComposition       6       4\n",
      "..                                                 ...     ...     ...\n",
      "184            com.airbnb.lottie.model.layer.TextLayer     132     132\n",
      "185           com.airbnb.lottie.model.layer.SolidLayer       8       8\n",
      "186            com.airbnb.lottie.model.layer.NullLayer       0       0\n",
      "187           com.airbnb.lottie.model.layer.ShapeLayer       2       2\n",
      "188                com.airbnb.lottie.model.layer.Layer       9       9\n",
      "\n",
      "[189 rows x 3 columns]\n"
     ]
    }
   ],
   "source": [
    "# cwmc = m_mods[['DeclarableId', 'S_COCO', 'L_CWMC']].copy()\n",
    "# print(cwmc)"
   ],
   "metadata": {
    "collapsed": false
   }
  },
  {
   "cell_type": "code",
   "execution_count": null,
   "outputs": [],
   "source": [
    "# cwmc[\"Diff\"] = cwmc[\"S_COCO\"] - cwmc[\"L_CWMC\"]\n",
    "# print(cwmc.loc[cwmc[\"Diff\"] > 5])"
   ],
   "metadata": {
    "collapsed": false
   }
  },
  {
   "cell_type": "code",
   "execution_count": 117,
   "outputs": [
    {
     "data": {
      "text/plain": "<Figure size 640x480 with 1 Axes>",
      "image/png": "[encoded data removed]"
     },
     "metadata": {},
     "output_type": "display_data"
    }
   ],
   "source": [
    "# x1 = m_mods['S_COCO']\n",
    "# x2 = m_mods['L_CWMC']\n",
    "#\n",
    "# # Plot\n",
    "# plt.hist([x1, x2], bins=np.linspace(0, 100, 30), density=True, color=['#B53941', '#469B55'], label=['SonarQube', 'LAMP'])\n",
    "# plt.gca().set(title= \"CWMC Distribution\", xlabel= 'Cognitively Weighted Methods per Class', ylabel='Density')\n",
    "# plt.legend()\n",
    "# plt.savefig('images/lottie-CWMC.png')\n",
    "# plt.show()"
   ],
   "metadata": {
    "collapsed": false
   }
  },
  {
   "cell_type": "markdown",
   "source": [
    "## Module Depth of Inheritance (DIT)"
   ],
   "metadata": {
    "collapsed": false
   }
  },
  {
   "cell_type": "code",
   "execution_count": 104,
   "outputs": [
    {
     "name": "stdout",
     "output_type": "stream",
     "text": [
      "                                          DeclarableId  D_DIT  L_DIT\n",
      "0                         com.airbnb.lottie.LottieTask      0      0\n",
      "1                         com.airbnb.lottie.RenderMode      0      0\n",
      "2                             com.airbnb.lottie.Lottie      0      0\n",
      "3    com.airbnb.lottie.LottieOnCompositionLoadedLis...      0      0\n",
      "4                  com.airbnb.lottie.LottieComposition      0      0\n",
      "..                                                 ...    ...    ...\n",
      "184            com.airbnb.lottie.model.layer.TextLayer      1      1\n",
      "185           com.airbnb.lottie.model.layer.SolidLayer      1      1\n",
      "186            com.airbnb.lottie.model.layer.NullLayer      1      1\n",
      "187           com.airbnb.lottie.model.layer.ShapeLayer      1      1\n",
      "188                com.airbnb.lottie.model.layer.Layer      0      0\n",
      "\n",
      "[189 rows x 3 columns]\n"
     ]
    }
   ],
   "source": [
    "dit = m_mods[['DeclarableId', 'D_DIT', 'L_DIT']]\n",
    "print(dit)"
   ],
   "metadata": {
    "collapsed": false
   }
  },
  {
   "cell_type": "code",
   "execution_count": 105,
   "outputs": [
    {
     "name": "stdout",
     "output_type": "stream",
     "text": [
      "                                          DeclarableId  D_DIT  L_DIT  Diff\n",
      "28   com.airbnb.lottie.network.DefaultLottieFetchRe...      1      0     1\n",
      "29   com.airbnb.lottie.network.DefaultLottieNetwork...      1      0     1\n",
      "31   com.airbnb.lottie.value.LottieRelativeFloatVal...      1      0     1\n",
      "32   com.airbnb.lottie.value.LottieInterpolatedPoin...      2      0     2\n",
      "33   com.airbnb.lottie.value.LottieRelativeIntegerV...      1      0     1\n",
      "..                                                 ...    ...    ...   ...\n",
      "175       com.airbnb.lottie.model.content.GradientFill      1      0     1\n",
      "176      com.airbnb.lottie.model.content.PolystarShape      1      0     1\n",
      "177          com.airbnb.lottie.model.content.ShapeFill      1      0     1\n",
      "178        com.airbnb.lottie.model.content.ShapeStroke      1      0     1\n",
      "180     com.airbnb.lottie.model.content.RoundedCorners      1      0     1\n",
      "\n",
      "[69 rows x 4 columns]\n"
     ]
    },
    {
     "name": "stderr",
     "output_type": "stream",
     "text": [
      "/var/folders/yg/_h7_f_ps1g53dn06sw9cr3gr0000gn/T/ipykernel_4344/1400901144.py:1: SettingWithCopyWarning: \n",
      "A value is trying to be set on a copy of a slice from a DataFrame.\n",
      "Try using .loc[row_indexer,col_indexer] = value instead\n",
      "\n",
      "See the caveats in the documentation: https://pandas.pydata.org/pandas-docs/stable/user_guide/indexing.html#returning-a-view-versus-a-copy\n",
      "  dit[\"Diff\"] = dit[\"D_DIT\"] - dit[\"L_DIT\"]\n"
     ]
    }
   ],
   "source": [
    "dit[\"Diff\"] = dit[\"D_DIT\"] - dit[\"L_DIT\"]\n",
    "print(dit.loc[dit[\"Diff\"] > 0])"
   ],
   "metadata": {
    "collapsed": false
   }
  },
  {
   "cell_type": "code",
   "execution_count": 103,
   "outputs": [
    {
     "data": {
      "text/plain": "<Figure size 640x480 with 1 Axes>",
      "image/png": "[encoded data removed]"
     },
     "metadata": {},
     "output_type": "display_data"
    }
   ],
   "source": [
    "x1 = m_mods['D_DIT']\n",
    "x2 = m_mods['L_DIT']\n",
    "\n",
    "# Plot\n",
    "plt.hist([x1, x2], bins=np.linspace(0, 6, 10), density=True, label=['Designite', 'LAMP'])\n",
    "plt.gca().set(title= \"DIT Distribution\", xlabel= 'Depth of Inheritance Tree', ylabel='Density')\n",
    "plt.legend()\n",
    "plt.savefig('images/elasticsearch-DIT.png')\n",
    "plt.show()"
   ],
   "metadata": {
    "collapsed": false
   }
  },
  {
   "cell_type": "markdown",
   "source": [
    "## Module - Number of Children"
   ],
   "metadata": {
    "collapsed": false
   }
  },
  {
   "cell_type": "code",
   "execution_count": 106,
   "outputs": [
    {
     "name": "stdout",
     "output_type": "stream",
     "text": [
      "                                          DeclarableId  D_NC  L_NOC\n",
      "0                         com.airbnb.lottie.LottieTask     0      0\n",
      "1                         com.airbnb.lottie.RenderMode     0      0\n",
      "2                             com.airbnb.lottie.Lottie     0      0\n",
      "3    com.airbnb.lottie.LottieOnCompositionLoadedLis...     0      0\n",
      "4                  com.airbnb.lottie.LottieComposition     0      0\n",
      "..                                                 ...   ...    ...\n",
      "184            com.airbnb.lottie.model.layer.TextLayer     0      0\n",
      "185           com.airbnb.lottie.model.layer.SolidLayer     0      0\n",
      "186            com.airbnb.lottie.model.layer.NullLayer     0      0\n",
      "187           com.airbnb.lottie.model.layer.ShapeLayer     0      0\n",
      "188                com.airbnb.lottie.model.layer.Layer     0      0\n",
      "\n",
      "[189 rows x 3 columns]\n"
     ]
    }
   ],
   "source": [
    "noc = m_mods[['DeclarableId', 'D_NC', 'L_NOC']]\n",
    "print(noc)"
   ],
   "metadata": {
    "collapsed": false
   }
  },
  {
   "cell_type": "code",
   "execution_count": 111,
   "outputs": [
    {
     "data": {
      "text/plain": "<Figure size 640x480 with 1 Axes>",
      "image/png": "[encoded data removed]"
     },
     "metadata": {},
     "output_type": "display_data"
    }
   ],
   "source": [
    "x1 = m_mods['D_NC']\n",
    "x2 = m_mods['L_NOC']\n",
    "\n",
    "# Plot\n",
    "plt.hist([x1, x2], bins=np.linspace(0, 10, 10), density=True, label=['Designite', 'LAMP'])\n",
    "plt.gca().set(title= \"NOC Distribution\", xlabel= 'Number of Children', ylabel='Density')\n",
    "plt.legend()\n",
    "plt.savefig('images/elasticsearch-NOC.png')\n",
    "plt.show()"
   ],
   "metadata": {
    "collapsed": false
   }
  },
  {
   "cell_type": "markdown",
   "source": [
    "## Module - Lack of Cohesion in Methods (LCOM)"
   ],
   "metadata": {
    "collapsed": false
   }
  },
  {
   "cell_type": "code",
   "execution_count": null,
   "outputs": [],
   "source": [
    "lcom = m_mods[['DeclarableId', 'D_LCOM', 'L_LCOM']]\n",
    "print(lcom)"
   ],
   "metadata": {
    "collapsed": false
   }
  },
  {
   "cell_type": "markdown",
   "source": [
    "## Unit - Lines of Code"
   ],
   "metadata": {
    "collapsed": false
   }
  },
  {
   "cell_type": "code",
   "execution_count": null,
   "outputs": [],
   "source": [
    "uloc = m_units[['DeclarableId', 'D_LOC', 'L_ULOC']]\n",
    "print(uloc)"
   ],
   "metadata": {
    "collapsed": false
   }
  },
  {
   "cell_type": "markdown",
   "source": [
    "## Unit - Cyclomatic Complexity"
   ],
   "metadata": {
    "collapsed": false
   }
  },
  {
   "cell_type": "code",
   "execution_count": null,
   "outputs": [],
   "source": [
    "cc = m_units[['DeclarableId', 'D_CC', 'L_CC']]\n",
    "print(cc)"
   ],
   "metadata": {
    "collapsed": false
   }
  },
  {
   "cell_type": "code",
   "execution_count": 112,
   "outputs": [
    {
     "data": {
      "text/plain": "<Figure size 640x480 with 1 Axes>",
      "image/png": "[encoded data removed]"
     },
     "metadata": {},
     "output_type": "display_data"
    }
   ],
   "source": [
    "x1 = m_units['D_CC']\n",
    "x2 = m_units['L_CC']\n",
    "\n",
    "# Plot\n",
    "plt.hist([x1, x2], bins=np.linspace(0, 10, 10), density=True, label=['Designite', 'LAMP'])\n",
    "plt.gca().set(title= \"CC Distribution\", xlabel= 'Cyclomatic Complexity', ylabel='Density')\n",
    "plt.legend()\n",
    "plt.savefig('images/elasticsearch-CC.png')\n",
    "plt.show()"
   ],
   "metadata": {
    "collapsed": false
   }
  },
  {
   "cell_type": "markdown",
   "source": [
    "## Unit - Parameter Count"
   ],
   "metadata": {
    "collapsed": false
   }
  },
  {
   "cell_type": "code",
   "execution_count": null,
   "outputs": [],
   "source": [
    "pc = m_units[['DeclarableId', 'D_PC', 'L_PC']]\n",
    "print(pc)"
   ],
   "metadata": {
    "collapsed": false
   }
  },
  {
   "cell_type": "code",
   "execution_count": 113,
   "outputs": [
    {
     "data": {
      "text/plain": "<Figure size 640x480 with 1 Axes>",
      "image/png": "[encoded data removed]"
     },
     "metadata": {},
     "output_type": "display_data"
    }
   ],
   "source": [
    "x1 = m_units['D_PC']\n",
    "x2 = m_units['L_PC']\n",
    "\n",
    "# Plot\n",
    "plt.hist([x1, x2], bins=np.linspace(0, 10, 10), density=True, label=['Designite', 'LAMP'])\n",
    "plt.gca().set(title= \"PC Distribution\", xlabel= 'Parameter Count', ylabel='Density')\n",
    "plt.legend()\n",
    "plt.savefig('images/elasticsearch-PC.png')\n",
    "plt.show()"
   ],
   "metadata": {
    "collapsed": false
   }
  },
  {
   "cell_type": "code",
   "execution_count": null,
   "outputs": [],
   "source": [],
   "metadata": {
    "collapsed": false
   }
  }
 ],
 "metadata": {
  "kernelspec": {
   "display_name": "Python 3",
   "language": "python",
   "name": "python3"
  },
  "language_info": {
   "codemirror_mode": {
    "name": "ipython",
    "version": 2
   },
   "file_extension": ".py",
   "mimetype": "text/x-python",
   "name": "python",
   "nbconvert_exporter": "python",
   "pygments_lexer": "ipython2",
   "version": "2.7.6"
  }
 },
 "nbformat": 4,
 "nbformat_minor": 0
}
