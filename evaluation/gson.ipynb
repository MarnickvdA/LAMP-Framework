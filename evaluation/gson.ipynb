{
 "cells": [
  {
   "cell_type": "code",
   "execution_count": 89,
   "metadata": {
    "collapsed": true
   },
   "outputs": [],
   "source": [
    "import pandas as pd\n",
    "import numpy as np\n",
    "import matplotlib.pyplot as plt"
   ]
  },
  {
   "cell_type": "markdown",
   "source": [
    "# Evaluation of the LAMP framework\n",
    "To start, transform and evaluate the lottie-android\n",
    "```\n",
    "# Clone and checkout\n",
    "cd input && git clone https://github.com/google/gson.git && cd gson && git checkout 2ce6a610 && cd ...\n",
    "\n",
    "# In the TUI:\n",
    "transform -in input/gson/gson/src/main/java -out out/gson\n",
    "evaluate -in out/gson -out evaluation/data/lamp-gson\n",
    "```"
   ],
   "metadata": {
    "collapsed": false
   }
  },
  {
   "cell_type": "markdown",
   "source": [],
   "metadata": {
    "collapsed": false
   }
  },
  {
   "cell_type": "markdown",
   "source": [
    "# Designite Metrics"
   ],
   "metadata": {
    "collapsed": false
   }
  },
  {
   "cell_type": "code",
   "execution_count": 90,
   "outputs": [],
   "source": [
    "df_types = pd.read_csv('data/designite-gson/TypeMetrics.csv', usecols=[\"Package Name\", \"Type Name\", \"NOF\", \"NOM\", \"NOPF\", \"NOPM\", \"LOC\", \"WMC\", \"NC\", \"DIT\", \"LCOM\", \"FANIN\", \"FANOUT\"])\n",
    "df_types.insert(0, \"DeclarableId\", df_types[['Package Name', 'Type Name']].agg('.'.join, axis=1))\n",
    "df_types.drop([\"Package Name\", \"Type Name\"], axis=\"columns\", inplace=True)\n",
    "\n",
    "df_methods = pd.read_csv('data/designite-gson/MethodMetrics.csv', usecols=[\"Package Name\", \"Type Name\", \"Method Name\", \"LOC\", \"CC\", \"PC\"])\n",
    "df_methods.insert(0, \"DeclarableId\", df_methods[['Package Name', 'Type Name']].agg('.'.join, axis=1))\n",
    "df_methods[\"DeclarableId\"] = df_methods[['DeclarableId', 'Method Name']].agg('://'.join, axis=1)\n",
    "df_methods.drop([\"Package Name\", \"Type Name\", \"Method Name\"], axis=\"columns\", inplace=True)"
   ],
   "metadata": {
    "collapsed": false
   }
  },
  {
   "cell_type": "code",
   "execution_count": 91,
   "outputs": [
    {
     "name": "stdout",
     "output_type": "stream",
     "text": [
      "                                         DeclarableId  NOF  NOPF  NOM  NOPM  \\\n",
      "0                           com.google.gson.JsonArray    1     0   33    32   \n",
      "1                    com.google.gson.ToNumberStrategy    0     0    1     1   \n",
      "2                         com.google.gson.JsonElement    0     0   23    23   \n",
      "3              com.google.gson.ReflectionAccessFilter    4     0    5     4   \n",
      "4   com.google.gson.ReflectionAccessFilter.FilterR...    0     0    0     0   \n",
      "..                                                ...  ...   ...  ...   ...   \n",
      "89    com.google.gson.internal.bind.util.ISO8601Utils    2     0    8     4   \n",
      "90    com.google.gson.internal.sql.SqlTimeTypeAdapter    2     0    4     3   \n",
      "91       com.google.gson.internal.sql.SqlTypesSupport    6     6    3     0   \n",
      "92    com.google.gson.internal.sql.SqlDateTypeAdapter    2     0    4     3   \n",
      "93  com.google.gson.internal.sql.SqlTimestampTypeA...    2     0    4     3   \n",
      "\n",
      "    LOC  WMC  NC  DIT  LCOM  FANIN  FANOUT  \n",
      "0   281   37   0    1  0.00      4       2  \n",
      "1    15    1   1    0 -1.00      4       1  \n",
      "2   227   27   4    0 -1.00     15       6  \n",
      "3    72    5   0    0 -1.00      1       1  \n",
      "4    18    0   0    0 -1.00      0       0  \n",
      "..  ...  ...  ..  ...   ...    ...     ...  \n",
      "89    0   37   0    0  0.00      2       0  \n",
      "90   41    6   0    1  0.75      1       7  \n",
      "91   51    3   0    0  1.00      2       4  \n",
      "92   42    6   0    1  0.75      1       7  \n",
      "93   25    5   0    1  0.50      1       6  \n",
      "\n",
      "[94 rows x 12 columns]\n"
     ]
    }
   ],
   "source": [
    "print(df_types)"
   ],
   "metadata": {
    "collapsed": false
   }
  },
  {
   "cell_type": "code",
   "execution_count": 92,
   "outputs": [
    {
     "name": "stdout",
     "output_type": "stream",
     "text": [
      "                                          DeclarableId  LOC  CC  PC\n",
      "0                com.google.gson.JsonArray://JsonArray    3   1   0\n",
      "1                com.google.gson.JsonArray://JsonArray    3   1   1\n",
      "2                 com.google.gson.JsonArray://deepCopy   10   3   0\n",
      "3                      com.google.gson.JsonArray://add    3   1   1\n",
      "4                      com.google.gson.JsonArray://add    3   1   1\n",
      "..                                                 ...  ...  ..  ..\n",
      "727  com.google.gson.internal.sql.SqlDateTypeAdapte...   11   2   2\n",
      "728  com.google.gson.internal.sql.SqlTimestampTypeA...    9   2   2\n",
      "729  com.google.gson.internal.sql.SqlTimestampTypeA...    3   1   1\n",
      "730  com.google.gson.internal.sql.SqlTimestampTypeA...    4   1   1\n",
      "731  com.google.gson.internal.sql.SqlTimestampTypeA...    3   1   2\n",
      "\n",
      "[732 rows x 4 columns]\n"
     ]
    }
   ],
   "source": [
    "print(df_methods)"
   ],
   "metadata": {
    "collapsed": false
   }
  },
  {
   "cell_type": "markdown",
   "source": [
    "# SonarQube metrics"
   ],
   "metadata": {
    "collapsed": false
   }
  },
  {
   "cell_type": "code",
   "execution_count": 93,
   "outputs": [],
   "source": [
    "# df_sonar = pd.read_csv('data/sonarqube-gson/CognitiveComplexity.csv', usecols=[\"DeclarableId\",\"S_COCO\", \"S_LOC\"])\n",
    "# df_sonar['DeclarableId'] = df_sonar['DeclarableId'].astype(str)\n",
    "# pd.to_numeric(df_sonar['S_COCO'])\n",
    "# pd.to_numeric(df_sonar['S_LOC'])\n",
    "# print(df_sonar)"
   ],
   "metadata": {
    "collapsed": false
   }
  },
  {
   "cell_type": "markdown",
   "source": [
    "# LAMP Metrics"
   ],
   "metadata": {
    "collapsed": false
   }
  },
  {
   "cell_type": "code",
   "execution_count": 94,
   "outputs": [],
   "source": [
    "df_modules = pd.read_csv('data/lamp-gson/modules.csv', usecols=[\"DeclarableId\",\"MLOC\",\"WMC\",\"CWMC\",\"DIT\",\"NOC\",\"CBO\",\"RFC\",\"LCOM\",\"NOU\",\"LC\"])\n",
    "df_units = pd.read_csv('data/lamp-gson/units.csv', usecols=[\"DeclarableId\",\"ULOC\",\"CC\",\"COCO\",\"PC\",\"LLOC\"])"
   ],
   "metadata": {
    "collapsed": false
   }
  },
  {
   "cell_type": "code",
   "execution_count": 95,
   "outputs": [
    {
     "name": "stdout",
     "output_type": "stream",
     "text": [
      "                                         DeclarableId  MLOC  WMC  CWMC  DIT  \\\n",
      "0   com.google.gson.internal.bind.JsonAdapterAnnot...    44   13    12    0   \n",
      "1                   com.google.gson.reflect.TypeToken   193   55    50    0   \n",
      "2        com.google.gson.internal.bind.JsonTreeWriter   157   50    33    1   \n",
      "3   com.google.gson.internal.bind.ReflectiveTypeAd...   352   53    81    0   \n",
      "4                      com.google.gson.JsonSerializer     3    1     0    0   \n",
      "..                                                ...   ...  ...   ...  ...   \n",
      "64             com.google.gson.ReflectionAccessFilter     9    1     0    0   \n",
      "65                         com.google.gson.JsonObject    67   28     8    1   \n",
      "66  com.google.gson.internal.ReflectionAccessFilte...    66   16     6    0   \n",
      "67      com.google.gson.internal.bind.TreeTypeAdapter   106   17     8    0   \n",
      "68                  com.google.gson.FieldNamingPolicy    45   10    14    0   \n",
      "\n",
      "    NOC  CBO  RFC  LCOM  NOU  LC  \n",
      "0     0   21   13     1    3   0  \n",
      "1     0  113   36     1   20   0  \n",
      "2     0   59   31     4   20   0  \n",
      "3     0  175   55     1    7   0  \n",
      "4     0    0    1     1    1   0  \n",
      "..  ...  ...  ...   ...  ...  ..  \n",
      "64    0    0    1     1    1   0  \n",
      "65    0   26   22     4   20   0  \n",
      "66    0   27    8     3    8   0  \n",
      "67    0   41   16     2    9   0  \n",
      "68    0   18   11     1    2   0  \n",
      "\n",
      "[69 rows x 11 columns]\n"
     ]
    }
   ],
   "source": [
    "df_modules.sort_values(by=[\"DeclarableId\"])\n",
    "print(df_modules)"
   ],
   "metadata": {
    "collapsed": false
   }
  },
  {
   "cell_type": "code",
   "execution_count": 96,
   "outputs": [
    {
     "name": "stdout",
     "output_type": "stream",
     "text": [
      "                                          DeclarableId  ULOC  CC  COCO  PC  \\\n",
      "0    com.google.gson.internal.bind.JsonAdapterAnnot...     3   1     0   1   \n",
      "1    com.google.gson.internal.bind.JsonAdapterAnnot...     8   2     1   2   \n",
      "2    com.google.gson.internal.bind.JsonAdapterAnnot...    29  10    11   4   \n",
      "3    com.google.gson.reflect.TypeToken://TypeToken....     5   1     0   0   \n",
      "4    com.google.gson.reflect.TypeToken://TypeToken....     5   1     0   1   \n",
      "..                                                 ...   ...  ..   ...  ..   \n",
      "604  com.google.gson.internal.bind.TreeTypeAdapter:...     3   1     0   2   \n",
      "605  com.google.gson.internal.bind.TreeTypeAdapter:...     5   1     0   2   \n",
      "606  com.google.gson.internal.bind.TreeTypeAdapter:...     4   1     0   2   \n",
      "607  com.google.gson.FieldNamingPolicy://separateCa...    11   4     4   2   \n",
      "608  com.google.gson.FieldNamingPolicy://upperCaseF...    18   6    10   1   \n",
      "\n",
      "     LLOC  \n",
      "0       0  \n",
      "1       0  \n",
      "2       0  \n",
      "3       0  \n",
      "4       0  \n",
      "..    ...  \n",
      "604     0  \n",
      "605     0  \n",
      "606     0  \n",
      "607     0  \n",
      "608     0  \n",
      "\n",
      "[609 rows x 6 columns]\n"
     ]
    }
   ],
   "source": [
    "print(df_units)"
   ],
   "metadata": {
    "collapsed": false
   }
  },
  {
   "cell_type": "markdown",
   "source": [
    "## Distribution analysis"
   ],
   "metadata": {
    "collapsed": false
   }
  },
  {
   "cell_type": "code",
   "execution_count": 97,
   "outputs": [
    {
     "name": "stdout",
     "output_type": "stream",
     "text": [
      "              MLOC         WMC        CWMC        DIT        NOC         CBO  \\\n",
      "count    69.000000   69.000000   69.000000  69.000000  69.000000   69.000000   \n",
      "mean    110.695652   26.217391   19.652174   0.130435   0.115942   48.652174   \n",
      "std     179.370329   49.972895   43.238336   0.339248   0.556677   78.111690   \n",
      "min       3.000000    0.000000    0.000000   0.000000   0.000000    0.000000   \n",
      "25%      12.000000    3.000000    0.000000   0.000000   0.000000    3.000000   \n",
      "50%      45.000000   10.000000    5.000000   0.000000   0.000000   18.000000   \n",
      "75%     116.000000   28.000000   13.000000   0.000000   0.000000   56.000000   \n",
      "max    1016.000000  371.000000  300.000000   1.000000   4.000000  447.000000   \n",
      "\n",
      "             RFC       LCOM        NOU    LC  \n",
      "count  69.000000  69.000000  69.000000  69.0  \n",
      "mean   15.797101   1.594203   8.826087   0.0  \n",
      "std    17.790099   0.974964  10.472592   0.0  \n",
      "min     0.000000   0.000000   0.000000   0.0  \n",
      "25%     1.000000   1.000000   2.000000   0.0  \n",
      "50%    10.000000   1.000000   4.000000   0.0  \n",
      "75%    22.000000   2.000000  10.000000   0.0  \n",
      "max    78.000000   4.000000  42.000000   0.0  \n"
     ]
    }
   ],
   "source": [
    "print(df_modules.describe())"
   ],
   "metadata": {
    "collapsed": false
   }
  },
  {
   "cell_type": "markdown",
   "source": [
    "Within the codebase, inheritance and lambdas are rarely used.\n",
    "\n",
    "Let's deepdive into lambdas that are used."
   ],
   "metadata": {
    "collapsed": false
   }
  },
  {
   "cell_type": "code",
   "execution_count": 98,
   "outputs": [
    {
     "name": "stdout",
     "output_type": "stream",
     "text": [
      "Empty DataFrame\n",
      "Columns: [DeclarableId, LC]\n",
      "Index: []\n"
     ]
    }
   ],
   "source": [
    "df_lambda = df_modules.loc[df_modules[\"LC\"] > 0][['DeclarableId', 'LC']]\n",
    "print(df_lambda)"
   ],
   "metadata": {
    "collapsed": false
   }
  },
  {
   "cell_type": "markdown",
   "source": [
    "Lambdas are used in 5 places of the code base. These lambda statements were very short. Only describing a call to another method."
   ],
   "metadata": {
    "collapsed": false
   }
  },
  {
   "cell_type": "code",
   "execution_count": 99,
   "outputs": [
    {
     "name": "stdout",
     "output_type": "stream",
     "text": [
      "             ULOC          CC        COCO          PC   LLOC\n",
      "count  609.000000  609.000000  609.000000  609.000000  609.0\n",
      "mean     8.640394    2.970443    2.226601    0.952381    0.0\n",
      "std     11.706403    4.169412    5.782336    1.269337    0.0\n",
      "min      1.000000    1.000000    0.000000    0.000000    0.0\n",
      "25%      3.000000    1.000000    0.000000    0.000000    0.0\n",
      "50%      4.000000    1.000000    0.000000    1.000000    0.0\n",
      "75%     10.000000    3.000000    2.000000    1.000000    0.0\n",
      "max    113.000000   40.000000   56.000000   21.000000    0.0\n"
     ]
    }
   ],
   "source": [
    "print(df_units.describe())"
   ],
   "metadata": {
    "collapsed": false
   }
  },
  {
   "cell_type": "markdown",
   "source": [
    "# Analysing module differences"
   ],
   "metadata": {
    "collapsed": false
   }
  },
  {
   "cell_type": "code",
   "execution_count": 100,
   "outputs": [
    {
     "name": "stdout",
     "output_type": "stream",
     "text": [
      "4     com.google.gson.ReflectionAccessFilter.FilterR...\n",
      "16               com.google.gson.Gson.FutureTypeAdapter\n",
      "36          com.google.gson.internal.LinkedTreeMap.Node\n",
      "37    com.google.gson.internal.LinkedTreeMap.LinkedT...\n",
      "38      com.google.gson.internal.LinkedTreeMap.EntrySet\n",
      "39        com.google.gson.internal.LinkedTreeMap.KeySet\n",
      "50    com.google.gson.internal.ReflectionAccessFilte...\n",
      "52    com.google.gson.internal.$Gson$Types.Parameter...\n",
      "53    com.google.gson.internal.$Gson$Types.GenericAr...\n",
      "54    com.google.gson.internal.$Gson$Types.WildcardT...\n",
      "57    com.google.gson.internal.Streams.AppendableWriter\n",
      "58        com.google.gson.internal.Streams.CurrentWrite\n",
      "61    com.google.gson.internal.reflect.ReflectionHel...\n",
      "62    com.google.gson.internal.reflect.ReflectionHel...\n",
      "63    com.google.gson.internal.reflect.ReflectionHel...\n",
      "67    com.google.gson.internal.bind.MapTypeAdapterFa...\n",
      "69    com.google.gson.internal.bind.TreeTypeAdapter....\n",
      "70    com.google.gson.internal.bind.TreeTypeAdapter....\n",
      "72    com.google.gson.internal.bind.DefaultDateTypeA...\n",
      "74    com.google.gson.internal.bind.ReflectiveTypeAd...\n",
      "75    com.google.gson.internal.bind.ReflectiveTypeAd...\n",
      "76    com.google.gson.internal.bind.ReflectiveTypeAd...\n",
      "77    com.google.gson.internal.bind.ReflectiveTypeAd...\n",
      "79    com.google.gson.internal.bind.CollectionTypeAd...\n",
      "83    com.google.gson.internal.bind.TypeAdapters.Enu...\n",
      "Name: DeclarableId, dtype: object\n"
     ]
    }
   ],
   "source": [
    "module_diff = pd.concat([df_types[\"DeclarableId\"], df_modules[\"DeclarableId\"]]).drop_duplicates(keep=False)\n",
    "print(module_diff)"
   ],
   "metadata": {
    "collapsed": false
   }
  },
  {
   "cell_type": "markdown",
   "source": [
    "33 Modules aren't support by the LAMP framework due to inner modules not being supported."
   ],
   "metadata": {
    "collapsed": false
   }
  },
  {
   "cell_type": "code",
   "execution_count": 101,
   "outputs": [
    {
     "name": "stdout",
     "output_type": "stream",
     "text": [
      "34             com.google.gson.JsonElement://JsonElement\n",
      "95                   com.google.gson.JsonNull://JsonNull\n",
      "99               com.google.gson.JsonObject://JsonObject\n",
      "122    com.google.gson.FieldAttributes://FieldAttributes\n",
      "183            com.google.gson.TypeAdapter://TypeAdapter\n",
      "                             ...                        \n",
      "558    com.google.gson.TypeAdapter://TypeAdapter.cons...\n",
      "570    com.google.gson.JsonObject://JsonObject.constr...\n",
      "590    com.google.gson.internal.ReflectionAccessFilte...\n",
      "607    com.google.gson.FieldNamingPolicy://separateCa...\n",
      "608    com.google.gson.FieldNamingPolicy://upperCaseF...\n",
      "Name: DeclarableId, Length: 110, dtype: object\n"
     ]
    }
   ],
   "source": [
    "unit_diff = pd.concat([df_methods[\"DeclarableId\"], df_units[\"DeclarableId\"].apply(lambda s: s.split(\"$\")[0])]).drop_duplicates(keep=False)\n",
    "print(unit_diff)"
   ],
   "metadata": {
    "collapsed": false
   }
  },
  {
   "cell_type": "markdown",
   "source": [
    "261 Units aren't recognized by the LAMP framework at a first glance. When looking at each method precisely, we see that constructors and initializers aren't being matched by name due to their naming conventions within the LAMP framework."
   ],
   "metadata": {
    "collapsed": false
   }
  },
  {
   "cell_type": "code",
   "execution_count": 102,
   "outputs": [
    {
     "name": "stdout",
     "output_type": "stream",
     "text": [
      "283    com.google.gson.stream.JsonReader://promoteNam...\n",
      "342     com.google.gson.internal.LinkedTreeMap://compare\n",
      "408    com.google.gson.internal.$Gson$Preconditions:/...\n",
      "409    com.google.gson.internal.$Gson$Preconditions:/...\n",
      "410    com.google.gson.internal.$Gson$Preconditions:/...\n",
      "418             com.google.gson.internal.Excluder://read\n",
      "419            com.google.gson.internal.Excluder://write\n",
      "420         com.google.gson.internal.Excluder://delegate\n",
      "446    com.google.gson.internal.$Gson$Types://$Gson$T...\n",
      "447    com.google.gson.internal.$Gson$Types://newPara...\n",
      "448       com.google.gson.internal.$Gson$Types://arrayOf\n",
      "449     com.google.gson.internal.$Gson$Types://subtypeOf\n",
      "450    com.google.gson.internal.$Gson$Types://superty...\n",
      "451    com.google.gson.internal.$Gson$Types://canonic...\n",
      "452    com.google.gson.internal.$Gson$Types://getRawType\n",
      "453         com.google.gson.internal.$Gson$Types://equal\n",
      "454        com.google.gson.internal.$Gson$Types://equals\n",
      "455    com.google.gson.internal.$Gson$Types://typeToS...\n",
      "456    com.google.gson.internal.$Gson$Types://getGene...\n",
      "457    com.google.gson.internal.$Gson$Types://getSupe...\n",
      "458    com.google.gson.internal.$Gson$Types://getArra...\n",
      "459    com.google.gson.internal.$Gson$Types://getColl...\n",
      "460    com.google.gson.internal.$Gson$Types://getMapK...\n",
      "463    com.google.gson.internal.$Gson$Types://resolve...\n",
      "464       com.google.gson.internal.$Gson$Types://indexOf\n",
      "465    com.google.gson.internal.$Gson$Types://declari...\n",
      "466    com.google.gson.internal.$Gson$Types://checkNo...\n",
      "517    com.google.gson.internal.bind.DateTypeAdapter:...\n",
      "552    com.google.gson.internal.bind.ReflectiveTypeAd...\n",
      "553    com.google.gson.internal.bind.ReflectiveTypeAd...\n",
      "554    com.google.gson.internal.bind.ReflectiveTypeAd...\n",
      "560    com.google.gson.internal.bind.NumberTypeAdapte...\n",
      "620    com.google.gson.internal.bind.TypeAdapters://t...\n",
      "621    com.google.gson.internal.bind.TypeAdapters://r...\n",
      "644    com.google.gson.internal.bind.ArrayTypeAdapter...\n",
      "650    com.google.gson.internal.bind.ObjectTypeAdapte...\n",
      "656    com.google.gson.internal.bind.JsonTreeReader:/...\n",
      "686    com.google.gson.internal.bind.JsonTreeWriter:/...\n",
      "717    com.google.gson.internal.sql.SqlTimeTypeAdapte...\n",
      "724    com.google.gson.internal.sql.SqlDateTypeAdapte...\n",
      "728    com.google.gson.internal.sql.SqlTimestampTypeA...\n",
      "533    com.google.gson.LongSerializationPolicy://seri...\n",
      "607    com.google.gson.FieldNamingPolicy://separateCa...\n",
      "608    com.google.gson.FieldNamingPolicy://upperCaseF...\n",
      "Name: DeclarableId, dtype: object\n"
     ]
    }
   ],
   "source": [
    "unit_diff_with_constructors = pd.concat([df_methods[\"DeclarableId\"], df_units[\"DeclarableId\"].apply(lambda s:\n",
    "                                                                                                        s.split(\"$\")[0].removesuffix(\".constructor\").removesuffix(\".initializer\")\n",
    "                                                                                                    )]).drop_duplicates(keep=False)\n",
    "print(unit_diff_with_constructors)"
   ],
   "metadata": {
    "collapsed": false
   }
  },
  {
   "cell_type": "markdown",
   "source": [
    "After removing the .constructor and .initializer from the declarable id, we see that these units are now matched to their corresponding method ids from designite.\n",
    "This leaves us with the analysis of the remaining 18 units that aren't getting matched. These are units:\n",
    "\n",
    "- Enum declarations by the LAMP framework, these aren't evaluated by Designite.\n",
    "- Anonymous class declarations: these aren't evaluated by the LAMP framework\n",
    "- Inner Module Units: these aren't evaluated by the LAMP framework."
   ],
   "metadata": {
    "collapsed": false
   }
  },
  {
   "cell_type": "markdown",
   "source": [
    "# Metric performance"
   ],
   "metadata": {
    "collapsed": false
   }
  },
  {
   "cell_type": "code",
   "execution_count": 103,
   "outputs": [],
   "source": [
    "types = df_types\n",
    "methods = df_methods\n",
    "\n",
    "mods = df_modules\n",
    "units = df_units\n",
    "\n",
    "types.rename(columns=lambda x: \"D_\" + x, inplace=True)\n",
    "types.rename({\"D_DeclarableId\": \"DeclarableId\"}, axis=1, inplace=True)\n",
    "\n",
    "methods.rename(columns=lambda x: \"D_\" + x, inplace=True)\n",
    "methods.rename({\"D_DeclarableId\": \"DeclarableId\"}, axis=1, inplace=True)\n",
    "\n",
    "mods.rename(columns=lambda x: \"L_\" + x, inplace=True)\n",
    "mods.rename({\"L_DeclarableId\": \"DeclarableId\"}, axis=1, inplace=True)\n",
    "\n",
    "units.rename(columns=lambda x: \"L_\" + x, inplace=True)\n",
    "units.rename({\"L_DeclarableId\": \"DeclarableId\"}, axis=1, inplace=True)\n",
    "units[\"DeclarableId\"] = units[\"DeclarableId\"].apply(lambda s: s.split(\"$\")[0].removesuffix(\".constructor\").removesuffix(\".initializer\"))"
   ],
   "metadata": {
    "collapsed": false
   }
  },
  {
   "cell_type": "code",
   "execution_count": 104,
   "outputs": [
    {
     "name": "stdout",
     "output_type": "stream",
     "text": [
      "                                         DeclarableId  D_NOF  D_NOPF  D_NOM  \\\n",
      "0                           com.google.gson.JsonArray      1       0     33   \n",
      "1                    com.google.gson.ToNumberStrategy      0       0      1   \n",
      "2                         com.google.gson.JsonElement      0       0     23   \n",
      "3              com.google.gson.ReflectionAccessFilter      4       0      5   \n",
      "4                    com.google.gson.JsonDeserializer      0       0      1   \n",
      "..                                                ...    ...     ...    ...   \n",
      "64    com.google.gson.internal.bind.util.ISO8601Utils      2       0      8   \n",
      "65    com.google.gson.internal.sql.SqlTimeTypeAdapter      2       0      4   \n",
      "66       com.google.gson.internal.sql.SqlTypesSupport      6       6      3   \n",
      "67    com.google.gson.internal.sql.SqlDateTypeAdapter      2       0      4   \n",
      "68  com.google.gson.internal.sql.SqlTimestampTypeA...      2       0      4   \n",
      "\n",
      "    D_NOPM  D_LOC  D_WMC  D_NC  D_DIT  D_LCOM  ...  L_MLOC  L_WMC  L_CWMC  \\\n",
      "0       32    281     37     0      1    0.00  ...     116     44      12   \n",
      "1        1     15      1     1      0   -1.00  ...       3      1       0   \n",
      "2       23    227     27     4      0   -1.00  ...      88     28       5   \n",
      "3        4     72      5     0      0   -1.00  ...       9      1       0   \n",
      "4        1     16      1     0      0   -1.00  ...       4      1       0   \n",
      "..     ...    ...    ...   ...    ...     ...  ...     ...    ...     ...   \n",
      "64       4      0     37     0      0    0.00  ...     198     59      70   \n",
      "65       3     41      6     0      1    0.75  ...      36      6       3   \n",
      "66       0     51      3     0      0    1.00  ...      41      5       3   \n",
      "67       3     42      6     0      1    0.75  ...      38      6       3   \n",
      "68       3     25      5     0      1    0.50  ...      23      4       1   \n",
      "\n",
      "    L_DIT  L_NOC  L_CBO  L_RFC  L_LCOM  L_NOU  L_LC  \n",
      "0       1      0     54     30       1     33     0  \n",
      "1       0      0      0      1       1      1     0  \n",
      "2       0      4     34     31       1     23     0  \n",
      "3       0      0      0      1       1      1     0  \n",
      "4       0      0      0      1       1      1     0  \n",
      "..    ...    ...    ...    ...     ...    ...   ...  \n",
      "64      0      0    142     39       1      8     0  \n",
      "65      0      0     18     13       2      3     0  \n",
      "66      0      0     32      0       2      2     0  \n",
      "67      0      0     20     13       2      3     0  \n",
      "68      0      0      9      4       1      3     0  \n",
      "\n",
      "[69 rows x 22 columns]\n"
     ]
    }
   ],
   "source": [
    "m_mods = pd.merge(types, mods, on=\"DeclarableId\")\n",
    "# m_mods = pd.merge(m_mods, df_sonar, on=\"DeclarableId\")\n",
    "print(m_mods)"
   ],
   "metadata": {
    "collapsed": false
   }
  },
  {
   "cell_type": "code",
   "execution_count": 105,
   "outputs": [
    {
     "name": "stdout",
     "output_type": "stream",
     "text": [
      "                                           DeclarableId  D_LOC  D_CC  D_PC  \\\n",
      "0                 com.google.gson.JsonArray://JsonArray      3     1     0   \n",
      "1                 com.google.gson.JsonArray://JsonArray      3     1     0   \n",
      "2                 com.google.gson.JsonArray://JsonArray      3     1     1   \n",
      "3                 com.google.gson.JsonArray://JsonArray      3     1     1   \n",
      "4                  com.google.gson.JsonArray://deepCopy     10     3     0   \n",
      "...                                                 ...    ...   ...   ...   \n",
      "1010  com.google.gson.internal.sql.SqlDateTypeAdapte...     17     2     1   \n",
      "1011  com.google.gson.internal.sql.SqlDateTypeAdapte...     11     2     2   \n",
      "1012  com.google.gson.internal.sql.SqlTimestampTypeA...      3     1     1   \n",
      "1013  com.google.gson.internal.sql.SqlTimestampTypeA...      4     1     1   \n",
      "1014  com.google.gson.internal.sql.SqlTimestampTypeA...      3     1     2   \n",
      "\n",
      "      L_ULOC  L_CC  L_COCO  L_PC  L_LLOC  \n",
      "0          3     1       0     0       0  \n",
      "1          3     1       0     1       0  \n",
      "2          3     1       0     0       0  \n",
      "3          3     1       0     1       0  \n",
      "4         10     3       3     0       0  \n",
      "...      ...   ...     ...   ...     ...  \n",
      "1010      15     3       2     1       0  \n",
      "1011      10     2       1     2       0  \n",
      "1012       3     1       0     1       0  \n",
      "1013       4     2       1     1       0  \n",
      "1014       3     1       0     2       0  \n",
      "\n",
      "[1015 rows x 9 columns]\n"
     ]
    }
   ],
   "source": [
    "m_units = pd.merge(methods, units, on=[\"DeclarableId\"])\n",
    "print(m_units)"
   ],
   "metadata": {
    "collapsed": false
   }
  },
  {
   "cell_type": "code",
   "execution_count": 106,
   "outputs": [
    {
     "data": {
      "text/plain": "<Figure size 1000x1500 with 8 Axes>",
      "image/png": "[encoded data removed]"
     },
     "metadata": {},
     "output_type": "display_data"
    }
   ],
   "source": [
    "figure, axis = plt.subplots(4, 2, figsize=(10, 15))"
   ],
   "metadata": {
    "collapsed": false
   }
  },
  {
   "cell_type": "markdown",
   "source": [
    "## Module Lines Of Code"
   ],
   "metadata": {
    "collapsed": false
   }
  },
  {
   "cell_type": "code",
   "execution_count": 107,
   "outputs": [
    {
     "name": "stdout",
     "output_type": "stream",
     "text": [
      "                                         DeclarableId  D_LOC  L_MLOC\n",
      "0                           com.google.gson.JsonArray    281     116\n",
      "1                    com.google.gson.ToNumberStrategy     15       3\n",
      "2                         com.google.gson.JsonElement    227      88\n",
      "3              com.google.gson.ReflectionAccessFilter     72       9\n",
      "4                    com.google.gson.JsonDeserializer     16       4\n",
      "..                                                ...    ...     ...\n",
      "64    com.google.gson.internal.bind.util.ISO8601Utils      0     198\n",
      "65    com.google.gson.internal.sql.SqlTimeTypeAdapter     41      36\n",
      "66       com.google.gson.internal.sql.SqlTypesSupport     51      41\n",
      "67    com.google.gson.internal.sql.SqlDateTypeAdapter     42      38\n",
      "68  com.google.gson.internal.sql.SqlTimestampTypeA...     25      23\n",
      "\n",
      "[69 rows x 3 columns]\n"
     ]
    }
   ],
   "source": [
    "mloc = m_mods[['DeclarableId', 'D_LOC', 'L_MLOC']]\n",
    "# mloc = m_mods[['DeclarableId', 'D_LOC', 'S_LOC', 'L_MLOC']]\n",
    "print(mloc)"
   ],
   "metadata": {
    "collapsed": false
   }
  },
  {
   "cell_type": "code",
   "execution_count": 108,
   "outputs": [
    {
     "data": {
      "text/plain": "<matplotlib.legend.Legend at 0x1248dd820>"
     },
     "execution_count": 108,
     "metadata": {},
     "output_type": "execute_result"
    }
   ],
   "source": [
    "x1 = mloc['D_LOC']\n",
    "# x2 = mloc['S_LOC']\n",
    "x3 = mloc['L_MLOC']\n",
    "\n",
    "plt = axis[0, 0]\n",
    "\n",
    "# Plot\n",
    "plt.hist([x1, x3], bins=np.linspace(0, 1000, 30), density=True, color=['#3C5DA1', '#469B55'], label=['Designite', 'LAMP'])\n",
    "# plt.hist([x1, x2, x3], bins=np.linspace(0, 1000, 30), density=True, color=['#3C5DA1', '#B53941', '#469B55'], label=['Designite', 'SonarQube', 'LAMP'])\n",
    "plt.set(title= \"MLOC Distribution\", xlabel= 'Module Lines of Code', ylabel='Density')\n",
    "plt.legend()\n",
    "# plt.savefig('images/lottie-MLOC.png')\n",
    "# plt.show()"
   ],
   "metadata": {
    "collapsed": false
   }
  },
  {
   "cell_type": "markdown",
   "source": [
    "## Module Number Of Units"
   ],
   "metadata": {
    "collapsed": false
   }
  },
  {
   "cell_type": "code",
   "execution_count": 109,
   "outputs": [
    {
     "name": "stdout",
     "output_type": "stream",
     "text": [
      "                                         DeclarableId  D_NOM  L_NOU\n",
      "0                           com.google.gson.JsonArray     33     33\n",
      "1                    com.google.gson.ToNumberStrategy      1      1\n",
      "2                         com.google.gson.JsonElement     23     23\n",
      "3              com.google.gson.ReflectionAccessFilter      5      1\n",
      "4                    com.google.gson.JsonDeserializer      1      1\n",
      "..                                                ...    ...    ...\n",
      "64    com.google.gson.internal.bind.util.ISO8601Utils      8      8\n",
      "65    com.google.gson.internal.sql.SqlTimeTypeAdapter      4      3\n",
      "66       com.google.gson.internal.sql.SqlTypesSupport      3      2\n",
      "67    com.google.gson.internal.sql.SqlDateTypeAdapter      4      3\n",
      "68  com.google.gson.internal.sql.SqlTimestampTypeA...      4      3\n",
      "\n",
      "[69 rows x 3 columns]\n"
     ]
    }
   ],
   "source": [
    "nou = m_mods[['DeclarableId', 'D_NOM', 'L_NOU']]\n",
    "print(nou)"
   ],
   "metadata": {
    "collapsed": false
   }
  },
  {
   "cell_type": "code",
   "execution_count": 110,
   "outputs": [
    {
     "data": {
      "text/plain": "<matplotlib.legend.Legend at 0x12565b4f0>"
     },
     "execution_count": 110,
     "metadata": {},
     "output_type": "execute_result"
    }
   ],
   "source": [
    "x1 = m_mods['D_NOM']\n",
    "x2 = m_mods['L_NOU']\n",
    "\n",
    "plt = axis[0, 1]\n",
    "\n",
    "# Plot\n",
    "plt.hist([x1, x2], bins=np.linspace(0, 50, 30), density=True,color=['#3C5DA1', '#469B55'],  label=['Designite', 'LAMP'])\n",
    "plt.set(title= \"NOU Distribution\", xlabel= 'Number of Units', ylabel='Density')\n",
    "plt.legend()\n",
    "# plt.savefig('images/lottie-NOU.png')\n",
    "# plt.show()"
   ],
   "metadata": {
    "collapsed": false
   }
  },
  {
   "cell_type": "markdown",
   "source": [
    "## Module Weighted Method per Class (WMC)"
   ],
   "metadata": {
    "collapsed": false
   }
  },
  {
   "cell_type": "code",
   "execution_count": 111,
   "outputs": [
    {
     "name": "stdout",
     "output_type": "stream",
     "text": [
      "                                         DeclarableId  D_WMC  L_WMC\n",
      "0                           com.google.gson.JsonArray     37     44\n",
      "1                    com.google.gson.ToNumberStrategy      1      1\n",
      "2                         com.google.gson.JsonElement     27     28\n",
      "3              com.google.gson.ReflectionAccessFilter      5      1\n",
      "4                    com.google.gson.JsonDeserializer      1      1\n",
      "..                                                ...    ...    ...\n",
      "64    com.google.gson.internal.bind.util.ISO8601Utils     37     59\n",
      "65    com.google.gson.internal.sql.SqlTimeTypeAdapter      6      6\n",
      "66       com.google.gson.internal.sql.SqlTypesSupport      3      5\n",
      "67    com.google.gson.internal.sql.SqlDateTypeAdapter      6      6\n",
      "68  com.google.gson.internal.sql.SqlTimestampTypeA...      5      4\n",
      "\n",
      "[69 rows x 3 columns]\n"
     ]
    }
   ],
   "source": [
    "wmc = m_mods[['DeclarableId', 'D_WMC', 'L_WMC']]\n",
    "print(wmc)"
   ],
   "metadata": {
    "collapsed": false
   }
  },
  {
   "cell_type": "code",
   "execution_count": 112,
   "outputs": [
    {
     "data": {
      "text/plain": "<matplotlib.legend.Legend at 0x1265ac100>"
     },
     "execution_count": 112,
     "metadata": {},
     "output_type": "execute_result"
    }
   ],
   "source": [
    "x1 = m_mods['D_WMC']\n",
    "x2 = m_mods['L_WMC']\n",
    "\n",
    "\n",
    "plt = axis[1, 0]\n",
    "\n",
    "# Plot\n",
    "plt.hist([x1, x2], bins=np.linspace(0, 100, 30), density=True,color=['#3C5DA1', '#469B55'],  label=['Designite', 'LAMP'])\n",
    "plt.set(title= \"WMC Distribution\", xlabel= 'Weighted Methods per Class', ylabel='Density')\n",
    "plt.legend()\n",
    "# plt.savefig('images/lottie-WMC.png')\n",
    "# plt.show()"
   ],
   "metadata": {
    "collapsed": false
   }
  },
  {
   "cell_type": "markdown",
   "source": [
    "## Module - Cognitively Weighted Method per Class (CWMC)"
   ],
   "metadata": {
    "collapsed": false
   }
  },
  {
   "cell_type": "code",
   "execution_count": 113,
   "outputs": [],
   "source": [
    "# cwmc = m_mods[['DeclarableId', 'S_COCO', 'L_CWMC']].copy()\n",
    "# print(cwmc)"
   ],
   "metadata": {
    "collapsed": false
   }
  },
  {
   "cell_type": "code",
   "execution_count": 114,
   "outputs": [],
   "source": [
    "# cwmc[\"Diff\"] = cwmc[\"S_COCO\"] - cwmc[\"L_CWMC\"]\n",
    "# print(cwmc.loc[cwmc[\"Diff\"] > 5])"
   ],
   "metadata": {
    "collapsed": false
   }
  },
  {
   "cell_type": "code",
   "execution_count": 115,
   "outputs": [],
   "source": [
    "# x1 = m_mods['S_COCO']\n",
    "# x2 = m_mods['L_CWMC']\n",
    "#\n",
    "# plt = axis[1, 1]\n",
    "#\n",
    "# # Plot\n",
    "# plt.hist([x1, x2], bins=np.linspace(0, 100, 30), density=True, color=['#B53941', '#469B55'], label=['SonarQube', 'LAMP'])\n",
    "# plt.set(title= \"CWMC Distribution\", xlabel= 'Cognitively Weighted Methods per Class', ylabel='Density')\n",
    "# plt.legend()\n",
    "# # plt.savefig('images/lottie-CWMC.png')\n",
    "# # plt.show()"
   ],
   "metadata": {
    "collapsed": false
   }
  },
  {
   "cell_type": "markdown",
   "source": [
    "## Module Depth of Inheritance (DIT)"
   ],
   "metadata": {
    "collapsed": false
   }
  },
  {
   "cell_type": "code",
   "execution_count": 116,
   "outputs": [
    {
     "name": "stdout",
     "output_type": "stream",
     "text": [
      "                                         DeclarableId  D_DIT  L_DIT\n",
      "0                           com.google.gson.JsonArray      1      1\n",
      "1                    com.google.gson.ToNumberStrategy      0      0\n",
      "2                         com.google.gson.JsonElement      0      0\n",
      "3              com.google.gson.ReflectionAccessFilter      0      0\n",
      "4                    com.google.gson.JsonDeserializer      0      0\n",
      "..                                                ...    ...    ...\n",
      "64    com.google.gson.internal.bind.util.ISO8601Utils      0      0\n",
      "65    com.google.gson.internal.sql.SqlTimeTypeAdapter      1      0\n",
      "66       com.google.gson.internal.sql.SqlTypesSupport      0      0\n",
      "67    com.google.gson.internal.sql.SqlDateTypeAdapter      1      0\n",
      "68  com.google.gson.internal.sql.SqlTimestampTypeA...      1      0\n",
      "\n",
      "[69 rows x 3 columns]\n"
     ]
    }
   ],
   "source": [
    "dit = m_mods[['DeclarableId', 'D_DIT', 'L_DIT']]\n",
    "print(dit)"
   ],
   "metadata": {
    "collapsed": false
   }
  },
  {
   "cell_type": "code",
   "execution_count": 117,
   "outputs": [
    {
     "name": "stdout",
     "output_type": "stream",
     "text": [
      "                                         DeclarableId  D_DIT  L_DIT  Diff\n",
      "9                   com.google.gson.FieldNamingPolicy      1      0     1\n",
      "17                     com.google.gson.ToNumberPolicy      1      0     1\n",
      "41                  com.google.gson.internal.Excluder      1      0     1\n",
      "49      com.google.gson.internal.bind.DateTypeAdapter      1      0     1\n",
      "50  com.google.gson.internal.bind.TypeAdapterRunti...      1      0     1\n",
      "51  com.google.gson.internal.bind.MapTypeAdapterFa...      1      0     1\n",
      "52      com.google.gson.internal.bind.TreeTypeAdapter      2      0     2\n",
      "53  com.google.gson.internal.bind.DefaultDateTypeA...      1      0     1\n",
      "54  com.google.gson.internal.bind.ReflectiveTypeAd...      1      0     1\n",
      "55  com.google.gson.internal.bind.CollectionTypeAd...      1      0     1\n",
      "56    com.google.gson.internal.bind.NumberTypeAdapter      1      0     1\n",
      "57  com.google.gson.internal.bind.SerializationDel...      1      0     1\n",
      "59  com.google.gson.internal.bind.JsonAdapterAnnot...      1      0     1\n",
      "60     com.google.gson.internal.bind.ArrayTypeAdapter      1      0     1\n",
      "61    com.google.gson.internal.bind.ObjectTypeAdapter      1      0     1\n",
      "65    com.google.gson.internal.sql.SqlTimeTypeAdapter      1      0     1\n",
      "67    com.google.gson.internal.sql.SqlDateTypeAdapter      1      0     1\n",
      "68  com.google.gson.internal.sql.SqlTimestampTypeA...      1      0     1\n"
     ]
    },
    {
     "name": "stderr",
     "output_type": "stream",
     "text": [
      "/var/folders/yg/_h7_f_ps1g53dn06sw9cr3gr0000gn/T/ipykernel_19648/1400901144.py:1: SettingWithCopyWarning: \n",
      "A value is trying to be set on a copy of a slice from a DataFrame.\n",
      "Try using .loc[row_indexer,col_indexer] = value instead\n",
      "\n",
      "See the caveats in the documentation: https://pandas.pydata.org/pandas-docs/stable/user_guide/indexing.html#returning-a-view-versus-a-copy\n",
      "  dit[\"Diff\"] = dit[\"D_DIT\"] - dit[\"L_DIT\"]\n"
     ]
    }
   ],
   "source": [
    "dit[\"Diff\"] = dit[\"D_DIT\"] - dit[\"L_DIT\"]\n",
    "print(dit.loc[dit[\"Diff\"] > 0])"
   ],
   "metadata": {
    "collapsed": false
   }
  },
  {
   "cell_type": "code",
   "execution_count": 118,
   "outputs": [
    {
     "data": {
      "text/plain": "<matplotlib.legend.Legend at 0x12669d220>"
     },
     "execution_count": 118,
     "metadata": {},
     "output_type": "execute_result"
    }
   ],
   "source": [
    "x1 = m_mods['D_DIT']\n",
    "x2 = m_mods['L_DIT']\n",
    "\n",
    "plt = axis[1, 1]\n",
    "\n",
    "# Plot\n",
    "plt.hist([x1, x2], bins=np.linspace(0, 6, 10), density=True,color=['#3C5DA1', '#469B55'],  label=['Designite', 'LAMP'])\n",
    "plt.set(title= \"DIT Distribution\", xlabel= 'Depth of Inheritance Tree', ylabel='Density')\n",
    "plt.legend()\n",
    "# plt.savefig('images/lottie-DIT.png')\n",
    "# plt.show()"
   ],
   "metadata": {
    "collapsed": false
   }
  },
  {
   "cell_type": "markdown",
   "source": [
    "## Module - Number of Children"
   ],
   "metadata": {
    "collapsed": false
   }
  },
  {
   "cell_type": "code",
   "execution_count": 119,
   "outputs": [
    {
     "name": "stdout",
     "output_type": "stream",
     "text": [
      "                                         DeclarableId  D_NC  L_NOC\n",
      "0                           com.google.gson.JsonArray     0      0\n",
      "1                    com.google.gson.ToNumberStrategy     1      0\n",
      "2                         com.google.gson.JsonElement     4      4\n",
      "3              com.google.gson.ReflectionAccessFilter     0      0\n",
      "4                    com.google.gson.JsonDeserializer     0      0\n",
      "..                                                ...   ...    ...\n",
      "64    com.google.gson.internal.bind.util.ISO8601Utils     0      0\n",
      "65    com.google.gson.internal.sql.SqlTimeTypeAdapter     0      0\n",
      "66       com.google.gson.internal.sql.SqlTypesSupport     0      0\n",
      "67    com.google.gson.internal.sql.SqlDateTypeAdapter     0      0\n",
      "68  com.google.gson.internal.sql.SqlTimestampTypeA...     0      0\n",
      "\n",
      "[69 rows x 3 columns]\n"
     ]
    }
   ],
   "source": [
    "noc = m_mods[['DeclarableId', 'D_NC', 'L_NOC']]\n",
    "print(noc)"
   ],
   "metadata": {
    "collapsed": false
   }
  },
  {
   "cell_type": "code",
   "execution_count": 120,
   "outputs": [
    {
     "data": {
      "text/plain": "<matplotlib.legend.Legend at 0x1266c5d90>"
     },
     "execution_count": 120,
     "metadata": {},
     "output_type": "execute_result"
    }
   ],
   "source": [
    "x1 = m_mods['D_NC']\n",
    "x2 = m_mods['L_NOC']\n",
    "\n",
    "plt = axis[2, 0]\n",
    "\n",
    "# Plot\n",
    "plt.hist([x1, x2], bins=np.linspace(0, 10, 10), density=True,color=['#3C5DA1', '#469B55'],  label=['Designite', 'LAMP'])\n",
    "plt.set(title= \"NOC Distribution\", xlabel= 'Number of Children', ylabel='Density')\n",
    "plt.legend()\n",
    "# plt.savefig('images/lottie-NOC.png')\n",
    "# plt.show()"
   ],
   "metadata": {
    "collapsed": false
   }
  },
  {
   "cell_type": "markdown",
   "source": [
    "## Module - Lack of Cohesion in Methods (LCOM)"
   ],
   "metadata": {
    "collapsed": false
   }
  },
  {
   "cell_type": "code",
   "execution_count": 121,
   "outputs": [
    {
     "name": "stdout",
     "output_type": "stream",
     "text": [
      "                                         DeclarableId  D_LCOM  L_LCOM\n",
      "0                           com.google.gson.JsonArray    0.00       1\n",
      "1                    com.google.gson.ToNumberStrategy   -1.00       1\n",
      "2                         com.google.gson.JsonElement   -1.00       1\n",
      "3              com.google.gson.ReflectionAccessFilter   -1.00       1\n",
      "4                    com.google.gson.JsonDeserializer   -1.00       1\n",
      "..                                                ...     ...     ...\n",
      "64    com.google.gson.internal.bind.util.ISO8601Utils    0.00       1\n",
      "65    com.google.gson.internal.sql.SqlTimeTypeAdapter    0.75       2\n",
      "66       com.google.gson.internal.sql.SqlTypesSupport    1.00       2\n",
      "67    com.google.gson.internal.sql.SqlDateTypeAdapter    0.75       2\n",
      "68  com.google.gson.internal.sql.SqlTimestampTypeA...    0.50       1\n",
      "\n",
      "[69 rows x 3 columns]\n"
     ]
    }
   ],
   "source": [
    "lcom = m_mods[['DeclarableId', 'D_LCOM', 'L_LCOM']]\n",
    "print(lcom)"
   ],
   "metadata": {
    "collapsed": false
   }
  },
  {
   "cell_type": "markdown",
   "source": [
    "## Unit - Lines of Code"
   ],
   "metadata": {
    "collapsed": false
   }
  },
  {
   "cell_type": "code",
   "execution_count": 122,
   "outputs": [
    {
     "name": "stdout",
     "output_type": "stream",
     "text": [
      "                                           DeclarableId  D_LOC  L_ULOC\n",
      "0                 com.google.gson.JsonArray://JsonArray      3       3\n",
      "1                 com.google.gson.JsonArray://JsonArray      3       3\n",
      "2                 com.google.gson.JsonArray://JsonArray      3       3\n",
      "3                 com.google.gson.JsonArray://JsonArray      3       3\n",
      "4                  com.google.gson.JsonArray://deepCopy     10      10\n",
      "...                                                 ...    ...     ...\n",
      "1010  com.google.gson.internal.sql.SqlDateTypeAdapte...     17      15\n",
      "1011  com.google.gson.internal.sql.SqlDateTypeAdapte...     11      10\n",
      "1012  com.google.gson.internal.sql.SqlTimestampTypeA...      3       3\n",
      "1013  com.google.gson.internal.sql.SqlTimestampTypeA...      4       4\n",
      "1014  com.google.gson.internal.sql.SqlTimestampTypeA...      3       3\n",
      "\n",
      "[1015 rows x 3 columns]\n"
     ]
    }
   ],
   "source": [
    "uloc = m_units[['DeclarableId', 'D_LOC', 'L_ULOC']]\n",
    "print(uloc)"
   ],
   "metadata": {
    "collapsed": false
   }
  },
  {
   "cell_type": "markdown",
   "source": [
    "## Unit - Cyclomatic Complexity"
   ],
   "metadata": {
    "collapsed": false
   }
  },
  {
   "cell_type": "code",
   "execution_count": 123,
   "outputs": [
    {
     "name": "stdout",
     "output_type": "stream",
     "text": [
      "                                           DeclarableId  D_CC  L_CC\n",
      "0                 com.google.gson.JsonArray://JsonArray     1     1\n",
      "1                 com.google.gson.JsonArray://JsonArray     1     1\n",
      "2                 com.google.gson.JsonArray://JsonArray     1     1\n",
      "3                 com.google.gson.JsonArray://JsonArray     1     1\n",
      "4                  com.google.gson.JsonArray://deepCopy     3     3\n",
      "...                                                 ...   ...   ...\n",
      "1010  com.google.gson.internal.sql.SqlDateTypeAdapte...     2     3\n",
      "1011  com.google.gson.internal.sql.SqlDateTypeAdapte...     2     2\n",
      "1012  com.google.gson.internal.sql.SqlTimestampTypeA...     1     1\n",
      "1013  com.google.gson.internal.sql.SqlTimestampTypeA...     1     2\n",
      "1014  com.google.gson.internal.sql.SqlTimestampTypeA...     1     1\n",
      "\n",
      "[1015 rows x 3 columns]\n"
     ]
    }
   ],
   "source": [
    "cc = m_units[['DeclarableId', 'D_CC', 'L_CC']]\n",
    "print(cc)"
   ],
   "metadata": {
    "collapsed": false
   }
  },
  {
   "cell_type": "code",
   "execution_count": 124,
   "outputs": [
    {
     "data": {
      "text/plain": "<matplotlib.legend.Legend at 0x1266efc10>"
     },
     "execution_count": 124,
     "metadata": {},
     "output_type": "execute_result"
    }
   ],
   "source": [
    "x1 = m_units['D_CC']\n",
    "x2 = m_units['L_CC']\n",
    "\n",
    "plt = axis[2, 1]\n",
    "\n",
    "# Plot\n",
    "plt.hist([x1, x2], bins=np.linspace(0, 10, 10), density=True,color=['#3C5DA1', '#469B55'],  label=['Designite', 'LAMP'])\n",
    "plt.set(title= \"CC Distribution\", xlabel= 'Cyclomatic Complexity', ylabel='Density')\n",
    "plt.legend()\n",
    "# plt.savefig('images/lottie-CC.png')\n",
    "# plt.show()"
   ],
   "metadata": {
    "collapsed": false
   }
  },
  {
   "cell_type": "markdown",
   "source": [
    "## Unit - Parameter Count"
   ],
   "metadata": {
    "collapsed": false
   }
  },
  {
   "cell_type": "code",
   "execution_count": 125,
   "outputs": [
    {
     "name": "stdout",
     "output_type": "stream",
     "text": [
      "                                           DeclarableId  D_PC  L_PC\n",
      "0                 com.google.gson.JsonArray://JsonArray     0     0\n",
      "1                 com.google.gson.JsonArray://JsonArray     0     1\n",
      "2                 com.google.gson.JsonArray://JsonArray     1     0\n",
      "3                 com.google.gson.JsonArray://JsonArray     1     1\n",
      "4                  com.google.gson.JsonArray://deepCopy     0     0\n",
      "...                                                 ...   ...   ...\n",
      "1010  com.google.gson.internal.sql.SqlDateTypeAdapte...     1     1\n",
      "1011  com.google.gson.internal.sql.SqlDateTypeAdapte...     2     2\n",
      "1012  com.google.gson.internal.sql.SqlTimestampTypeA...     1     1\n",
      "1013  com.google.gson.internal.sql.SqlTimestampTypeA...     1     1\n",
      "1014  com.google.gson.internal.sql.SqlTimestampTypeA...     2     2\n",
      "\n",
      "[1015 rows x 3 columns]\n"
     ]
    }
   ],
   "source": [
    "pc = m_units[['DeclarableId', 'D_PC', 'L_PC']]\n",
    "print(pc)"
   ],
   "metadata": {
    "collapsed": false
   }
  },
  {
   "cell_type": "code",
   "execution_count": 126,
   "outputs": [
    {
     "data": {
      "text/plain": "<matplotlib.legend.Legend at 0x1266efbe0>"
     },
     "execution_count": 126,
     "metadata": {},
     "output_type": "execute_result"
    }
   ],
   "source": [
    "x1 = m_units['D_PC']\n",
    "x2 = m_units['L_PC']\n",
    "\n",
    "plt = axis[3, 0]\n",
    "\n",
    "# Plot\n",
    "plt.hist([x1, x2], bins=np.linspace(0, 10, 10), density=True, color=['#3C5DA1', '#469B55'],  label=['Designite', 'LAMP'])\n",
    "plt.set(title= \"PC Distribution\", xlabel= 'Parameter Count', ylabel='Density')\n",
    "plt.legend()\n",
    "# plt.savefig('images/lottie-PC.png')\n",
    "# plt.show()"
   ],
   "metadata": {
    "collapsed": false
   }
  },
  {
   "cell_type": "code",
   "execution_count": 127,
   "outputs": [],
   "source": [
    "figure.delaxes(axis[3, 1])"
   ],
   "metadata": {
    "collapsed": false
   }
  },
  {
   "cell_type": "code",
   "execution_count": 128,
   "outputs": [
    {
     "data": {
      "text/plain": "<Figure size 1000x1500 with 7 Axes>",
      "image/png": "[encoded data removed]"
     },
     "execution_count": 128,
     "metadata": {},
     "output_type": "execute_result"
    }
   ],
   "source": [
    "figure.tight_layout()\n",
    "figure.savefig('images/gson-metrics.png')\n",
    "figure"
   ],
   "metadata": {
    "collapsed": false
   }
  }
 ],
 "metadata": {
  "kernelspec": {
   "display_name": "Python 3",
   "language": "python",
   "name": "python3"
  },
  "language_info": {
   "codemirror_mode": {
    "name": "ipython",
    "version": 2
   },
   "file_extension": ".py",
   "mimetype": "text/x-python",
   "name": "python",
   "nbconvert_exporter": "python",
   "pygments_lexer": "ipython2",
   "version": "2.7.6"
  }
 },
 "nbformat": 4,
 "nbformat_minor": 0
}
